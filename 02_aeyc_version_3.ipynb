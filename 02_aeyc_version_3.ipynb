{
 "cells": [
  {
   "cell_type": "markdown",
   "metadata": {},
   "source": [
    "# Análisis Exploratorio y Curación de Datos\n",
    "\n",
    "**Todo ejercicio debe tener un análisis fundamentado en la teoría vista en la materia, dicho análisis sera parte del informe a entregar en pdf**"
   ]
  },
  {
   "cell_type": "markdown",
   "metadata": {},
   "source": [
    "El *dataset* contiene las siguientes columnas:\n",
    "\n",
    "- **rac y dec** = Posición angular, rac de 0 a 360 y dec de -90 a 90\n",
    "- **Mag_u,Mag_g,Mag_r,Mag_i,Mag_z**= Estas variables representan una fracción de la luz total que observamos de las galaxias según su frecuencia (como por ejemplo, la frecuencia de radio, para más información [wiki](https://es.wikipedia.org/wiki/Espectro_visible))\n",
    "- **z** = Es una medida de la distancia a la que se encuentra la galaxia\n",
    "- **R** = Es una medida del tamaño de la galaxia\n",
    "- **color**= Como su nombre lo indica es el color más predominante en la galaxia\n",
    "- **elíptica, espiral, irregular**= Estas columnas identifican el tipo de morfología de las galaxias. Si el valor de una de estas tres columnas es 1, entonces la galaxia tiene esa morfología y las dos restantes tendran el valor 0. "
   ]
  },
  {
   "cell_type": "markdown",
   "metadata": {},
   "source": [
    "# Paquetes necesarios "
   ]
  },
  {
   "cell_type": "code",
   "execution_count": 1,
   "metadata": {},
   "outputs": [],
   "source": [
    "# LIBRERÍAS\n",
    "import pandas as pd\n",
    "import matplotlib.pyplot as plt\n",
    "import matplotlib.image as mpimg\n",
    "import numpy as np\n",
    "\n",
    "# LIBRERÍAS ESPECIFICAS DE ASTRONOMÍA\n",
    "from astropy.io import ascii\n",
    "from astropy.coordinates import SkyCoord\n",
    "from astropy import units\n",
    "from astropy import units as u\n",
    "from astroquery.skyview import SkyView\n",
    "\n",
    "# LIBRERÍA PARA ANALIZAR DATOS FALTANTES\n",
    "import missingno as msno\n",
    "\n",
    "import seaborn\n",
    "seaborn.set_context('talk')\n",
    "\n",
    "from utils import *"
   ]
  },
  {
   "cell_type": "markdown",
   "metadata": {},
   "source": [
    "# AEyC"
   ]
  },
  {
   "cell_type": "markdown",
   "metadata": {},
   "source": [
    "### Cargar el conjunto de datos 'galaxias1.csv' como un DataFrame, el mismo tiene las propiedades físicas de las galaxias.\n",
    "\n",
    "- Definir el id como index del DataFrame\n",
    "- Mostrar el tipo de dato de cada columna \n",
    "- Observar si hay filas e indices duplicados, en caso de encontrar valores duplicados decida si los mismos deben ser eliminados, justifique por qué.\n",
    "- Realicen algunas exploraciones más sobre el dataset\n",
    "- Remplaze los valores faltantes/NaN/carentes de sentido físico con **KNNImputer**\n",
    "- Elimine los *outliers* de cada Feature (ver defición de valores atípicos o *outliers* en boxplot.pdf), indique el porcentaje de valores que se están eliminando\n",
    "- Genere un nuevo DataFramen (df1). "
   ]
  },
  {
   "cell_type": "markdown",
   "metadata": {},
   "source": [
    "### Carga y lectura de archivo galaxias_1.csv"
   ]
  },
  {
   "cell_type": "code",
   "execution_count": 2,
   "metadata": {},
   "outputs": [],
   "source": [
    "data_original = pd.read_csv('galaxias_1.csv', sep=',')"
   ]
  },
  {
   "cell_type": "code",
   "execution_count": 3,
   "metadata": {},
   "outputs": [
    {
     "data": {
      "text/html": [
       "<div>\n",
       "<style scoped>\n",
       "    .dataframe tbody tr th:only-of-type {\n",
       "        vertical-align: middle;\n",
       "    }\n",
       "\n",
       "    .dataframe tbody tr th {\n",
       "        vertical-align: top;\n",
       "    }\n",
       "\n",
       "    .dataframe thead th {\n",
       "        text-align: right;\n",
       "    }\n",
       "</style>\n",
       "<table border=\"1\" class=\"dataframe\">\n",
       "  <thead>\n",
       "    <tr style=\"text-align: right;\">\n",
       "      <th></th>\n",
       "      <th>objID</th>\n",
       "      <th>ra</th>\n",
       "      <th>dec</th>\n",
       "      <th>modelMag_u</th>\n",
       "      <th>modelMag_g</th>\n",
       "      <th>modelMag_r</th>\n",
       "      <th>modelMag_i</th>\n",
       "      <th>modelMag_z</th>\n",
       "      <th>petroR90_r</th>\n",
       "      <th>z</th>\n",
       "      <th>Color</th>\n",
       "      <th>elliptical</th>\n",
       "      <th>spiral</th>\n",
       "      <th>uncertain</th>\n",
       "    </tr>\n",
       "  </thead>\n",
       "  <tbody>\n",
       "    <tr>\n",
       "      <th>19572</th>\n",
       "      <td>1,23765760749765E+018</td>\n",
       "      <td>123.805910</td>\n",
       "      <td>36.776563</td>\n",
       "      <td>19.08556</td>\n",
       "      <td>17.54430</td>\n",
       "      <td>16.84741</td>\n",
       "      <td>16.37789</td>\n",
       "      <td>15.99599</td>\n",
       "      <td>14.431050</td>\n",
       "      <td>0.042094</td>\n",
       "      <td>-2.238153</td>\n",
       "      <td>0</td>\n",
       "      <td>1</td>\n",
       "      <td>0</td>\n",
       "    </tr>\n",
       "    <tr>\n",
       "      <th>47594</th>\n",
       "      <td>1,23766230727184E+018</td>\n",
       "      <td>236.671434</td>\n",
       "      <td>30.351393</td>\n",
       "      <td>17.46831</td>\n",
       "      <td>15.71435</td>\n",
       "      <td>14.97788</td>\n",
       "      <td>14.63240</td>\n",
       "      <td>14.36831</td>\n",
       "      <td>8.411476</td>\n",
       "      <td>0.031949</td>\n",
       "      <td>-2.490435</td>\n",
       "      <td>0</td>\n",
       "      <td>0</td>\n",
       "      <td>1</td>\n",
       "    </tr>\n",
       "    <tr>\n",
       "      <th>55860</th>\n",
       "      <td>1,23766410470287E+018</td>\n",
       "      <td>145.460739</td>\n",
       "      <td>10.748317</td>\n",
       "      <td>18.29736</td>\n",
       "      <td>16.44632</td>\n",
       "      <td>15.57925</td>\n",
       "      <td>15169.00000</td>\n",
       "      <td>14.84991</td>\n",
       "      <td>6.944691</td>\n",
       "      <td>0.048422</td>\n",
       "      <td>-2.718111</td>\n",
       "      <td>1</td>\n",
       "      <td>0</td>\n",
       "      <td>0</td>\n",
       "    </tr>\n",
       "    <tr>\n",
       "      <th>59474</th>\n",
       "      <td>1,23767193604129E+018</td>\n",
       "      <td>254.650370</td>\n",
       "      <td>40.699307</td>\n",
       "      <td>19.25356</td>\n",
       "      <td>17.93743</td>\n",
       "      <td>17.56856</td>\n",
       "      <td>17.32045</td>\n",
       "      <td>17.48283</td>\n",
       "      <td>10.043970</td>\n",
       "      <td>0.029990</td>\n",
       "      <td>-1.685001</td>\n",
       "      <td>0</td>\n",
       "      <td>0</td>\n",
       "      <td>1</td>\n",
       "    </tr>\n",
       "    <tr>\n",
       "      <th>85848</th>\n",
       "      <td>1,23765549597865E+018</td>\n",
       "      <td>201.394331</td>\n",
       "      <td>-1.553074</td>\n",
       "      <td>18.78843</td>\n",
       "      <td>17.29002</td>\n",
       "      <td>16.83778</td>\n",
       "      <td>16.53923</td>\n",
       "      <td>16.35315</td>\n",
       "      <td>10.911070</td>\n",
       "      <td>0.044366</td>\n",
       "      <td>-1.950645</td>\n",
       "      <td>0</td>\n",
       "      <td>0</td>\n",
       "      <td>1</td>\n",
       "    </tr>\n",
       "    <tr>\n",
       "      <th>74158</th>\n",
       "      <td>1,23765933031568E+018</td>\n",
       "      <td>247.710673</td>\n",
       "      <td>38.763312</td>\n",
       "      <td>17.68026</td>\n",
       "      <td>16.85565</td>\n",
       "      <td>16.58565</td>\n",
       "      <td>16.41258</td>\n",
       "      <td>16.29905</td>\n",
       "      <td>8.365392</td>\n",
       "      <td>0.032376</td>\n",
       "      <td>-1.094606</td>\n",
       "      <td>0</td>\n",
       "      <td>0</td>\n",
       "      <td>1</td>\n",
       "    </tr>\n",
       "    <tr>\n",
       "      <th>76077</th>\n",
       "      <td>1,23766185147479E+018</td>\n",
       "      <td>202.183564</td>\n",
       "      <td>43.930695</td>\n",
       "      <td>16.49429</td>\n",
       "      <td>16.11075</td>\n",
       "      <td>16.33185</td>\n",
       "      <td>16.39906</td>\n",
       "      <td>16.42290</td>\n",
       "      <td>4.055253</td>\n",
       "      <td>0.027969</td>\n",
       "      <td>-0.162436</td>\n",
       "      <td>0</td>\n",
       "      <td>0</td>\n",
       "      <td>1</td>\n",
       "    </tr>\n",
       "    <tr>\n",
       "      <th>23690</th>\n",
       "      <td>1,23766230727544E+018</td>\n",
       "      <td>244.334041</td>\n",
       "      <td>25.657786</td>\n",
       "      <td>19.55392</td>\n",
       "      <td>18.20434</td>\n",
       "      <td>17.66943</td>\n",
       "      <td>17.42545</td>\n",
       "      <td>17.24907</td>\n",
       "      <td>10.020170</td>\n",
       "      <td>0.048300</td>\n",
       "      <td>-1.884485</td>\n",
       "      <td>0</td>\n",
       "      <td>0</td>\n",
       "      <td>1</td>\n",
       "    </tr>\n",
       "    <tr>\n",
       "      <th>48367</th>\n",
       "      <td>1,23766230244629E+018</td>\n",
       "      <td>244.040661</td>\n",
       "      <td>34.165787</td>\n",
       "      <td>18.49640</td>\n",
       "      <td>17.20975</td>\n",
       "      <td>16.81768</td>\n",
       "      <td>16.56079</td>\n",
       "      <td>16.46296</td>\n",
       "      <td>8.123385</td>\n",
       "      <td>0.037806</td>\n",
       "      <td>-1.678722</td>\n",
       "      <td>0</td>\n",
       "      <td>0</td>\n",
       "      <td>1</td>\n",
       "    </tr>\n",
       "    <tr>\n",
       "      <th>86474</th>\n",
       "      <td>1,23764872121811E+018</td>\n",
       "      <td>151.220749</td>\n",
       "      <td>-0.058335</td>\n",
       "      <td>17.58110</td>\n",
       "      <td>16.14195</td>\n",
       "      <td>15.44801</td>\n",
       "      <td>15.06701</td>\n",
       "      <td>14.78960</td>\n",
       "      <td>18.357700</td>\n",
       "      <td>0.021477</td>\n",
       "      <td>-2.133091</td>\n",
       "      <td>0</td>\n",
       "      <td>1</td>\n",
       "      <td>0</td>\n",
       "    </tr>\n",
       "  </tbody>\n",
       "</table>\n",
       "</div>"
      ],
      "text/plain": [
       "                       objID          ra        dec  modelMag_u  modelMag_g  \\\n",
       "19572  1,23765760749765E+018  123.805910  36.776563    19.08556    17.54430   \n",
       "47594  1,23766230727184E+018  236.671434  30.351393    17.46831    15.71435   \n",
       "55860  1,23766410470287E+018  145.460739  10.748317    18.29736    16.44632   \n",
       "59474  1,23767193604129E+018  254.650370  40.699307    19.25356    17.93743   \n",
       "85848  1,23765549597865E+018  201.394331  -1.553074    18.78843    17.29002   \n",
       "74158  1,23765933031568E+018  247.710673  38.763312    17.68026    16.85565   \n",
       "76077  1,23766185147479E+018  202.183564  43.930695    16.49429    16.11075   \n",
       "23690  1,23766230727544E+018  244.334041  25.657786    19.55392    18.20434   \n",
       "48367  1,23766230244629E+018  244.040661  34.165787    18.49640    17.20975   \n",
       "86474  1,23764872121811E+018  151.220749  -0.058335    17.58110    16.14195   \n",
       "\n",
       "       modelMag_r   modelMag_i  modelMag_z  petroR90_r         z     Color  \\\n",
       "19572    16.84741     16.37789    15.99599   14.431050  0.042094 -2.238153   \n",
       "47594    14.97788     14.63240    14.36831    8.411476  0.031949 -2.490435   \n",
       "55860    15.57925  15169.00000    14.84991    6.944691  0.048422 -2.718111   \n",
       "59474    17.56856     17.32045    17.48283   10.043970  0.029990 -1.685001   \n",
       "85848    16.83778     16.53923    16.35315   10.911070  0.044366 -1.950645   \n",
       "74158    16.58565     16.41258    16.29905    8.365392  0.032376 -1.094606   \n",
       "76077    16.33185     16.39906    16.42290    4.055253  0.027969 -0.162436   \n",
       "23690    17.66943     17.42545    17.24907   10.020170  0.048300 -1.884485   \n",
       "48367    16.81768     16.56079    16.46296    8.123385  0.037806 -1.678722   \n",
       "86474    15.44801     15.06701    14.78960   18.357700  0.021477 -2.133091   \n",
       "\n",
       "       elliptical  spiral  uncertain  \n",
       "19572           0       1          0  \n",
       "47594           0       0          1  \n",
       "55860           1       0          0  \n",
       "59474           0       0          1  \n",
       "85848           0       0          1  \n",
       "74158           0       0          1  \n",
       "76077           0       0          1  \n",
       "23690           0       0          1  \n",
       "48367           0       0          1  \n",
       "86474           0       1          0  "
      ]
     },
     "execution_count": 3,
     "metadata": {},
     "output_type": "execute_result"
    }
   ],
   "source": [
    "data_original.sample(10,random_state=123)"
   ]
  },
  {
   "cell_type": "code",
   "execution_count": 4,
   "metadata": {
    "tags": []
   },
   "outputs": [
    {
     "data": {
      "text/html": [
       "<div>\n",
       "<style scoped>\n",
       "    .dataframe tbody tr th:only-of-type {\n",
       "        vertical-align: middle;\n",
       "    }\n",
       "\n",
       "    .dataframe tbody tr th {\n",
       "        vertical-align: top;\n",
       "    }\n",
       "\n",
       "    .dataframe thead th {\n",
       "        text-align: right;\n",
       "    }\n",
       "</style>\n",
       "<table border=\"1\" class=\"dataframe\">\n",
       "  <thead>\n",
       "    <tr style=\"text-align: right;\">\n",
       "      <th></th>\n",
       "      <th>objID</th>\n",
       "      <th>ra</th>\n",
       "      <th>dec</th>\n",
       "      <th>modelMag_u</th>\n",
       "      <th>modelMag_g</th>\n",
       "      <th>modelMag_r</th>\n",
       "      <th>modelMag_i</th>\n",
       "      <th>modelMag_z</th>\n",
       "      <th>petroR90_r</th>\n",
       "      <th>z</th>\n",
       "      <th>Color</th>\n",
       "      <th>elliptical</th>\n",
       "      <th>spiral</th>\n",
       "      <th>uncertain</th>\n",
       "    </tr>\n",
       "  </thead>\n",
       "  <tbody>\n",
       "    <tr>\n",
       "      <th>27154</th>\n",
       "      <td>1,2376602397775E+018</td>\n",
       "      <td>51.560433</td>\n",
       "      <td>-0.687173</td>\n",
       "      <td>18.40323</td>\n",
       "      <td>17.33583</td>\n",
       "      <td>16.96393</td>\n",
       "      <td>16.76737</td>\n",
       "      <td>16.63186</td>\n",
       "      <td>10.294210</td>\n",
       "      <td>0.021650</td>\n",
       "      <td>-1.439301</td>\n",
       "      <td>0</td>\n",
       "      <td>1</td>\n",
       "      <td>0</td>\n",
       "    </tr>\n",
       "    <tr>\n",
       "      <th>70897</th>\n",
       "      <td>1,2376570700894E+018</td>\n",
       "      <td>36.596322</td>\n",
       "      <td>-0.491854</td>\n",
       "      <td>18.82296</td>\n",
       "      <td>17.77973</td>\n",
       "      <td>17.47922</td>\n",
       "      <td>17.17294</td>\n",
       "      <td>17.02636</td>\n",
       "      <td>8.950567</td>\n",
       "      <td>0.021148</td>\n",
       "      <td>-1.343746</td>\n",
       "      <td>0</td>\n",
       "      <td>0</td>\n",
       "      <td>1</td>\n",
       "    </tr>\n",
       "    <tr>\n",
       "      <th>42390</th>\n",
       "      <td>1,23765173738229E+018</td>\n",
       "      <td>213.595792</td>\n",
       "      <td>2.978021</td>\n",
       "      <td>17.07984</td>\n",
       "      <td>15.18035</td>\n",
       "      <td>14.26774</td>\n",
       "      <td>13.82781</td>\n",
       "      <td>13.50114</td>\n",
       "      <td>23.141960</td>\n",
       "      <td>0.026165</td>\n",
       "      <td>-2.812099</td>\n",
       "      <td>0</td>\n",
       "      <td>0</td>\n",
       "      <td>1</td>\n",
       "    </tr>\n",
       "    <tr>\n",
       "      <th>46077</th>\n",
       "      <td>1,23766224659579E+018</td>\n",
       "      <td>209.583963</td>\n",
       "      <td>7.225087</td>\n",
       "      <td>16.07774</td>\n",
       "      <td>14.77386</td>\n",
       "      <td>14.13092</td>\n",
       "      <td>13.78163</td>\n",
       "      <td>13.47233</td>\n",
       "      <td>24.426840</td>\n",
       "      <td>0.024556</td>\n",
       "      <td>-1.946819</td>\n",
       "      <td>0</td>\n",
       "      <td>1</td>\n",
       "      <td>0</td>\n",
       "    </tr>\n",
       "    <tr>\n",
       "      <th>73582</th>\n",
       "      <td>1,23766195135015E+018</td>\n",
       "      <td>235.731238</td>\n",
       "      <td>9.228520</td>\n",
       "      <td>18.11033</td>\n",
       "      <td>16.22853</td>\n",
       "      <td>15.27528</td>\n",
       "      <td>14.73241</td>\n",
       "      <td>14.31919</td>\n",
       "      <td>20.973250</td>\n",
       "      <td>0.034623</td>\n",
       "      <td>-2.835043</td>\n",
       "      <td>0</td>\n",
       "      <td>1</td>\n",
       "      <td>0</td>\n",
       "    </tr>\n",
       "    <tr>\n",
       "      <th>...</th>\n",
       "      <td>...</td>\n",
       "      <td>...</td>\n",
       "      <td>...</td>\n",
       "      <td>...</td>\n",
       "      <td>...</td>\n",
       "      <td>...</td>\n",
       "      <td>...</td>\n",
       "      <td>...</td>\n",
       "      <td>...</td>\n",
       "      <td>...</td>\n",
       "      <td>...</td>\n",
       "      <td>...</td>\n",
       "      <td>...</td>\n",
       "      <td>...</td>\n",
       "    </tr>\n",
       "    <tr>\n",
       "      <th>77030</th>\n",
       "      <td>1,23766135700796E+018</td>\n",
       "      <td>186.371858</td>\n",
       "      <td>47.273205</td>\n",
       "      <td>16.05042</td>\n",
       "      <td>14.34547</td>\n",
       "      <td>13.53434</td>\n",
       "      <td>13.15750</td>\n",
       "      <td>12.84926</td>\n",
       "      <td>23.705170</td>\n",
       "      <td>0.024868</td>\n",
       "      <td>-2.516076</td>\n",
       "      <td>0</td>\n",
       "      <td>1</td>\n",
       "      <td>0</td>\n",
       "    </tr>\n",
       "    <tr>\n",
       "      <th>87068</th>\n",
       "      <td>1,23766143484671E+018</td>\n",
       "      <td>189.890009</td>\n",
       "      <td>47.623285</td>\n",
       "      <td>15.83679</td>\n",
       "      <td>14.45774</td>\n",
       "      <td>13.80969</td>\n",
       "      <td>13.44220</td>\n",
       "      <td>13.18542</td>\n",
       "      <td>23.371910</td>\n",
       "      <td>0.024251</td>\n",
       "      <td>-2.027100</td>\n",
       "      <td>0</td>\n",
       "      <td>1</td>\n",
       "      <td>0</td>\n",
       "    </tr>\n",
       "    <tr>\n",
       "      <th>11357</th>\n",
       "      <td>1,23766143538437E+018</td>\n",
       "      <td>192.665965</td>\n",
       "      <td>47.933419</td>\n",
       "      <td>18.05920</td>\n",
       "      <td>15.64427</td>\n",
       "      <td>14.63559</td>\n",
       "      <td>14.08723</td>\n",
       "      <td>13.76011</td>\n",
       "      <td>13.652620</td>\n",
       "      <td>0.029494</td>\n",
       "      <td>-3.423610</td>\n",
       "      <td>0</td>\n",
       "      <td>1</td>\n",
       "      <td>0</td>\n",
       "    </tr>\n",
       "    <tr>\n",
       "      <th>90046</th>\n",
       "      <td>1,23765534781217E+018</td>\n",
       "      <td>220.906458</td>\n",
       "      <td>56.772679</td>\n",
       "      <td>18.49025</td>\n",
       "      <td>16.62319</td>\n",
       "      <td>15.77129</td>\n",
       "      <td>15.35340</td>\n",
       "      <td>15.02012</td>\n",
       "      <td>7.065283</td>\n",
       "      <td>0.042816</td>\n",
       "      <td>-2.718963</td>\n",
       "      <td>0</td>\n",
       "      <td>0</td>\n",
       "      <td>1</td>\n",
       "    </tr>\n",
       "    <tr>\n",
       "      <th>90543</th>\n",
       "      <td>1,2376576128754E+018</td>\n",
       "      <td>173.853363</td>\n",
       "      <td>57.649959</td>\n",
       "      <td>15.99944</td>\n",
       "      <td>14.59905</td>\n",
       "      <td>13.90136</td>\n",
       "      <td>13.52792</td>\n",
       "      <td>13.27292</td>\n",
       "      <td>16.787860</td>\n",
       "      <td>0.028701</td>\n",
       "      <td>-2.098079</td>\n",
       "      <td>0</td>\n",
       "      <td>1</td>\n",
       "      <td>0</td>\n",
       "    </tr>\n",
       "  </tbody>\n",
       "</table>\n",
       "<p>61 rows × 14 columns</p>\n",
       "</div>"
      ],
      "text/plain": [
       "                       objID          ra        dec  modelMag_u  modelMag_g  \\\n",
       "27154   1,2376602397775E+018   51.560433  -0.687173    18.40323    17.33583   \n",
       "70897   1,2376570700894E+018   36.596322  -0.491854    18.82296    17.77973   \n",
       "42390  1,23765173738229E+018  213.595792   2.978021    17.07984    15.18035   \n",
       "46077  1,23766224659579E+018  209.583963   7.225087    16.07774    14.77386   \n",
       "73582  1,23766195135015E+018  235.731238   9.228520    18.11033    16.22853   \n",
       "...                      ...         ...        ...         ...         ...   \n",
       "77030  1,23766135700796E+018  186.371858  47.273205    16.05042    14.34547   \n",
       "87068  1,23766143484671E+018  189.890009  47.623285    15.83679    14.45774   \n",
       "11357  1,23766143538437E+018  192.665965  47.933419    18.05920    15.64427   \n",
       "90046  1,23765534781217E+018  220.906458  56.772679    18.49025    16.62319   \n",
       "90543   1,2376576128754E+018  173.853363  57.649959    15.99944    14.59905   \n",
       "\n",
       "       modelMag_r  modelMag_i  modelMag_z  petroR90_r         z     Color  \\\n",
       "27154    16.96393    16.76737    16.63186   10.294210  0.021650 -1.439301   \n",
       "70897    17.47922    17.17294    17.02636    8.950567  0.021148 -1.343746   \n",
       "42390    14.26774    13.82781    13.50114   23.141960  0.026165 -2.812099   \n",
       "46077    14.13092    13.78163    13.47233   24.426840  0.024556 -1.946819   \n",
       "73582    15.27528    14.73241    14.31919   20.973250  0.034623 -2.835043   \n",
       "...           ...         ...         ...         ...       ...       ...   \n",
       "77030    13.53434    13.15750    12.84926   23.705170  0.024868 -2.516076   \n",
       "87068    13.80969    13.44220    13.18542   23.371910  0.024251 -2.027100   \n",
       "11357    14.63559    14.08723    13.76011   13.652620  0.029494 -3.423610   \n",
       "90046    15.77129    15.35340    15.02012    7.065283  0.042816 -2.718963   \n",
       "90543    13.90136    13.52792    13.27292   16.787860  0.028701 -2.098079   \n",
       "\n",
       "       elliptical  spiral  uncertain  \n",
       "27154           0       1          0  \n",
       "70897           0       0          1  \n",
       "42390           0       0          1  \n",
       "46077           0       1          0  \n",
       "73582           0       1          0  \n",
       "...           ...     ...        ...  \n",
       "77030           0       1          0  \n",
       "87068           0       1          0  \n",
       "11357           0       1          0  \n",
       "90046           0       0          1  \n",
       "90543           0       1          0  \n",
       "\n",
       "[61 rows x 14 columns]"
      ]
     },
     "execution_count": 4,
     "metadata": {},
     "output_type": "execute_result"
    }
   ],
   "source": [
    "data_original[data_original.duplicated()].sort_values(['dec'])"
   ]
  },
  {
   "cell_type": "code",
   "execution_count": 5,
   "metadata": {
    "tags": []
   },
   "outputs": [
    {
     "data": {
      "text/html": [
       "<div>\n",
       "<style scoped>\n",
       "    .dataframe tbody tr th:only-of-type {\n",
       "        vertical-align: middle;\n",
       "    }\n",
       "\n",
       "    .dataframe tbody tr th {\n",
       "        vertical-align: top;\n",
       "    }\n",
       "\n",
       "    .dataframe thead th {\n",
       "        text-align: right;\n",
       "    }\n",
       "</style>\n",
       "<table border=\"1\" class=\"dataframe\">\n",
       "  <thead>\n",
       "    <tr style=\"text-align: right;\">\n",
       "      <th></th>\n",
       "      <th>objID</th>\n",
       "      <th>ra</th>\n",
       "      <th>dec</th>\n",
       "      <th>modelMag_u</th>\n",
       "      <th>modelMag_g</th>\n",
       "      <th>modelMag_r</th>\n",
       "      <th>modelMag_i</th>\n",
       "      <th>modelMag_z</th>\n",
       "      <th>petroR90_r</th>\n",
       "      <th>z</th>\n",
       "      <th>Color</th>\n",
       "      <th>elliptical</th>\n",
       "      <th>spiral</th>\n",
       "      <th>uncertain</th>\n",
       "    </tr>\n",
       "  </thead>\n",
       "  <tbody>\n",
       "    <tr>\n",
       "      <th>66786</th>\n",
       "      <td>1,23764594397649E+018</td>\n",
       "      <td>50.827067</td>\n",
       "      <td>0.939875</td>\n",
       "      <td>18.73190</td>\n",
       "      <td>17.42271</td>\n",
       "      <td>16.80514</td>\n",
       "      <td>16.47006</td>\n",
       "      <td>16.18039</td>\n",
       "      <td>4.835532</td>\n",
       "      <td>0.036489</td>\n",
       "      <td>-1.926760</td>\n",
       "      <td>0</td>\n",
       "      <td>0</td>\n",
       "      <td>1</td>\n",
       "    </tr>\n",
       "    <tr>\n",
       "      <th>66787</th>\n",
       "      <td>1,23764594397649E+018</td>\n",
       "      <td>50.827067</td>\n",
       "      <td>0.939875</td>\n",
       "      <td>18.73190</td>\n",
       "      <td>17.42271</td>\n",
       "      <td>16.80514</td>\n",
       "      <td>16.47006</td>\n",
       "      <td>16.18039</td>\n",
       "      <td>4.835532</td>\n",
       "      <td>0.036678</td>\n",
       "      <td>-1.926760</td>\n",
       "      <td>0</td>\n",
       "      <td>0</td>\n",
       "      <td>1</td>\n",
       "    </tr>\n",
       "    <tr>\n",
       "      <th>26722</th>\n",
       "      <td>1,23764594397741E+018</td>\n",
       "      <td>52.935881</td>\n",
       "      <td>1.047554</td>\n",
       "      <td>18.82419</td>\n",
       "      <td>17.60955</td>\n",
       "      <td>17.07287</td>\n",
       "      <td>16.79243</td>\n",
       "      <td>16.64695</td>\n",
       "      <td>8.152502</td>\n",
       "      <td>0.031016</td>\n",
       "      <td>-1.751318</td>\n",
       "      <td>0</td>\n",
       "      <td>0</td>\n",
       "      <td>1</td>\n",
       "    </tr>\n",
       "    <tr>\n",
       "      <th>25502</th>\n",
       "      <td>1,23764594397833E+018</td>\n",
       "      <td>55.053168</td>\n",
       "      <td>0.885874</td>\n",
       "      <td>18.97668</td>\n",
       "      <td>17.53440</td>\n",
       "      <td>17.04177</td>\n",
       "      <td>16.80851</td>\n",
       "      <td>16.66080</td>\n",
       "      <td>13.054510</td>\n",
       "      <td>0.038794</td>\n",
       "      <td>-1.934912</td>\n",
       "      <td>0</td>\n",
       "      <td>1</td>\n",
       "      <td>0</td>\n",
       "    </tr>\n",
       "    <tr>\n",
       "      <th>90834</th>\n",
       "      <td>1,23764594397839E+018</td>\n",
       "      <td>55.123625</td>\n",
       "      <td>0.872487</td>\n",
       "      <td>18.28252</td>\n",
       "      <td>16.52093</td>\n",
       "      <td>15.60923</td>\n",
       "      <td>15.08733</td>\n",
       "      <td>14.62764</td>\n",
       "      <td>18.851100</td>\n",
       "      <td>0.040696</td>\n",
       "      <td>-2.673291</td>\n",
       "      <td>0</td>\n",
       "      <td>1</td>\n",
       "      <td>0</td>\n",
       "    </tr>\n",
       "    <tr>\n",
       "      <th>...</th>\n",
       "      <td>...</td>\n",
       "      <td>...</td>\n",
       "      <td>...</td>\n",
       "      <td>...</td>\n",
       "      <td>...</td>\n",
       "      <td>...</td>\n",
       "      <td>...</td>\n",
       "      <td>...</td>\n",
       "      <td>...</td>\n",
       "      <td>...</td>\n",
       "      <td>...</td>\n",
       "      <td>...</td>\n",
       "      <td>...</td>\n",
       "      <td>...</td>\n",
       "    </tr>\n",
       "    <tr>\n",
       "      <th>52705</th>\n",
       "      <td>1,23768024090634E+018</td>\n",
       "      <td>343.304171</td>\n",
       "      <td>-8.196775</td>\n",
       "      <td>17.33667</td>\n",
       "      <td>16.14818</td>\n",
       "      <td>15.62663</td>\n",
       "      <td>15.34346</td>\n",
       "      <td>15.02331</td>\n",
       "      <td>9.619887</td>\n",
       "      <td>0.027473</td>\n",
       "      <td>-1.710036</td>\n",
       "      <td>0</td>\n",
       "      <td>1</td>\n",
       "      <td>0</td>\n",
       "    </tr>\n",
       "    <tr>\n",
       "      <th>60607</th>\n",
       "      <td>1,23768024091132E+018</td>\n",
       "      <td>354.835710</td>\n",
       "      <td>-8.619133</td>\n",
       "      <td>17.36271</td>\n",
       "      <td>16.13077</td>\n",
       "      <td>15.52814</td>\n",
       "      <td>15.21014</td>\n",
       "      <td>14.93630</td>\n",
       "      <td>11.476360</td>\n",
       "      <td>0.034090</td>\n",
       "      <td>-1.834565</td>\n",
       "      <td>1</td>\n",
       "      <td>0</td>\n",
       "      <td>0</td>\n",
       "    </tr>\n",
       "    <tr>\n",
       "      <th>30215</th>\n",
       "      <td>1,23768024092351E+018</td>\n",
       "      <td>22.998652</td>\n",
       "      <td>-8.275140</td>\n",
       "      <td>19.65293</td>\n",
       "      <td>17.09929</td>\n",
       "      <td>16.17692</td>\n",
       "      <td>15.70902</td>\n",
       "      <td>15.34659</td>\n",
       "      <td>9.233762</td>\n",
       "      <td>0.040648</td>\n",
       "      <td>-3.476006</td>\n",
       "      <td>0</td>\n",
       "      <td>1</td>\n",
       "      <td>0</td>\n",
       "    </tr>\n",
       "    <tr>\n",
       "      <th>14518</th>\n",
       "      <td>1,23768024143423E+018</td>\n",
       "      <td>322.765171</td>\n",
       "      <td>-6.232822</td>\n",
       "      <td>19.10234</td>\n",
       "      <td>17.69802</td>\n",
       "      <td>17.36507</td>\n",
       "      <td>17.23353</td>\n",
       "      <td>17.14699</td>\n",
       "      <td>6.579560</td>\n",
       "      <td>0.024794</td>\n",
       "      <td>-1.737274</td>\n",
       "      <td>0</td>\n",
       "      <td>0</td>\n",
       "      <td>1</td>\n",
       "    </tr>\n",
       "    <tr>\n",
       "      <th>61655</th>\n",
       "      <td>1,23768024143443E+018</td>\n",
       "      <td>323.155845</td>\n",
       "      <td>-6.259443</td>\n",
       "      <td>19.15835</td>\n",
       "      <td>18.17781</td>\n",
       "      <td>17.93725</td>\n",
       "      <td>17.75966</td>\n",
       "      <td>17.64644</td>\n",
       "      <td>5.666217</td>\n",
       "      <td>0.027930</td>\n",
       "      <td>-1.221102</td>\n",
       "      <td>0</td>\n",
       "      <td>0</td>\n",
       "      <td>1</td>\n",
       "    </tr>\n",
       "  </tbody>\n",
       "</table>\n",
       "<p>34421 rows × 14 columns</p>\n",
       "</div>"
      ],
      "text/plain": [
       "                       objID          ra       dec  modelMag_u  modelMag_g  \\\n",
       "66786  1,23764594397649E+018   50.827067  0.939875    18.73190    17.42271   \n",
       "66787  1,23764594397649E+018   50.827067  0.939875    18.73190    17.42271   \n",
       "26722  1,23764594397741E+018   52.935881  1.047554    18.82419    17.60955   \n",
       "25502  1,23764594397833E+018   55.053168  0.885874    18.97668    17.53440   \n",
       "90834  1,23764594397839E+018   55.123625  0.872487    18.28252    16.52093   \n",
       "...                      ...         ...       ...         ...         ...   \n",
       "52705  1,23768024090634E+018  343.304171 -8.196775    17.33667    16.14818   \n",
       "60607  1,23768024091132E+018  354.835710 -8.619133    17.36271    16.13077   \n",
       "30215  1,23768024092351E+018   22.998652 -8.275140    19.65293    17.09929   \n",
       "14518  1,23768024143423E+018  322.765171 -6.232822    19.10234    17.69802   \n",
       "61655  1,23768024143443E+018  323.155845 -6.259443    19.15835    18.17781   \n",
       "\n",
       "       modelMag_r  modelMag_i  modelMag_z  petroR90_r         z     Color  \\\n",
       "66786    16.80514    16.47006    16.18039    4.835532  0.036489 -1.926760   \n",
       "66787    16.80514    16.47006    16.18039    4.835532  0.036678 -1.926760   \n",
       "26722    17.07287    16.79243    16.64695    8.152502  0.031016 -1.751318   \n",
       "25502    17.04177    16.80851    16.66080   13.054510  0.038794 -1.934912   \n",
       "90834    15.60923    15.08733    14.62764   18.851100  0.040696 -2.673291   \n",
       "...           ...         ...         ...         ...       ...       ...   \n",
       "52705    15.62663    15.34346    15.02331    9.619887  0.027473 -1.710036   \n",
       "60607    15.52814    15.21014    14.93630   11.476360  0.034090 -1.834565   \n",
       "30215    16.17692    15.70902    15.34659    9.233762  0.040648 -3.476006   \n",
       "14518    17.36507    17.23353    17.14699    6.579560  0.024794 -1.737274   \n",
       "61655    17.93725    17.75966    17.64644    5.666217  0.027930 -1.221102   \n",
       "\n",
       "       elliptical  spiral  uncertain  \n",
       "66786           0       0          1  \n",
       "66787           0       0          1  \n",
       "26722           0       0          1  \n",
       "25502           0       1          0  \n",
       "90834           0       1          0  \n",
       "...           ...     ...        ...  \n",
       "52705           0       1          0  \n",
       "60607           1       0          0  \n",
       "30215           0       1          0  \n",
       "14518           0       0          1  \n",
       "61655           0       0          1  \n",
       "\n",
       "[34421 rows x 14 columns]"
      ]
     },
     "execution_count": 5,
     "metadata": {},
     "output_type": "execute_result"
    }
   ],
   "source": [
    "data_original[data_original.duplicated(subset=['objID'])].sort_values(['objID'])"
   ]
  },
  {
   "cell_type": "code",
   "execution_count": 6,
   "metadata": {},
   "outputs": [
    {
     "name": "stdout",
     "output_type": "stream",
     "text": [
      "El DataFrame cuenta con 92102 observaciones\n"
     ]
    }
   ],
   "source": [
    "print('El DataFrame cuenta con',format(data_original.count()[0]),'observaciones')"
   ]
  },
  {
   "cell_type": "code",
   "execution_count": 7,
   "metadata": {},
   "outputs": [
    {
     "name": "stdout",
     "output_type": "stream",
     "text": [
      "El DataFrame cuenta con 14 columnas\n"
     ]
    }
   ],
   "source": [
    "print('El DataFrame cuenta con',format(len(data_original.columns)),'columnas')"
   ]
  },
  {
   "cell_type": "markdown",
   "metadata": {},
   "source": [
    "Podemos decir que el dataframe cuenta con 92102 observaciones de galaxias, con información distribuida en 14 columnas."
   ]
  },
  {
   "cell_type": "markdown",
   "metadata": {},
   "source": [
    "### Definir el id como index del DataFrame"
   ]
  },
  {
   "cell_type": "code",
   "execution_count": 8,
   "metadata": {},
   "outputs": [
    {
     "data": {
      "text/plain": [
       "34421"
      ]
     },
     "execution_count": 8,
     "metadata": {},
     "output_type": "execute_result"
    }
   ],
   "source": [
    "data_original[data_original.duplicated(subset=['objID'], keep='first')].shape[0]"
   ]
  },
  {
   "cell_type": "code",
   "execution_count": 9,
   "metadata": {},
   "outputs": [
    {
     "data": {
      "text/plain": [
       "count                     92102\n",
       "unique                    57681\n",
       "top       1,23766630055458E+018\n",
       "freq                         61\n",
       "Name: objID, dtype: object"
      ]
     },
     "execution_count": 9,
     "metadata": {},
     "output_type": "execute_result"
    }
   ],
   "source": [
    "data_original['objID'].describe()"
   ]
  },
  {
   "cell_type": "code",
   "execution_count": 10,
   "metadata": {},
   "outputs": [],
   "source": [
    "new_data = data_original[~data_original.duplicated(keep='first')]"
   ]
  },
  {
   "cell_type": "markdown",
   "metadata": {},
   "source": [
    "Se pueden observar 34421 objID repetidos, suponemos que deben pertenecer a observaciones de galaxias identificadas de con el mismo objID. Se encuentran 61 filas que se repiten con todos sus datos. Se propone eliminar estas filas repetidas."
   ]
  },
  {
   "cell_type": "code",
   "execution_count": 11,
   "metadata": {},
   "outputs": [],
   "source": [
    "data = new_data.copy()"
   ]
  },
  {
   "cell_type": "code",
   "execution_count": 12,
   "metadata": {},
   "outputs": [
    {
     "data": {
      "text/html": [
       "<div>\n",
       "<style scoped>\n",
       "    .dataframe tbody tr th:only-of-type {\n",
       "        vertical-align: middle;\n",
       "    }\n",
       "\n",
       "    .dataframe tbody tr th {\n",
       "        vertical-align: top;\n",
       "    }\n",
       "\n",
       "    .dataframe thead th {\n",
       "        text-align: right;\n",
       "    }\n",
       "</style>\n",
       "<table border=\"1\" class=\"dataframe\">\n",
       "  <thead>\n",
       "    <tr style=\"text-align: right;\">\n",
       "      <th></th>\n",
       "      <th>ra</th>\n",
       "      <th>dec</th>\n",
       "      <th>modelMag_u</th>\n",
       "      <th>modelMag_g</th>\n",
       "      <th>modelMag_r</th>\n",
       "      <th>modelMag_i</th>\n",
       "      <th>modelMag_z</th>\n",
       "      <th>petroR90_r</th>\n",
       "      <th>z</th>\n",
       "      <th>Color</th>\n",
       "      <th>elliptical</th>\n",
       "      <th>spiral</th>\n",
       "      <th>uncertain</th>\n",
       "    </tr>\n",
       "    <tr>\n",
       "      <th>objID</th>\n",
       "      <th></th>\n",
       "      <th></th>\n",
       "      <th></th>\n",
       "      <th></th>\n",
       "      <th></th>\n",
       "      <th></th>\n",
       "      <th></th>\n",
       "      <th></th>\n",
       "      <th></th>\n",
       "      <th></th>\n",
       "      <th></th>\n",
       "      <th></th>\n",
       "      <th></th>\n",
       "    </tr>\n",
       "  </thead>\n",
       "  <tbody>\n",
       "    <tr>\n",
       "      <th>1,23765119242489E+018</th>\n",
       "      <td>116.519097</td>\n",
       "      <td>39.886407</td>\n",
       "      <td>17.76235</td>\n",
       "      <td>16.72601</td>\n",
       "      <td>16.33972</td>\n",
       "      <td>16.06614</td>\n",
       "      <td>15.90478</td>\n",
       "      <td>8.393773</td>\n",
       "      <td>0.041521</td>\n",
       "      <td>-1.422625</td>\n",
       "      <td>0</td>\n",
       "      <td>1</td>\n",
       "      <td>0</td>\n",
       "    </tr>\n",
       "    <tr>\n",
       "      <th>1,23765149575578E+018</th>\n",
       "      <td>116.451900</td>\n",
       "      <td>41.421270</td>\n",
       "      <td>18.12179</td>\n",
       "      <td>16.26214</td>\n",
       "      <td>15.39272</td>\n",
       "      <td>14.97515</td>\n",
       "      <td>14.65105</td>\n",
       "      <td>9.674847</td>\n",
       "      <td>0.040211</td>\n",
       "      <td>-2.729061</td>\n",
       "      <td>0</td>\n",
       "      <td>0</td>\n",
       "      <td>1</td>\n",
       "    </tr>\n",
       "    <tr>\n",
       "      <th>1,23767370611537E+018</th>\n",
       "      <td>115.946713</td>\n",
       "      <td>41.918877</td>\n",
       "      <td>18.57293</td>\n",
       "      <td>17.42053</td>\n",
       "      <td>17.01788</td>\n",
       "      <td>16.75617</td>\n",
       "      <td>16.70899</td>\n",
       "      <td>11.277470</td>\n",
       "      <td>0.024386</td>\n",
       "      <td>-1.555044</td>\n",
       "      <td>0</td>\n",
       "      <td>0</td>\n",
       "      <td>1</td>\n",
       "    </tr>\n",
       "    <tr>\n",
       "      <th>1,2376737066523E+018</th>\n",
       "      <td>116.051943</td>\n",
       "      <td>42.287231</td>\n",
       "      <td>21.37438</td>\n",
       "      <td>19.77335</td>\n",
       "      <td>19.55791</td>\n",
       "      <td>20.35405</td>\n",
       "      <td>18.88184</td>\n",
       "      <td>1.539542</td>\n",
       "      <td>0.039137</td>\n",
       "      <td>-1.816479</td>\n",
       "      <td>0</td>\n",
       "      <td>0</td>\n",
       "      <td>1</td>\n",
       "    </tr>\n",
       "    <tr>\n",
       "      <th>1,23765127349266E+018</th>\n",
       "      <td>117.287392</td>\n",
       "      <td>43.434782</td>\n",
       "      <td>19.18845</td>\n",
       "      <td>17.99682</td>\n",
       "      <td>17.51119</td>\n",
       "      <td>17.26241</td>\n",
       "      <td>17.09056</td>\n",
       "      <td>12.471450</td>\n",
       "      <td>0.042591</td>\n",
       "      <td>-1.677259</td>\n",
       "      <td>0</td>\n",
       "      <td>0</td>\n",
       "      <td>1</td>\n",
       "    </tr>\n",
       "    <tr>\n",
       "      <th>...</th>\n",
       "      <td>...</td>\n",
       "      <td>...</td>\n",
       "      <td>...</td>\n",
       "      <td>...</td>\n",
       "      <td>...</td>\n",
       "      <td>...</td>\n",
       "      <td>...</td>\n",
       "      <td>...</td>\n",
       "      <td>...</td>\n",
       "      <td>...</td>\n",
       "      <td>...</td>\n",
       "      <td>...</td>\n",
       "      <td>...</td>\n",
       "    </tr>\n",
       "    <tr>\n",
       "      <th>1,23765494945271E+018</th>\n",
       "      <td>245.038742</td>\n",
       "      <td>50.552353</td>\n",
       "      <td>19.65135</td>\n",
       "      <td>17.74399</td>\n",
       "      <td>16.86763</td>\n",
       "      <td>16.43538</td>\n",
       "      <td>16.09720</td>\n",
       "      <td>3.514471</td>\n",
       "      <td>0.048618</td>\n",
       "      <td>-2.783718</td>\n",
       "      <td>0</td>\n",
       "      <td>0</td>\n",
       "      <td>1</td>\n",
       "    </tr>\n",
       "    <tr>\n",
       "      <th>1,23765153764514E+018</th>\n",
       "      <td>219.313588</td>\n",
       "      <td>62.338577</td>\n",
       "      <td>18.77944</td>\n",
       "      <td>17.71890</td>\n",
       "      <td>17.35237</td>\n",
       "      <td>17.14414</td>\n",
       "      <td>17.04369</td>\n",
       "      <td>4.985637</td>\n",
       "      <td>0.036884</td>\n",
       "      <td>-1.427076</td>\n",
       "      <td>0</td>\n",
       "      <td>0</td>\n",
       "      <td>1</td>\n",
       "    </tr>\n",
       "    <tr>\n",
       "      <th>1,237655744025E+018</th>\n",
       "      <td>239.043213</td>\n",
       "      <td>4.601942</td>\n",
       "      <td>18.93000</td>\n",
       "      <td>17.34099</td>\n",
       "      <td>16.79838</td>\n",
       "      <td>16.53403</td>\n",
       "      <td>16.52089</td>\n",
       "      <td>13.324690</td>\n",
       "      <td>0.034145</td>\n",
       "      <td>-2.131620</td>\n",
       "      <td>0</td>\n",
       "      <td>1</td>\n",
       "      <td>0</td>\n",
       "    </tr>\n",
       "    <tr>\n",
       "      <th>1,23765546806247E+018</th>\n",
       "      <td>229.410394</td>\n",
       "      <td>0.947489</td>\n",
       "      <td>19.52601</td>\n",
       "      <td>17.68973</td>\n",
       "      <td>16.90745</td>\n",
       "      <td>16.50974</td>\n",
       "      <td>16.21097</td>\n",
       "      <td>4.854905</td>\n",
       "      <td>0.039585</td>\n",
       "      <td>-2.618553</td>\n",
       "      <td>0</td>\n",
       "      <td>0</td>\n",
       "      <td>1</td>\n",
       "    </tr>\n",
       "    <tr>\n",
       "      <th>1,23765546806247E+018</th>\n",
       "      <td>229.410394</td>\n",
       "      <td>0.947489</td>\n",
       "      <td>19.52601</td>\n",
       "      <td>17.68973</td>\n",
       "      <td>16.90745</td>\n",
       "      <td>16.50974</td>\n",
       "      <td>16.21097</td>\n",
       "      <td>4.854905</td>\n",
       "      <td>0.039542</td>\n",
       "      <td>-2.618553</td>\n",
       "      <td>0</td>\n",
       "      <td>0</td>\n",
       "      <td>1</td>\n",
       "    </tr>\n",
       "  </tbody>\n",
       "</table>\n",
       "<p>92041 rows × 13 columns</p>\n",
       "</div>"
      ],
      "text/plain": [
       "                               ra        dec  modelMag_u  modelMag_g  \\\n",
       "objID                                                                  \n",
       "1,23765119242489E+018  116.519097  39.886407    17.76235    16.72601   \n",
       "1,23765149575578E+018  116.451900  41.421270    18.12179    16.26214   \n",
       "1,23767370611537E+018  115.946713  41.918877    18.57293    17.42053   \n",
       "1,2376737066523E+018   116.051943  42.287231    21.37438    19.77335   \n",
       "1,23765127349266E+018  117.287392  43.434782    19.18845    17.99682   \n",
       "...                           ...        ...         ...         ...   \n",
       "1,23765494945271E+018  245.038742  50.552353    19.65135    17.74399   \n",
       "1,23765153764514E+018  219.313588  62.338577    18.77944    17.71890   \n",
       "1,237655744025E+018    239.043213   4.601942    18.93000    17.34099   \n",
       "1,23765546806247E+018  229.410394   0.947489    19.52601    17.68973   \n",
       "1,23765546806247E+018  229.410394   0.947489    19.52601    17.68973   \n",
       "\n",
       "                       modelMag_r  modelMag_i  modelMag_z  petroR90_r  \\\n",
       "objID                                                                   \n",
       "1,23765119242489E+018    16.33972    16.06614    15.90478    8.393773   \n",
       "1,23765149575578E+018    15.39272    14.97515    14.65105    9.674847   \n",
       "1,23767370611537E+018    17.01788    16.75617    16.70899   11.277470   \n",
       "1,2376737066523E+018     19.55791    20.35405    18.88184    1.539542   \n",
       "1,23765127349266E+018    17.51119    17.26241    17.09056   12.471450   \n",
       "...                           ...         ...         ...         ...   \n",
       "1,23765494945271E+018    16.86763    16.43538    16.09720    3.514471   \n",
       "1,23765153764514E+018    17.35237    17.14414    17.04369    4.985637   \n",
       "1,237655744025E+018      16.79838    16.53403    16.52089   13.324690   \n",
       "1,23765546806247E+018    16.90745    16.50974    16.21097    4.854905   \n",
       "1,23765546806247E+018    16.90745    16.50974    16.21097    4.854905   \n",
       "\n",
       "                              z     Color  elliptical  spiral  uncertain  \n",
       "objID                                                                     \n",
       "1,23765119242489E+018  0.041521 -1.422625           0       1          0  \n",
       "1,23765149575578E+018  0.040211 -2.729061           0       0          1  \n",
       "1,23767370611537E+018  0.024386 -1.555044           0       0          1  \n",
       "1,2376737066523E+018   0.039137 -1.816479           0       0          1  \n",
       "1,23765127349266E+018  0.042591 -1.677259           0       0          1  \n",
       "...                         ...       ...         ...     ...        ...  \n",
       "1,23765494945271E+018  0.048618 -2.783718           0       0          1  \n",
       "1,23765153764514E+018  0.036884 -1.427076           0       0          1  \n",
       "1,237655744025E+018    0.034145 -2.131620           0       1          0  \n",
       "1,23765546806247E+018  0.039585 -2.618553           0       0          1  \n",
       "1,23765546806247E+018  0.039542 -2.618553           0       0          1  \n",
       "\n",
       "[92041 rows x 13 columns]"
      ]
     },
     "execution_count": 12,
     "metadata": {},
     "output_type": "execute_result"
    }
   ],
   "source": [
    "data.set_index('objID', inplace=True)\n",
    "data"
   ]
  },
  {
   "cell_type": "code",
   "execution_count": 13,
   "metadata": {},
   "outputs": [
    {
     "data": {
      "text/html": [
       "<div>\n",
       "<style scoped>\n",
       "    .dataframe tbody tr th:only-of-type {\n",
       "        vertical-align: middle;\n",
       "    }\n",
       "\n",
       "    .dataframe tbody tr th {\n",
       "        vertical-align: top;\n",
       "    }\n",
       "\n",
       "    .dataframe thead th {\n",
       "        text-align: right;\n",
       "    }\n",
       "</style>\n",
       "<table border=\"1\" class=\"dataframe\">\n",
       "  <thead>\n",
       "    <tr style=\"text-align: right;\">\n",
       "      <th></th>\n",
       "      <th>ra</th>\n",
       "      <th>dec</th>\n",
       "      <th>modelMag_u</th>\n",
       "      <th>modelMag_g</th>\n",
       "      <th>modelMag_r</th>\n",
       "      <th>modelMag_i</th>\n",
       "      <th>modelMag_z</th>\n",
       "      <th>petroR90_r</th>\n",
       "      <th>z</th>\n",
       "      <th>Color</th>\n",
       "      <th>elliptical</th>\n",
       "      <th>spiral</th>\n",
       "      <th>uncertain</th>\n",
       "    </tr>\n",
       "    <tr>\n",
       "      <th>objID</th>\n",
       "      <th></th>\n",
       "      <th></th>\n",
       "      <th></th>\n",
       "      <th></th>\n",
       "      <th></th>\n",
       "      <th></th>\n",
       "      <th></th>\n",
       "      <th></th>\n",
       "      <th></th>\n",
       "      <th></th>\n",
       "      <th></th>\n",
       "      <th></th>\n",
       "      <th></th>\n",
       "    </tr>\n",
       "  </thead>\n",
       "  <tbody>\n",
       "    <tr>\n",
       "      <th>1,23765119242489E+018</th>\n",
       "      <td>116.519097</td>\n",
       "      <td>39.886407</td>\n",
       "      <td>17.76235</td>\n",
       "      <td>16.72601</td>\n",
       "      <td>16.33972</td>\n",
       "      <td>16.06614</td>\n",
       "      <td>15.90478</td>\n",
       "      <td>8.393773</td>\n",
       "      <td>0.041521</td>\n",
       "      <td>-1.422625</td>\n",
       "      <td>0</td>\n",
       "      <td>1</td>\n",
       "      <td>0</td>\n",
       "    </tr>\n",
       "    <tr>\n",
       "      <th>1,23765149575578E+018</th>\n",
       "      <td>116.451900</td>\n",
       "      <td>41.421270</td>\n",
       "      <td>18.12179</td>\n",
       "      <td>16.26214</td>\n",
       "      <td>15.39272</td>\n",
       "      <td>14.97515</td>\n",
       "      <td>14.65105</td>\n",
       "      <td>9.674847</td>\n",
       "      <td>0.040211</td>\n",
       "      <td>-2.729061</td>\n",
       "      <td>0</td>\n",
       "      <td>0</td>\n",
       "      <td>1</td>\n",
       "    </tr>\n",
       "    <tr>\n",
       "      <th>1,23767370611537E+018</th>\n",
       "      <td>115.946713</td>\n",
       "      <td>41.918877</td>\n",
       "      <td>18.57293</td>\n",
       "      <td>17.42053</td>\n",
       "      <td>17.01788</td>\n",
       "      <td>16.75617</td>\n",
       "      <td>16.70899</td>\n",
       "      <td>11.277470</td>\n",
       "      <td>0.024386</td>\n",
       "      <td>-1.555044</td>\n",
       "      <td>0</td>\n",
       "      <td>0</td>\n",
       "      <td>1</td>\n",
       "    </tr>\n",
       "    <tr>\n",
       "      <th>1,2376737066523E+018</th>\n",
       "      <td>116.051943</td>\n",
       "      <td>42.287231</td>\n",
       "      <td>21.37438</td>\n",
       "      <td>19.77335</td>\n",
       "      <td>19.55791</td>\n",
       "      <td>20.35405</td>\n",
       "      <td>18.88184</td>\n",
       "      <td>1.539542</td>\n",
       "      <td>0.039137</td>\n",
       "      <td>-1.816479</td>\n",
       "      <td>0</td>\n",
       "      <td>0</td>\n",
       "      <td>1</td>\n",
       "    </tr>\n",
       "    <tr>\n",
       "      <th>1,23765127349266E+018</th>\n",
       "      <td>117.287392</td>\n",
       "      <td>43.434782</td>\n",
       "      <td>19.18845</td>\n",
       "      <td>17.99682</td>\n",
       "      <td>17.51119</td>\n",
       "      <td>17.26241</td>\n",
       "      <td>17.09056</td>\n",
       "      <td>12.471450</td>\n",
       "      <td>0.042591</td>\n",
       "      <td>-1.677259</td>\n",
       "      <td>0</td>\n",
       "      <td>0</td>\n",
       "      <td>1</td>\n",
       "    </tr>\n",
       "    <tr>\n",
       "      <th>...</th>\n",
       "      <td>...</td>\n",
       "      <td>...</td>\n",
       "      <td>...</td>\n",
       "      <td>...</td>\n",
       "      <td>...</td>\n",
       "      <td>...</td>\n",
       "      <td>...</td>\n",
       "      <td>...</td>\n",
       "      <td>...</td>\n",
       "      <td>...</td>\n",
       "      <td>...</td>\n",
       "      <td>...</td>\n",
       "      <td>...</td>\n",
       "    </tr>\n",
       "    <tr>\n",
       "      <th>1,23766556715083E+018</th>\n",
       "      <td>231.130092</td>\n",
       "      <td>18.628772</td>\n",
       "      <td>18.31966</td>\n",
       "      <td>16.61474</td>\n",
       "      <td>15.80569</td>\n",
       "      <td>15.41106</td>\n",
       "      <td>15.11063</td>\n",
       "      <td>9.954793</td>\n",
       "      <td>0.029269</td>\n",
       "      <td>-2.513965</td>\n",
       "      <td>1</td>\n",
       "      <td>0</td>\n",
       "      <td>0</td>\n",
       "    </tr>\n",
       "    <tr>\n",
       "      <th>1,23765495320163E+018</th>\n",
       "      <td>245.132716</td>\n",
       "      <td>49.797424</td>\n",
       "      <td>18.05554</td>\n",
       "      <td>17.05332</td>\n",
       "      <td>16.70874</td>\n",
       "      <td>16.50322</td>\n",
       "      <td>16.34947</td>\n",
       "      <td>9.012850</td>\n",
       "      <td>0.040825</td>\n",
       "      <td>-1.346800</td>\n",
       "      <td>0</td>\n",
       "      <td>0</td>\n",
       "      <td>1</td>\n",
       "    </tr>\n",
       "    <tr>\n",
       "      <th>1,23765494945271E+018</th>\n",
       "      <td>245.038742</td>\n",
       "      <td>50.552353</td>\n",
       "      <td>19.65135</td>\n",
       "      <td>17.74399</td>\n",
       "      <td>16.86763</td>\n",
       "      <td>16.43538</td>\n",
       "      <td>16.09720</td>\n",
       "      <td>3.514471</td>\n",
       "      <td>0.048618</td>\n",
       "      <td>-2.783718</td>\n",
       "      <td>0</td>\n",
       "      <td>0</td>\n",
       "      <td>1</td>\n",
       "    </tr>\n",
       "    <tr>\n",
       "      <th>1,23765153764514E+018</th>\n",
       "      <td>219.313588</td>\n",
       "      <td>62.338577</td>\n",
       "      <td>18.77944</td>\n",
       "      <td>17.71890</td>\n",
       "      <td>17.35237</td>\n",
       "      <td>17.14414</td>\n",
       "      <td>17.04369</td>\n",
       "      <td>4.985637</td>\n",
       "      <td>0.036884</td>\n",
       "      <td>-1.427076</td>\n",
       "      <td>0</td>\n",
       "      <td>0</td>\n",
       "      <td>1</td>\n",
       "    </tr>\n",
       "    <tr>\n",
       "      <th>1,237655744025E+018</th>\n",
       "      <td>239.043213</td>\n",
       "      <td>4.601942</td>\n",
       "      <td>18.93000</td>\n",
       "      <td>17.34099</td>\n",
       "      <td>16.79838</td>\n",
       "      <td>16.53403</td>\n",
       "      <td>16.52089</td>\n",
       "      <td>13.324690</td>\n",
       "      <td>0.034145</td>\n",
       "      <td>-2.131620</td>\n",
       "      <td>0</td>\n",
       "      <td>1</td>\n",
       "      <td>0</td>\n",
       "    </tr>\n",
       "  </tbody>\n",
       "</table>\n",
       "<p>57681 rows × 13 columns</p>\n",
       "</div>"
      ],
      "text/plain": [
       "                               ra        dec  modelMag_u  modelMag_g  \\\n",
       "objID                                                                  \n",
       "1,23765119242489E+018  116.519097  39.886407    17.76235    16.72601   \n",
       "1,23765149575578E+018  116.451900  41.421270    18.12179    16.26214   \n",
       "1,23767370611537E+018  115.946713  41.918877    18.57293    17.42053   \n",
       "1,2376737066523E+018   116.051943  42.287231    21.37438    19.77335   \n",
       "1,23765127349266E+018  117.287392  43.434782    19.18845    17.99682   \n",
       "...                           ...        ...         ...         ...   \n",
       "1,23766556715083E+018  231.130092  18.628772    18.31966    16.61474   \n",
       "1,23765495320163E+018  245.132716  49.797424    18.05554    17.05332   \n",
       "1,23765494945271E+018  245.038742  50.552353    19.65135    17.74399   \n",
       "1,23765153764514E+018  219.313588  62.338577    18.77944    17.71890   \n",
       "1,237655744025E+018    239.043213   4.601942    18.93000    17.34099   \n",
       "\n",
       "                       modelMag_r  modelMag_i  modelMag_z  petroR90_r  \\\n",
       "objID                                                                   \n",
       "1,23765119242489E+018    16.33972    16.06614    15.90478    8.393773   \n",
       "1,23765149575578E+018    15.39272    14.97515    14.65105    9.674847   \n",
       "1,23767370611537E+018    17.01788    16.75617    16.70899   11.277470   \n",
       "1,2376737066523E+018     19.55791    20.35405    18.88184    1.539542   \n",
       "1,23765127349266E+018    17.51119    17.26241    17.09056   12.471450   \n",
       "...                           ...         ...         ...         ...   \n",
       "1,23766556715083E+018    15.80569    15.41106    15.11063    9.954793   \n",
       "1,23765495320163E+018    16.70874    16.50322    16.34947    9.012850   \n",
       "1,23765494945271E+018    16.86763    16.43538    16.09720    3.514471   \n",
       "1,23765153764514E+018    17.35237    17.14414    17.04369    4.985637   \n",
       "1,237655744025E+018      16.79838    16.53403    16.52089   13.324690   \n",
       "\n",
       "                              z     Color  elliptical  spiral  uncertain  \n",
       "objID                                                                     \n",
       "1,23765119242489E+018  0.041521 -1.422625           0       1          0  \n",
       "1,23765149575578E+018  0.040211 -2.729061           0       0          1  \n",
       "1,23767370611537E+018  0.024386 -1.555044           0       0          1  \n",
       "1,2376737066523E+018   0.039137 -1.816479           0       0          1  \n",
       "1,23765127349266E+018  0.042591 -1.677259           0       0          1  \n",
       "...                         ...       ...         ...     ...        ...  \n",
       "1,23766556715083E+018  0.029269 -2.513965           1       0          0  \n",
       "1,23765495320163E+018  0.040825 -1.346800           0       0          1  \n",
       "1,23765494945271E+018  0.048618 -2.783718           0       0          1  \n",
       "1,23765153764514E+018  0.036884 -1.427076           0       0          1  \n",
       "1,237655744025E+018    0.034145 -2.131620           0       1          0  \n",
       "\n",
       "[57681 rows x 13 columns]"
      ]
     },
     "execution_count": 13,
     "metadata": {},
     "output_type": "execute_result"
    }
   ],
   "source": [
    "# Se deciden borrar las filas con indice repetido\n",
    "# asumiendo que se tratan de observaciones distintas de la misma galaxia\n",
    "data = data[~data.index.duplicated(keep='first')]\n",
    "data"
   ]
  },
  {
   "cell_type": "markdown",
   "metadata": {},
   "source": [
    "### Mostrar el tipo de dato de cada columna"
   ]
  },
  {
   "cell_type": "code",
   "execution_count": 14,
   "metadata": {},
   "outputs": [
    {
     "data": {
      "text/plain": [
       "ra            float64\n",
       "dec           float64\n",
       "modelMag_u    float64\n",
       "modelMag_g    float64\n",
       "modelMag_r    float64\n",
       "modelMag_i    float64\n",
       "modelMag_z    float64\n",
       "petroR90_r    float64\n",
       "z             float64\n",
       "Color         float64\n",
       "elliptical      int64\n",
       "spiral          int64\n",
       "uncertain       int64\n",
       "dtype: object"
      ]
     },
     "execution_count": 14,
     "metadata": {},
     "output_type": "execute_result"
    }
   ],
   "source": [
    "data.dtypes"
   ]
  },
  {
   "cell_type": "markdown",
   "metadata": {},
   "source": [
    "Los tipos de datos parecieran ser correctos"
   ]
  },
  {
   "cell_type": "markdown",
   "metadata": {},
   "source": [
    "### Observar si hay filas e indices duplicados, en caso de encontrar valores duplicados decida si los mismos deben ser eliminados, justifique por qué."
   ]
  },
  {
   "cell_type": "code",
   "execution_count": 15,
   "metadata": {},
   "outputs": [
    {
     "name": "stdout",
     "output_type": "stream",
     "text": [
      "Cantidad total de filas: 57681\n",
      "Cantidad de index únicos: 57681\n",
      "Difernecia de entre total y únicos: 0\n"
     ]
    }
   ],
   "source": [
    "total_rows = data.shape[0]\n",
    "print(f'Cantidad total de filas: {total_rows}')\n",
    "index_unique = data.index.nunique()\n",
    "print(f'Cantidad de index únicos: {index_unique}')\n",
    "diff = total_rows - index_unique\n",
    "print(f'Difernecia de entre total y únicos: {diff}')"
   ]
  },
  {
   "cell_type": "code",
   "execution_count": 16,
   "metadata": {},
   "outputs": [
    {
     "name": "stdout",
     "output_type": "stream",
     "text": [
      "No hay valores duplicados\n"
     ]
    }
   ],
   "source": [
    "duplicated = data.duplicated(keep='first')\n",
    "# utilizo la función any para detectar si hay algún elemento true en la variable duplicated\n",
    "# duplicated true => existen elementos duplicados\n",
    "if duplicated.any():\n",
    "    print('Hay valores duplicados')\n",
    "else:\n",
    "    print('No hay valores duplicados')"
   ]
  },
  {
   "cell_type": "markdown",
   "metadata": {},
   "source": [
    "Se elimina el único valor repetido en el index"
   ]
  },
  {
   "cell_type": "markdown",
   "metadata": {},
   "source": [
    "### Realicen algunas exploraciones más sobre el dataset"
   ]
  },
  {
   "cell_type": "markdown",
   "metadata": {},
   "source": [
    "Observación de estadísticos de las variables del dataframe. Todas las variables cuentan con la misma cantidad de datos. Existen mínimos para analizar en las variables modelMag_u, modelMag_g, modelMag_z. No se visualizan datos máximos que permitan inferir algún outlier.\n",
    "\n",
    "No existen datos faltantes, consideramos que no es necesario eliminar ninguna columna por el momento.\n",
    "\n",
    "Las variables spiral y uncertain tienen mayor dispersión que la variable elliptical."
   ]
  },
  {
   "cell_type": "code",
   "execution_count": 17,
   "metadata": {},
   "outputs": [
    {
     "data": {
      "text/html": [
       "<div>\n",
       "<style scoped>\n",
       "    .dataframe tbody tr th:only-of-type {\n",
       "        vertical-align: middle;\n",
       "    }\n",
       "\n",
       "    .dataframe tbody tr th {\n",
       "        vertical-align: top;\n",
       "    }\n",
       "\n",
       "    .dataframe thead th {\n",
       "        text-align: right;\n",
       "    }\n",
       "</style>\n",
       "<table border=\"1\" class=\"dataframe\">\n",
       "  <thead>\n",
       "    <tr style=\"text-align: right;\">\n",
       "      <th></th>\n",
       "      <th>ra</th>\n",
       "      <th>dec</th>\n",
       "      <th>modelMag_u</th>\n",
       "      <th>modelMag_g</th>\n",
       "      <th>modelMag_r</th>\n",
       "      <th>modelMag_i</th>\n",
       "      <th>modelMag_z</th>\n",
       "      <th>petroR90_r</th>\n",
       "      <th>z</th>\n",
       "      <th>Color</th>\n",
       "      <th>elliptical</th>\n",
       "      <th>spiral</th>\n",
       "      <th>uncertain</th>\n",
       "    </tr>\n",
       "  </thead>\n",
       "  <tbody>\n",
       "    <tr>\n",
       "      <th>count</th>\n",
       "      <td>57681.000000</td>\n",
       "      <td>57681.000000</td>\n",
       "      <td>57681.000000</td>\n",
       "      <td>57681.000000</td>\n",
       "      <td>57681.000000</td>\n",
       "      <td>57681.000000</td>\n",
       "      <td>57681.000000</td>\n",
       "      <td>57681.000000</td>\n",
       "      <td>57681.000000</td>\n",
       "      <td>57681.000000</td>\n",
       "      <td>57681.000000</td>\n",
       "      <td>57681.000000</td>\n",
       "      <td>57681.000000</td>\n",
       "    </tr>\n",
       "    <tr>\n",
       "      <th>mean</th>\n",
       "      <td>183.419958</td>\n",
       "      <td>25.380842</td>\n",
       "      <td>183.765182</td>\n",
       "      <td>172.718436</td>\n",
       "      <td>162.646477</td>\n",
       "      <td>170.157392</td>\n",
       "      <td>136.560776</td>\n",
       "      <td>54.057630</td>\n",
       "      <td>0.035991</td>\n",
       "      <td>-3.416101</td>\n",
       "      <td>0.074409</td>\n",
       "      <td>0.344481</td>\n",
       "      <td>0.581110</td>\n",
       "    </tr>\n",
       "    <tr>\n",
       "      <th>std</th>\n",
       "      <td>57.659031</td>\n",
       "      <td>18.616160</td>\n",
       "      <td>1734.388143</td>\n",
       "      <td>1622.623065</td>\n",
       "      <td>1540.039554</td>\n",
       "      <td>1568.942667</td>\n",
       "      <td>1383.827414</td>\n",
       "      <td>882.310694</td>\n",
       "      <td>0.008498</td>\n",
       "      <td>72.031187</td>\n",
       "      <td>0.262438</td>\n",
       "      <td>0.475203</td>\n",
       "      <td>0.493382</td>\n",
       "    </tr>\n",
       "    <tr>\n",
       "      <th>min</th>\n",
       "      <td>0.008745</td>\n",
       "      <td>-11.202394</td>\n",
       "      <td>-9999.000000</td>\n",
       "      <td>-9999.000000</td>\n",
       "      <td>11.902330</td>\n",
       "      <td>11.459980</td>\n",
       "      <td>-9999.000000</td>\n",
       "      <td>0.842248</td>\n",
       "      <td>0.020001</td>\n",
       "      <td>-2859.000000</td>\n",
       "      <td>0.000000</td>\n",
       "      <td>0.000000</td>\n",
       "      <td>0.000000</td>\n",
       "    </tr>\n",
       "    <tr>\n",
       "      <th>25%</th>\n",
       "      <td>151.447181</td>\n",
       "      <td>10.476006</td>\n",
       "      <td>17.752040</td>\n",
       "      <td>16.314860</td>\n",
       "      <td>15.647160</td>\n",
       "      <td>15.287560</td>\n",
       "      <td>15.006410</td>\n",
       "      <td>6.132339</td>\n",
       "      <td>0.028957</td>\n",
       "      <td>-2.431772</td>\n",
       "      <td>0.000000</td>\n",
       "      <td>0.000000</td>\n",
       "      <td>0.000000</td>\n",
       "    </tr>\n",
       "    <tr>\n",
       "      <th>50%</th>\n",
       "      <td>183.931359</td>\n",
       "      <td>23.898519</td>\n",
       "      <td>18.447040</td>\n",
       "      <td>17.119080</td>\n",
       "      <td>16.555560</td>\n",
       "      <td>16.247150</td>\n",
       "      <td>16.020130</td>\n",
       "      <td>8.386065</td>\n",
       "      <td>0.036099</td>\n",
       "      <td>-1.898378</td>\n",
       "      <td>0.000000</td>\n",
       "      <td>0.000000</td>\n",
       "      <td>1.000000</td>\n",
       "    </tr>\n",
       "    <tr>\n",
       "      <th>75%</th>\n",
       "      <td>221.634978</td>\n",
       "      <td>39.408083</td>\n",
       "      <td>19.011310</td>\n",
       "      <td>17.738920</td>\n",
       "      <td>17.255280</td>\n",
       "      <td>16.983440</td>\n",
       "      <td>16.798670</td>\n",
       "      <td>11.335120</td>\n",
       "      <td>0.043573</td>\n",
       "      <td>-1.570280</td>\n",
       "      <td>0.000000</td>\n",
       "      <td>1.000000</td>\n",
       "      <td>1.000000</td>\n",
       "    </tr>\n",
       "    <tr>\n",
       "      <th>max</th>\n",
       "      <td>359.965567</td>\n",
       "      <td>70.133213</td>\n",
       "      <td>25756.000000</td>\n",
       "      <td>20542.000000</td>\n",
       "      <td>19138.000000</td>\n",
       "      <td>23871.000000</td>\n",
       "      <td>20767.000000</td>\n",
       "      <td>78255.000000</td>\n",
       "      <td>0.050000</td>\n",
       "      <td>10015.860000</td>\n",
       "      <td>1.000000</td>\n",
       "      <td>1.000000</td>\n",
       "      <td>1.000000</td>\n",
       "    </tr>\n",
       "  </tbody>\n",
       "</table>\n",
       "</div>"
      ],
      "text/plain": [
       "                 ra           dec    modelMag_u    modelMag_g    modelMag_r  \\\n",
       "count  57681.000000  57681.000000  57681.000000  57681.000000  57681.000000   \n",
       "mean     183.419958     25.380842    183.765182    172.718436    162.646477   \n",
       "std       57.659031     18.616160   1734.388143   1622.623065   1540.039554   \n",
       "min        0.008745    -11.202394  -9999.000000  -9999.000000     11.902330   \n",
       "25%      151.447181     10.476006     17.752040     16.314860     15.647160   \n",
       "50%      183.931359     23.898519     18.447040     17.119080     16.555560   \n",
       "75%      221.634978     39.408083     19.011310     17.738920     17.255280   \n",
       "max      359.965567     70.133213  25756.000000  20542.000000  19138.000000   \n",
       "\n",
       "         modelMag_i    modelMag_z    petroR90_r             z         Color  \\\n",
       "count  57681.000000  57681.000000  57681.000000  57681.000000  57681.000000   \n",
       "mean     170.157392    136.560776     54.057630      0.035991     -3.416101   \n",
       "std     1568.942667   1383.827414    882.310694      0.008498     72.031187   \n",
       "min       11.459980  -9999.000000      0.842248      0.020001  -2859.000000   \n",
       "25%       15.287560     15.006410      6.132339      0.028957     -2.431772   \n",
       "50%       16.247150     16.020130      8.386065      0.036099     -1.898378   \n",
       "75%       16.983440     16.798670     11.335120      0.043573     -1.570280   \n",
       "max    23871.000000  20767.000000  78255.000000      0.050000  10015.860000   \n",
       "\n",
       "         elliptical        spiral     uncertain  \n",
       "count  57681.000000  57681.000000  57681.000000  \n",
       "mean       0.074409      0.344481      0.581110  \n",
       "std        0.262438      0.475203      0.493382  \n",
       "min        0.000000      0.000000      0.000000  \n",
       "25%        0.000000      0.000000      0.000000  \n",
       "50%        0.000000      0.000000      1.000000  \n",
       "75%        0.000000      1.000000      1.000000  \n",
       "max        1.000000      1.000000      1.000000  "
      ]
     },
     "execution_count": 17,
     "metadata": {},
     "output_type": "execute_result"
    }
   ],
   "source": [
    "data.describe()"
   ]
  },
  {
   "cell_type": "markdown",
   "metadata": {},
   "source": [
    "Creación de columna tipo_galaxia según corresponda"
   ]
  },
  {
   "cell_type": "code",
   "execution_count": 18,
   "metadata": {},
   "outputs": [
    {
     "name": "stderr",
     "output_type": "stream",
     "text": [
      "/home/exequiel/anaconda3/envs/Diplomatura2021/lib/python3.8/site-packages/pandas/core/indexing.py:1599: SettingWithCopyWarning: \n",
      "A value is trying to be set on a copy of a slice from a DataFrame.\n",
      "Try using .loc[row_indexer,col_indexer] = value instead\n",
      "\n",
      "See the caveats in the documentation: https://pandas.pydata.org/pandas-docs/stable/user_guide/indexing.html#returning-a-view-versus-a-copy\n",
      "  self.obj[key] = infer_fill_value(value)\n",
      "/home/exequiel/anaconda3/envs/Diplomatura2021/lib/python3.8/site-packages/pandas/core/indexing.py:1720: SettingWithCopyWarning: \n",
      "A value is trying to be set on a copy of a slice from a DataFrame.\n",
      "Try using .loc[row_indexer,col_indexer] = value instead\n",
      "\n",
      "See the caveats in the documentation: https://pandas.pydata.org/pandas-docs/stable/user_guide/indexing.html#returning-a-view-versus-a-copy\n",
      "  self._setitem_single_column(loc, value, pi)\n",
      "/home/exequiel/anaconda3/envs/Diplomatura2021/lib/python3.8/site-packages/pandas/core/indexing.py:1720: SettingWithCopyWarning: \n",
      "A value is trying to be set on a copy of a slice from a DataFrame.\n",
      "Try using .loc[row_indexer,col_indexer] = value instead\n",
      "\n",
      "See the caveats in the documentation: https://pandas.pydata.org/pandas-docs/stable/user_guide/indexing.html#returning-a-view-versus-a-copy\n",
      "  self._setitem_single_column(loc, value, pi)\n",
      "/home/exequiel/anaconda3/envs/Diplomatura2021/lib/python3.8/site-packages/pandas/core/indexing.py:1720: SettingWithCopyWarning: \n",
      "A value is trying to be set on a copy of a slice from a DataFrame.\n",
      "Try using .loc[row_indexer,col_indexer] = value instead\n",
      "\n",
      "See the caveats in the documentation: https://pandas.pydata.org/pandas-docs/stable/user_guide/indexing.html#returning-a-view-versus-a-copy\n",
      "  self._setitem_single_column(loc, value, pi)\n"
     ]
    }
   ],
   "source": [
    "data.loc[data.elliptical == 1, 'tipo_galaxia'] = \"elliptical\"\n",
    "data.loc[data.spiral == 1, 'tipo_galaxia'] = \"spiral\"\n",
    "data.loc[data.uncertain == 1, 'tipo_galaxia'] = \"uncertain\""
   ]
  },
  {
   "cell_type": "code",
   "execution_count": 19,
   "metadata": {},
   "outputs": [
    {
     "data": {
      "text/plain": [
       "57681"
      ]
     },
     "execution_count": 19,
     "metadata": {},
     "output_type": "execute_result"
    }
   ],
   "source": [
    "data.tipo_galaxia.count()"
   ]
  },
  {
   "cell_type": "code",
   "execution_count": 20,
   "metadata": {},
   "outputs": [
    {
     "data": {
      "text/plain": [
       "<AxesSubplot:xlabel='tipo_galaxia', ylabel='count'>"
      ]
     },
     "execution_count": 20,
     "metadata": {},
     "output_type": "execute_result"
    },
    {
     "data": {
      "image/png": "[encoded data removed]",
      "text/plain": [
       "<Figure size 432x288 with 1 Axes>"
      ]
     },
     "metadata": {
      "needs_background": "light"
     },
     "output_type": "display_data"
    }
   ],
   "source": [
    "seaborn.countplot(x=data.tipo_galaxia)"
   ]
  },
  {
   "cell_type": "markdown",
   "metadata": {},
   "source": [
    "Se observa que las galaxias de tipo uncertain tienen mas outliers"
   ]
  },
  {
   "cell_type": "code",
   "execution_count": 21,
   "metadata": {
    "tags": []
   },
   "outputs": [
    {
     "data": {
      "image/png": "[encoded data removed]",
      "text/plain": [
       "<Figure size 1440x216 with 5 Axes>"
      ]
     },
     "metadata": {
      "needs_background": "light"
     },
     "output_type": "display_data"
    }
   ],
   "source": [
    "fig, ax = plt.subplots(ncols=5, figsize=(20,3))\n",
    "seaborn.boxplot(x=data['modelMag_u'], ax=ax[0])\n",
    "seaborn.boxplot(x=data['modelMag_g'], ax=ax[1])\n",
    "seaborn.boxplot(x=data['modelMag_r'], ax=ax[2])\n",
    "seaborn.boxplot(x=data['modelMag_i'], ax=ax[3])\n",
    "seaborn.boxplot(x=data['modelMag_z'], ax=ax[4])\n",
    "plt.suptitle(\"Boxplots de las variables relacionadas a la fracción de luz\")\n",
    "plt.show()"
   ]
  },
  {
   "cell_type": "markdown",
   "metadata": {},
   "source": [
    "Se observan outliers en las variables modelMag_u, modelMag_g y modelMag_z"
   ]
  },
  {
   "cell_type": "code",
   "execution_count": 22,
   "metadata": {},
   "outputs": [
    {
     "data": {
      "image/png": "[encoded data removed]",
      "text/plain": [
       "<Figure size 1440x216 with 5 Axes>"
      ]
     },
     "metadata": {
      "needs_background": "light"
     },
     "output_type": "display_data"
    }
   ],
   "source": [
    "fig, ax = plt.subplots(ncols=5, figsize=(20,3))\n",
    "seaborn.boxplot(x=data['ra'], ax=ax[0])\n",
    "seaborn.boxplot(x=data['dec'], ax=ax[1])\n",
    "seaborn.boxplot(x=data['petroR90_r'], ax=ax[2])\n",
    "seaborn.boxplot(x=data['z'], ax=ax[3])\n",
    "seaborn.boxplot(x=data['Color'], ax=ax[4])\n",
    "plt.suptitle(\"Boxplots de las variables ra, dec, petroR90_r, z, Color\")\n",
    "plt.show()"
   ]
  },
  {
   "cell_type": "markdown",
   "metadata": {},
   "source": [
    "La variable ra, dec y z se observan con una distribución normalizada.\n",
    "\n",
    "La variable petroR90_r no se conoce esta variable, cuenta con outliers.\n",
    "\n",
    "La variable Color presenta outliers."
   ]
  },
  {
   "cell_type": "code",
   "execution_count": 23,
   "metadata": {},
   "outputs": [
    {
     "name": "stdout",
     "output_type": "stream",
     "text": [
      "Cantidad de galaxias elliptical: 4292\n",
      "Cantidad de galaxias spiral: 19870\n",
      "Cantidad de galaxias uncertain: 33519\n"
     ]
    }
   ],
   "source": [
    "count_ellpitical = data[data.tipo_galaxia == 'elliptical'].shape[0]\n",
    "count_spiral = data[data.tipo_galaxia == 'spiral'].shape[0]\n",
    "count_uncertain = data[data.tipo_galaxia == 'uncertain'].shape[0]\n",
    "print(f'Cantidad de galaxias elliptical: {count_ellpitical}')\n",
    "print(f'Cantidad de galaxias spiral: {count_spiral}')\n",
    "print(f'Cantidad de galaxias uncertain: {count_uncertain}')"
   ]
  },
  {
   "cell_type": "code",
   "execution_count": 24,
   "metadata": {},
   "outputs": [
    {
     "data": {
      "text/html": [
       "<div>\n",
       "<style scoped>\n",
       "    .dataframe tbody tr th:only-of-type {\n",
       "        vertical-align: middle;\n",
       "    }\n",
       "\n",
       "    .dataframe tbody tr th {\n",
       "        vertical-align: top;\n",
       "    }\n",
       "\n",
       "    .dataframe thead th {\n",
       "        text-align: right;\n",
       "    }\n",
       "</style>\n",
       "<table border=\"1\" class=\"dataframe\">\n",
       "  <thead>\n",
       "    <tr style=\"text-align: right;\">\n",
       "      <th></th>\n",
       "      <th>ra</th>\n",
       "      <th>dec</th>\n",
       "      <th>modelMag_u</th>\n",
       "      <th>modelMag_g</th>\n",
       "      <th>modelMag_r</th>\n",
       "      <th>modelMag_i</th>\n",
       "      <th>modelMag_z</th>\n",
       "      <th>petroR90_r</th>\n",
       "      <th>z</th>\n",
       "      <th>Color</th>\n",
       "      <th>elliptical</th>\n",
       "      <th>spiral</th>\n",
       "      <th>uncertain</th>\n",
       "    </tr>\n",
       "    <tr>\n",
       "      <th>objID</th>\n",
       "      <th></th>\n",
       "      <th></th>\n",
       "      <th></th>\n",
       "      <th></th>\n",
       "      <th></th>\n",
       "      <th></th>\n",
       "      <th></th>\n",
       "      <th></th>\n",
       "      <th></th>\n",
       "      <th></th>\n",
       "      <th></th>\n",
       "      <th></th>\n",
       "      <th></th>\n",
       "    </tr>\n",
       "  </thead>\n",
       "  <tbody>\n",
       "    <tr>\n",
       "      <th>1,23765119242489E+018</th>\n",
       "      <td>116.519097</td>\n",
       "      <td>39.886407</td>\n",
       "      <td>17.76235</td>\n",
       "      <td>16.72601</td>\n",
       "      <td>16.33972</td>\n",
       "      <td>16.06614</td>\n",
       "      <td>15.90478</td>\n",
       "      <td>8.393773</td>\n",
       "      <td>0.041521</td>\n",
       "      <td>-1.422625</td>\n",
       "      <td>0</td>\n",
       "      <td>1</td>\n",
       "      <td>0</td>\n",
       "    </tr>\n",
       "    <tr>\n",
       "      <th>1,23765149575578E+018</th>\n",
       "      <td>116.451900</td>\n",
       "      <td>41.421270</td>\n",
       "      <td>18.12179</td>\n",
       "      <td>16.26214</td>\n",
       "      <td>15.39272</td>\n",
       "      <td>14.97515</td>\n",
       "      <td>14.65105</td>\n",
       "      <td>9.674847</td>\n",
       "      <td>0.040211</td>\n",
       "      <td>-2.729061</td>\n",
       "      <td>0</td>\n",
       "      <td>0</td>\n",
       "      <td>1</td>\n",
       "    </tr>\n",
       "    <tr>\n",
       "      <th>1,23767370611537E+018</th>\n",
       "      <td>115.946713</td>\n",
       "      <td>41.918877</td>\n",
       "      <td>18.57293</td>\n",
       "      <td>17.42053</td>\n",
       "      <td>17.01788</td>\n",
       "      <td>16.75617</td>\n",
       "      <td>16.70899</td>\n",
       "      <td>11.277470</td>\n",
       "      <td>0.024386</td>\n",
       "      <td>-1.555044</td>\n",
       "      <td>0</td>\n",
       "      <td>0</td>\n",
       "      <td>1</td>\n",
       "    </tr>\n",
       "    <tr>\n",
       "      <th>1,2376737066523E+018</th>\n",
       "      <td>116.051943</td>\n",
       "      <td>42.287231</td>\n",
       "      <td>21.37438</td>\n",
       "      <td>19.77335</td>\n",
       "      <td>19.55791</td>\n",
       "      <td>20.35405</td>\n",
       "      <td>18.88184</td>\n",
       "      <td>1.539542</td>\n",
       "      <td>0.039137</td>\n",
       "      <td>-1.816479</td>\n",
       "      <td>0</td>\n",
       "      <td>0</td>\n",
       "      <td>1</td>\n",
       "    </tr>\n",
       "    <tr>\n",
       "      <th>1,23765127349266E+018</th>\n",
       "      <td>117.287392</td>\n",
       "      <td>43.434782</td>\n",
       "      <td>19.18845</td>\n",
       "      <td>17.99682</td>\n",
       "      <td>17.51119</td>\n",
       "      <td>17.26241</td>\n",
       "      <td>17.09056</td>\n",
       "      <td>12.471450</td>\n",
       "      <td>0.042591</td>\n",
       "      <td>-1.677259</td>\n",
       "      <td>0</td>\n",
       "      <td>0</td>\n",
       "      <td>1</td>\n",
       "    </tr>\n",
       "    <tr>\n",
       "      <th>...</th>\n",
       "      <td>...</td>\n",
       "      <td>...</td>\n",
       "      <td>...</td>\n",
       "      <td>...</td>\n",
       "      <td>...</td>\n",
       "      <td>...</td>\n",
       "      <td>...</td>\n",
       "      <td>...</td>\n",
       "      <td>...</td>\n",
       "      <td>...</td>\n",
       "      <td>...</td>\n",
       "      <td>...</td>\n",
       "      <td>...</td>\n",
       "    </tr>\n",
       "    <tr>\n",
       "      <th>1,23766556715083E+018</th>\n",
       "      <td>231.130092</td>\n",
       "      <td>18.628772</td>\n",
       "      <td>18.31966</td>\n",
       "      <td>16.61474</td>\n",
       "      <td>15.80569</td>\n",
       "      <td>15.41106</td>\n",
       "      <td>15.11063</td>\n",
       "      <td>9.954793</td>\n",
       "      <td>0.029269</td>\n",
       "      <td>-2.513965</td>\n",
       "      <td>1</td>\n",
       "      <td>0</td>\n",
       "      <td>0</td>\n",
       "    </tr>\n",
       "    <tr>\n",
       "      <th>1,23765495320163E+018</th>\n",
       "      <td>245.132716</td>\n",
       "      <td>49.797424</td>\n",
       "      <td>18.05554</td>\n",
       "      <td>17.05332</td>\n",
       "      <td>16.70874</td>\n",
       "      <td>16.50322</td>\n",
       "      <td>16.34947</td>\n",
       "      <td>9.012850</td>\n",
       "      <td>0.040825</td>\n",
       "      <td>-1.346800</td>\n",
       "      <td>0</td>\n",
       "      <td>0</td>\n",
       "      <td>1</td>\n",
       "    </tr>\n",
       "    <tr>\n",
       "      <th>1,23765494945271E+018</th>\n",
       "      <td>245.038742</td>\n",
       "      <td>50.552353</td>\n",
       "      <td>19.65135</td>\n",
       "      <td>17.74399</td>\n",
       "      <td>16.86763</td>\n",
       "      <td>16.43538</td>\n",
       "      <td>16.09720</td>\n",
       "      <td>3.514471</td>\n",
       "      <td>0.048618</td>\n",
       "      <td>-2.783718</td>\n",
       "      <td>0</td>\n",
       "      <td>0</td>\n",
       "      <td>1</td>\n",
       "    </tr>\n",
       "    <tr>\n",
       "      <th>1,23765153764514E+018</th>\n",
       "      <td>219.313588</td>\n",
       "      <td>62.338577</td>\n",
       "      <td>18.77944</td>\n",
       "      <td>17.71890</td>\n",
       "      <td>17.35237</td>\n",
       "      <td>17.14414</td>\n",
       "      <td>17.04369</td>\n",
       "      <td>4.985637</td>\n",
       "      <td>0.036884</td>\n",
       "      <td>-1.427076</td>\n",
       "      <td>0</td>\n",
       "      <td>0</td>\n",
       "      <td>1</td>\n",
       "    </tr>\n",
       "    <tr>\n",
       "      <th>1,237655744025E+018</th>\n",
       "      <td>239.043213</td>\n",
       "      <td>4.601942</td>\n",
       "      <td>18.93000</td>\n",
       "      <td>17.34099</td>\n",
       "      <td>16.79838</td>\n",
       "      <td>16.53403</td>\n",
       "      <td>16.52089</td>\n",
       "      <td>13.324690</td>\n",
       "      <td>0.034145</td>\n",
       "      <td>-2.131620</td>\n",
       "      <td>0</td>\n",
       "      <td>1</td>\n",
       "      <td>0</td>\n",
       "    </tr>\n",
       "  </tbody>\n",
       "</table>\n",
       "<p>57681 rows × 13 columns</p>\n",
       "</div>"
      ],
      "text/plain": [
       "                               ra        dec  modelMag_u  modelMag_g  \\\n",
       "objID                                                                  \n",
       "1,23765119242489E+018  116.519097  39.886407    17.76235    16.72601   \n",
       "1,23765149575578E+018  116.451900  41.421270    18.12179    16.26214   \n",
       "1,23767370611537E+018  115.946713  41.918877    18.57293    17.42053   \n",
       "1,2376737066523E+018   116.051943  42.287231    21.37438    19.77335   \n",
       "1,23765127349266E+018  117.287392  43.434782    19.18845    17.99682   \n",
       "...                           ...        ...         ...         ...   \n",
       "1,23766556715083E+018  231.130092  18.628772    18.31966    16.61474   \n",
       "1,23765495320163E+018  245.132716  49.797424    18.05554    17.05332   \n",
       "1,23765494945271E+018  245.038742  50.552353    19.65135    17.74399   \n",
       "1,23765153764514E+018  219.313588  62.338577    18.77944    17.71890   \n",
       "1,237655744025E+018    239.043213   4.601942    18.93000    17.34099   \n",
       "\n",
       "                       modelMag_r  modelMag_i  modelMag_z  petroR90_r  \\\n",
       "objID                                                                   \n",
       "1,23765119242489E+018    16.33972    16.06614    15.90478    8.393773   \n",
       "1,23765149575578E+018    15.39272    14.97515    14.65105    9.674847   \n",
       "1,23767370611537E+018    17.01788    16.75617    16.70899   11.277470   \n",
       "1,2376737066523E+018     19.55791    20.35405    18.88184    1.539542   \n",
       "1,23765127349266E+018    17.51119    17.26241    17.09056   12.471450   \n",
       "...                           ...         ...         ...         ...   \n",
       "1,23766556715083E+018    15.80569    15.41106    15.11063    9.954793   \n",
       "1,23765495320163E+018    16.70874    16.50322    16.34947    9.012850   \n",
       "1,23765494945271E+018    16.86763    16.43538    16.09720    3.514471   \n",
       "1,23765153764514E+018    17.35237    17.14414    17.04369    4.985637   \n",
       "1,237655744025E+018      16.79838    16.53403    16.52089   13.324690   \n",
       "\n",
       "                              z     Color  elliptical  spiral  uncertain  \n",
       "objID                                                                     \n",
       "1,23765119242489E+018  0.041521 -1.422625           0       1          0  \n",
       "1,23765149575578E+018  0.040211 -2.729061           0       0          1  \n",
       "1,23767370611537E+018  0.024386 -1.555044           0       0          1  \n",
       "1,2376737066523E+018   0.039137 -1.816479           0       0          1  \n",
       "1,23765127349266E+018  0.042591 -1.677259           0       0          1  \n",
       "...                         ...       ...         ...     ...        ...  \n",
       "1,23766556715083E+018  0.029269 -2.513965           1       0          0  \n",
       "1,23765495320163E+018  0.040825 -1.346800           0       0          1  \n",
       "1,23765494945271E+018  0.048618 -2.783718           0       0          1  \n",
       "1,23765153764514E+018  0.036884 -1.427076           0       0          1  \n",
       "1,237655744025E+018    0.034145 -2.131620           0       1          0  \n",
       "\n",
       "[57681 rows x 13 columns]"
      ]
     },
     "execution_count": 24,
     "metadata": {},
     "output_type": "execute_result"
    }
   ],
   "source": [
    "data.drop(['tipo_galaxia'], axis=1)"
   ]
  },
  {
   "cell_type": "markdown",
   "metadata": {},
   "source": [
    "### Remplaze los valores faltantes/NaN/carentes de sentido físico con KNNImputer"
   ]
  },
  {
   "cell_type": "markdown",
   "metadata": {},
   "source": [
    "Analizo variable ra, los valores no pueden ser menores a 0 o mayores a 360"
   ]
  },
  {
   "cell_type": "code",
   "execution_count": 25,
   "metadata": {},
   "outputs": [
    {
     "name": "stdout",
     "output_type": "stream",
     "text": [
      "Cantidad ra menores a 0:  0\n",
      "Cantidad ra mayores a 360:  0\n"
     ]
    }
   ],
   "source": [
    "print(\"Cantidad ra menores a 0: \",data[data.ra < 0].ra.count())\n",
    "print(\"Cantidad ra mayores a 360: \",data[data.ra > 360].ra.count())"
   ]
  },
  {
   "cell_type": "markdown",
   "metadata": {},
   "source": [
    "Analizo variable dec, los valores no pueden ser menores a -90 o mayores a 90"
   ]
  },
  {
   "cell_type": "code",
   "execution_count": 26,
   "metadata": {},
   "outputs": [
    {
     "name": "stdout",
     "output_type": "stream",
     "text": [
      "Cantidad dec menores a -90:  0\n",
      "Cantidad dec mayores a 90:  0\n"
     ]
    }
   ],
   "source": [
    "print(\"Cantidad dec menores a -90: \",data[data.dec < -90].ra.count())\n",
    "print(\"Cantidad dec mayores a 90: \",data[data.dec > 90].ra.count())"
   ]
  },
  {
   "cell_type": "code",
   "execution_count": 27,
   "metadata": {},
   "outputs": [
    {
     "data": {
      "text/plain": [
       "count    57681.000000\n",
       "mean        54.057630\n",
       "std        882.310694\n",
       "min          0.842248\n",
       "25%          6.132339\n",
       "50%          8.386065\n",
       "75%         11.335120\n",
       "max      78255.000000\n",
       "Name: petroR90_r, dtype: float64"
      ]
     },
     "execution_count": 27,
     "metadata": {},
     "output_type": "execute_result"
    }
   ],
   "source": [
    "data['petroR90_r'].describe()"
   ]
  },
  {
   "cell_type": "markdown",
   "metadata": {},
   "source": [
    "Estadísticos de la variable petroR90_r mayores a la media"
   ]
  },
  {
   "cell_type": "code",
   "execution_count": 28,
   "metadata": {},
   "outputs": [
    {
     "data": {
      "text/plain": [
       "count      208.000000\n",
       "mean     12414.338905\n",
       "std       7927.348309\n",
       "min         54.828680\n",
       "25%      10079.500000\n",
       "50%      11511.000000\n",
       "75%      14692.250000\n",
       "max      78255.000000\n",
       "Name: petroR90_r, dtype: float64"
      ]
     },
     "execution_count": 28,
     "metadata": {},
     "output_type": "execute_result"
    }
   ],
   "source": [
    "data[data.petroR90_r > data.petroR90_r.mean()].petroR90_r.describe()"
   ]
  },
  {
   "cell_type": "code",
   "execution_count": 29,
   "metadata": {},
   "outputs": [
    {
     "data": {
      "text/plain": [
       "0.3606040117196304"
      ]
     },
     "execution_count": 29,
     "metadata": {},
     "output_type": "execute_result"
    }
   ],
   "source": [
    "data[data.petroR90_r > data.petroR90_r.mean()].petroR90_r.count() / data.petroR90_r.count() * 100"
   ]
  },
  {
   "cell_type": "markdown",
   "metadata": {},
   "source": [
    "Hay 369 valores petroR90_r mayores a la media, representa un ~0.4 % del total de datos"
   ]
  },
  {
   "cell_type": "code",
   "execution_count": 30,
   "metadata": {},
   "outputs": [
    {
     "data": {
      "image/png": "[encoded data removed]",
      "text/plain": [
       "<Figure size 1440x216 with 2 Axes>"
      ]
     },
     "metadata": {
      "needs_background": "light"
     },
     "output_type": "display_data"
    }
   ],
   "source": [
    "fig, ax = plt.subplots(ncols=2, figsize=(20,3))\n",
    "seaborn.boxplot(x=data[data.petroR90_r < data.petroR90_r.mean()].petroR90_r, ax=ax[0])\n",
    "seaborn.boxplot(x=data.petroR90_r, ax=ax[1])\n",
    "plt.suptitle(\"Boxplots de las variables ra, dec, petroR90_r, z, Color\")\n",
    "plt.show()"
   ]
  },
  {
   "cell_type": "code",
   "execution_count": 31,
   "metadata": {},
   "outputs": [
    {
     "data": {
      "text/html": [
       "<div>\n",
       "<style scoped>\n",
       "    .dataframe tbody tr th:only-of-type {\n",
       "        vertical-align: middle;\n",
       "    }\n",
       "\n",
       "    .dataframe tbody tr th {\n",
       "        vertical-align: top;\n",
       "    }\n",
       "\n",
       "    .dataframe thead th {\n",
       "        text-align: right;\n",
       "    }\n",
       "</style>\n",
       "<table border=\"1\" class=\"dataframe\">\n",
       "  <thead>\n",
       "    <tr style=\"text-align: right;\">\n",
       "      <th></th>\n",
       "      <th>0</th>\n",
       "    </tr>\n",
       "  </thead>\n",
       "  <tbody>\n",
       "    <tr>\n",
       "      <th>ra</th>\n",
       "      <td>True</td>\n",
       "    </tr>\n",
       "    <tr>\n",
       "      <th>dec</th>\n",
       "      <td>True</td>\n",
       "    </tr>\n",
       "    <tr>\n",
       "      <th>modelMag_u</th>\n",
       "      <td>True</td>\n",
       "    </tr>\n",
       "    <tr>\n",
       "      <th>modelMag_g</th>\n",
       "      <td>True</td>\n",
       "    </tr>\n",
       "    <tr>\n",
       "      <th>modelMag_r</th>\n",
       "      <td>True</td>\n",
       "    </tr>\n",
       "    <tr>\n",
       "      <th>modelMag_i</th>\n",
       "      <td>True</td>\n",
       "    </tr>\n",
       "    <tr>\n",
       "      <th>modelMag_z</th>\n",
       "      <td>True</td>\n",
       "    </tr>\n",
       "    <tr>\n",
       "      <th>petroR90_r</th>\n",
       "      <td>True</td>\n",
       "    </tr>\n",
       "    <tr>\n",
       "      <th>z</th>\n",
       "      <td>True</td>\n",
       "    </tr>\n",
       "    <tr>\n",
       "      <th>Color</th>\n",
       "      <td>True</td>\n",
       "    </tr>\n",
       "    <tr>\n",
       "      <th>elliptical</th>\n",
       "      <td>True</td>\n",
       "    </tr>\n",
       "    <tr>\n",
       "      <th>spiral</th>\n",
       "      <td>True</td>\n",
       "    </tr>\n",
       "    <tr>\n",
       "      <th>uncertain</th>\n",
       "      <td>True</td>\n",
       "    </tr>\n",
       "    <tr>\n",
       "      <th>tipo_galaxia</th>\n",
       "      <td>True</td>\n",
       "    </tr>\n",
       "  </tbody>\n",
       "</table>\n",
       "</div>"
      ],
      "text/plain": [
       "                 0\n",
       "ra            True\n",
       "dec           True\n",
       "modelMag_u    True\n",
       "modelMag_g    True\n",
       "modelMag_r    True\n",
       "modelMag_i    True\n",
       "modelMag_z    True\n",
       "petroR90_r    True\n",
       "z             True\n",
       "Color         True\n",
       "elliptical    True\n",
       "spiral        True\n",
       "uncertain     True\n",
       "tipo_galaxia  True"
      ]
     },
     "execution_count": 31,
     "metadata": {},
     "output_type": "execute_result"
    }
   ],
   "source": [
    "data.notnull().all().to_frame()"
   ]
  },
  {
   "cell_type": "markdown",
   "metadata": {},
   "source": [
    "No existen valores nulos"
   ]
  },
  {
   "cell_type": "markdown",
   "metadata": {},
   "source": [
    "No se observan variables nan"
   ]
  },
  {
   "cell_type": "markdown",
   "metadata": {},
   "source": [
    "### Elimine los outliers de cada Feature, indique el porcentaje de valores que se están eliminando"
   ]
  },
  {
   "cell_type": "markdown",
   "metadata": {},
   "source": [
    "Remoción de outliers de las variables relacionadas a la fracción de luz"
   ]
  },
  {
   "cell_type": "code",
   "execution_count": 32,
   "metadata": {},
   "outputs": [
    {
     "data": {
      "text/plain": [
       "95.35722334910976"
      ]
     },
     "execution_count": 32,
     "metadata": {},
     "output_type": "execute_result"
    }
   ],
   "source": [
    "iqr_factor = 2.5\n",
    "df_main_inliers, df_main_outliers = remove_outlier(data, \"modelMag_u\", iqr_factor)\n",
    "df_main_inliers, df_main_outliers = remove_outlier(df_main_inliers, \"modelMag_g\", iqr_factor)\n",
    "df_main_inliers, df_main_outliers = remove_outlier(df_main_inliers, \"modelMag_r\", iqr_factor)\n",
    "df_main_inliers, df_main_outliers = remove_outlier(df_main_inliers, \"modelMag_i\", iqr_factor)\n",
    "df_main_inliers, df_main_outliers = remove_outlier(df_main_inliers, \"modelMag_z\", iqr_factor)\n",
    "len(df_main_inliers) / len(data) * 100"
   ]
  },
  {
   "cell_type": "markdown",
   "metadata": {},
   "source": [
    "Después de remover los outlier, la cantidad de datos obtenidos representa un 95%"
   ]
  },
  {
   "cell_type": "code",
   "execution_count": 33,
   "metadata": {},
   "outputs": [
    {
     "data": {
      "text/plain": [
       "95.24973561484717"
      ]
     },
     "execution_count": 33,
     "metadata": {},
     "output_type": "execute_result"
    }
   ],
   "source": [
    "df_main_inliers, df_main_outliers = remove_outlier(df_main_inliers, \"ra\", iqr_factor)\n",
    "df_main_inliers, df_main_outliers = remove_outlier(df_main_inliers, \"dec\", iqr_factor)\n",
    "#df_main_inliers, df_main_outliers = remove_outlier(df_main_inliers, \"petroR90_r\", iqr_factor)\n",
    "df_main_inliers, df_main_outliers = remove_outlier(df_main_inliers, \"z\", iqr_factor)\n",
    "df_main_inliers, df_main_outliers = remove_outlier(df_main_inliers, \"Color\", iqr_factor)\n",
    "len(df_main_inliers) / len(data) * 100"
   ]
  },
  {
   "cell_type": "markdown",
   "metadata": {},
   "source": [
    "Después de remover los outliers, la cantidad de datos sigue representando un 95%"
   ]
  },
  {
   "cell_type": "code",
   "execution_count": 34,
   "metadata": {},
   "outputs": [
    {
     "data": {
      "text/plain": [
       "93.62181654270904"
      ]
     },
     "execution_count": 34,
     "metadata": {},
     "output_type": "execute_result"
    }
   ],
   "source": [
    "df_main_inliers, df_main_outliers = remove_outlier(df_main_inliers, \"petroR90_r\", iqr_factor)\n",
    "len(df_main_inliers) / len(data) * 100"
   ]
  },
  {
   "cell_type": "markdown",
   "metadata": {},
   "source": [
    "Luego de remover los outliers, el porcentaje en relación al dataframe original es elevado, un 93%. Se elimina un 7% del total de datos"
   ]
  },
  {
   "cell_type": "code",
   "execution_count": 35,
   "metadata": {},
   "outputs": [
    {
     "data": {
      "image/png": "[encoded data removed]",
      "text/plain": [
       "<Figure size 1440x216 with 5 Axes>"
      ]
     },
     "metadata": {
      "needs_background": "light"
     },
     "output_type": "display_data"
    }
   ],
   "source": [
    "fig, ax = plt.subplots(ncols=5, figsize=(20,3))\n",
    "seaborn.boxplot(x=df_main_inliers['modelMag_u'], ax=ax[0])\n",
    "seaborn.boxplot(x=df_main_inliers['modelMag_g'], ax=ax[1])\n",
    "seaborn.boxplot(x=df_main_inliers['modelMag_r'], ax=ax[2])\n",
    "seaborn.boxplot(x=df_main_inliers['modelMag_i'], ax=ax[3])\n",
    "seaborn.boxplot(x=df_main_inliers['modelMag_z'], ax=ax[4])\n",
    "plt.show()"
   ]
  },
  {
   "cell_type": "code",
   "execution_count": 36,
   "metadata": {},
   "outputs": [
    {
     "data": {
      "image/png": "[encoded data removed]",
      "text/plain": [
       "<Figure size 1440x216 with 5 Axes>"
      ]
     },
     "metadata": {
      "needs_background": "light"
     },
     "output_type": "display_data"
    }
   ],
   "source": [
    "fig, ax = plt.subplots(ncols=5, figsize=(20,3))\n",
    "seaborn.boxplot(x=df_main_inliers['ra'], ax=ax[0])\n",
    "seaborn.boxplot(x=df_main_inliers['dec'], ax=ax[1])\n",
    "seaborn.boxplot(x=df_main_inliers['petroR90_r'], ax=ax[2])\n",
    "seaborn.boxplot(x=df_main_inliers['z'], ax=ax[3])\n",
    "seaborn.boxplot(x=df_main_inliers['Color'], ax=ax[4])\n",
    "plt.show()"
   ]
  },
  {
   "cell_type": "code",
   "execution_count": 37,
   "metadata": {},
   "outputs": [
    {
     "data": {
      "text/plain": [
       "elliptical    50078\n",
       "spiral        35638\n",
       "uncertain     22288\n",
       "dtype: int64"
      ]
     },
     "execution_count": 37,
     "metadata": {},
     "output_type": "execute_result"
    }
   ],
   "source": [
    "cols_with_zero = df_main_inliers[df_main_inliers == 0].count(axis=0)\n",
    "cols_with_zero[cols_with_zero > 0]"
   ]
  },
  {
   "cell_type": "markdown",
   "metadata": {},
   "source": [
    "Las varibales de categoría de tipo de galaxia cuentan con ceros. Es lógico ya que son utilizadas para categorizar mediante valor booleano (0 o 1)"
   ]
  },
  {
   "cell_type": "code",
   "execution_count": 38,
   "metadata": {},
   "outputs": [],
   "source": [
    "col_num = df_main_inliers.select_dtypes(['float']).columns"
   ]
  },
  {
   "cell_type": "markdown",
   "metadata": {},
   "source": [
    "Distribución de las variables numéricas"
   ]
  },
  {
   "cell_type": "code",
   "execution_count": 39,
   "metadata": {},
   "outputs": [
    {
     "data": {
      "image/png": "[encoded data removed]",
      "text/plain": [
       "<Figure size 720x3240 with 10 Axes>"
      ]
     },
     "metadata": {
      "needs_background": "light"
     },
     "output_type": "display_data"
    }
   ],
   "source": [
    "fig, axs = plt.subplots(len(col_num), figsize=(10, 45))\n",
    "for n, col in enumerate(col_num):\n",
    "    df_main_inliers[col].hist(ax=axs[n],bins=50, label=col)\n",
    "    axs[n].legend()"
   ]
  },
  {
   "cell_type": "markdown",
   "metadata": {},
   "source": [
    "A partir de los histogramas podemos observar que las varibles relacionadas a la fracción de luz tienden a una distribuciób normal, excepto las variables modelMag_z y modelMag_i.\n",
    "\n",
    "La variable petroR900_r tiende a una distribución normal con una cola hacia la derecha.\n",
    "\n",
    "La variable color tiende a una distribución chi cuadrado."
   ]
  },
  {
   "cell_type": "code",
   "execution_count": 40,
   "metadata": {
    "tags": []
   },
   "outputs": [
    {
     "data": {
      "text/plain": [
       "ra              0\n",
       "dec             0\n",
       "modelMag_u      0\n",
       "modelMag_g      0\n",
       "modelMag_r      0\n",
       "modelMag_i      0\n",
       "modelMag_z      0\n",
       "petroR90_r      0\n",
       "z               0\n",
       "Color           0\n",
       "elliptical      0\n",
       "spiral          0\n",
       "uncertain       0\n",
       "tipo_galaxia    0\n",
       "dtype: int64"
      ]
     },
     "execution_count": 40,
     "metadata": {},
     "output_type": "execute_result"
    }
   ],
   "source": [
    "missing_values_count = df_main_inliers.isna().sum()\n",
    "missing_values_count"
   ]
  },
  {
   "cell_type": "code",
   "execution_count": 41,
   "metadata": {},
   "outputs": [
    {
     "data": {
      "text/plain": [
       "<AxesSubplot:>"
      ]
     },
     "execution_count": 41,
     "metadata": {},
     "output_type": "execute_result"
    },
    {
     "data": {
      "image/png": "[encoded data removed]",
      "text/plain": [
       "<Figure size 864x432 with 3 Axes>"
      ]
     },
     "metadata": {
      "needs_background": "light"
     },
     "output_type": "display_data"
    }
   ],
   "source": [
    "msno.bar(df_main_inliers,figsize=(12, 6), fontsize=12, color='steelblue')"
   ]
  },
  {
   "cell_type": "code",
   "execution_count": 42,
   "metadata": {},
   "outputs": [
    {
     "data": {
      "text/plain": [
       "<AxesSubplot:>"
      ]
     },
     "execution_count": 42,
     "metadata": {},
     "output_type": "execute_result"
    },
    {
     "data": {
      "image/png": "[encoded data removed]",
      "text/plain": [
       "<Figure size 864x432 with 2 Axes>"
      ]
     },
     "metadata": {
      "needs_background": "light"
     },
     "output_type": "display_data"
    }
   ],
   "source": [
    "msno.matrix(df_main_inliers,figsize=(12, 6), fontsize=12, color=[0,0,0.2])"
   ]
  },
  {
   "cell_type": "markdown",
   "metadata": {},
   "source": [
    "No se observan valor a imputar"
   ]
  },
  {
   "cell_type": "markdown",
   "metadata": {},
   "source": [
    "### Genere un nuevo DataFramen (df1)."
   ]
  },
  {
   "cell_type": "code",
   "execution_count": 43,
   "metadata": {},
   "outputs": [],
   "source": [
    "df1 = df_main_inliers.copy()"
   ]
  },
  {
   "cell_type": "code",
   "execution_count": 44,
   "metadata": {},
   "outputs": [
    {
     "data": {
      "text/html": [
       "<div>\n",
       "<style scoped>\n",
       "    .dataframe tbody tr th:only-of-type {\n",
       "        vertical-align: middle;\n",
       "    }\n",
       "\n",
       "    .dataframe tbody tr th {\n",
       "        vertical-align: top;\n",
       "    }\n",
       "\n",
       "    .dataframe thead th {\n",
       "        text-align: right;\n",
       "    }\n",
       "</style>\n",
       "<table border=\"1\" class=\"dataframe\">\n",
       "  <thead>\n",
       "    <tr style=\"text-align: right;\">\n",
       "      <th></th>\n",
       "      <th>ra</th>\n",
       "      <th>dec</th>\n",
       "      <th>modelMag_u</th>\n",
       "      <th>modelMag_g</th>\n",
       "      <th>modelMag_r</th>\n",
       "      <th>modelMag_i</th>\n",
       "      <th>modelMag_z</th>\n",
       "      <th>petroR90_r</th>\n",
       "      <th>z</th>\n",
       "      <th>Color</th>\n",
       "      <th>elliptical</th>\n",
       "      <th>spiral</th>\n",
       "      <th>uncertain</th>\n",
       "      <th>tipo_galaxia</th>\n",
       "    </tr>\n",
       "    <tr>\n",
       "      <th>objID</th>\n",
       "      <th></th>\n",
       "      <th></th>\n",
       "      <th></th>\n",
       "      <th></th>\n",
       "      <th></th>\n",
       "      <th></th>\n",
       "      <th></th>\n",
       "      <th></th>\n",
       "      <th></th>\n",
       "      <th></th>\n",
       "      <th></th>\n",
       "      <th></th>\n",
       "      <th></th>\n",
       "      <th></th>\n",
       "    </tr>\n",
       "  </thead>\n",
       "  <tbody>\n",
       "    <tr>\n",
       "      <th>1,23765119242489E+018</th>\n",
       "      <td>116.519097</td>\n",
       "      <td>39.886407</td>\n",
       "      <td>17.76235</td>\n",
       "      <td>16.72601</td>\n",
       "      <td>16.33972</td>\n",
       "      <td>16.06614</td>\n",
       "      <td>15.90478</td>\n",
       "      <td>8.393773</td>\n",
       "      <td>0.041521</td>\n",
       "      <td>-1.422625</td>\n",
       "      <td>0</td>\n",
       "      <td>1</td>\n",
       "      <td>0</td>\n",
       "      <td>spiral</td>\n",
       "    </tr>\n",
       "    <tr>\n",
       "      <th>1,23765149575578E+018</th>\n",
       "      <td>116.451900</td>\n",
       "      <td>41.421270</td>\n",
       "      <td>18.12179</td>\n",
       "      <td>16.26214</td>\n",
       "      <td>15.39272</td>\n",
       "      <td>14.97515</td>\n",
       "      <td>14.65105</td>\n",
       "      <td>9.674847</td>\n",
       "      <td>0.040211</td>\n",
       "      <td>-2.729061</td>\n",
       "      <td>0</td>\n",
       "      <td>0</td>\n",
       "      <td>1</td>\n",
       "      <td>uncertain</td>\n",
       "    </tr>\n",
       "    <tr>\n",
       "      <th>1,23767370611537E+018</th>\n",
       "      <td>115.946713</td>\n",
       "      <td>41.918877</td>\n",
       "      <td>18.57293</td>\n",
       "      <td>17.42053</td>\n",
       "      <td>17.01788</td>\n",
       "      <td>16.75617</td>\n",
       "      <td>16.70899</td>\n",
       "      <td>11.277470</td>\n",
       "      <td>0.024386</td>\n",
       "      <td>-1.555044</td>\n",
       "      <td>0</td>\n",
       "      <td>0</td>\n",
       "      <td>1</td>\n",
       "      <td>uncertain</td>\n",
       "    </tr>\n",
       "    <tr>\n",
       "      <th>1,2376737066523E+018</th>\n",
       "      <td>116.051943</td>\n",
       "      <td>42.287231</td>\n",
       "      <td>21.37438</td>\n",
       "      <td>19.77335</td>\n",
       "      <td>19.55791</td>\n",
       "      <td>20.35405</td>\n",
       "      <td>18.88184</td>\n",
       "      <td>1.539542</td>\n",
       "      <td>0.039137</td>\n",
       "      <td>-1.816479</td>\n",
       "      <td>0</td>\n",
       "      <td>0</td>\n",
       "      <td>1</td>\n",
       "      <td>uncertain</td>\n",
       "    </tr>\n",
       "    <tr>\n",
       "      <th>1,23765127349266E+018</th>\n",
       "      <td>117.287392</td>\n",
       "      <td>43.434782</td>\n",
       "      <td>19.18845</td>\n",
       "      <td>17.99682</td>\n",
       "      <td>17.51119</td>\n",
       "      <td>17.26241</td>\n",
       "      <td>17.09056</td>\n",
       "      <td>12.471450</td>\n",
       "      <td>0.042591</td>\n",
       "      <td>-1.677259</td>\n",
       "      <td>0</td>\n",
       "      <td>0</td>\n",
       "      <td>1</td>\n",
       "      <td>uncertain</td>\n",
       "    </tr>\n",
       "    <tr>\n",
       "      <th>...</th>\n",
       "      <td>...</td>\n",
       "      <td>...</td>\n",
       "      <td>...</td>\n",
       "      <td>...</td>\n",
       "      <td>...</td>\n",
       "      <td>...</td>\n",
       "      <td>...</td>\n",
       "      <td>...</td>\n",
       "      <td>...</td>\n",
       "      <td>...</td>\n",
       "      <td>...</td>\n",
       "      <td>...</td>\n",
       "      <td>...</td>\n",
       "      <td>...</td>\n",
       "    </tr>\n",
       "    <tr>\n",
       "      <th>1,23766556715083E+018</th>\n",
       "      <td>231.130092</td>\n",
       "      <td>18.628772</td>\n",
       "      <td>18.31966</td>\n",
       "      <td>16.61474</td>\n",
       "      <td>15.80569</td>\n",
       "      <td>15.41106</td>\n",
       "      <td>15.11063</td>\n",
       "      <td>9.954793</td>\n",
       "      <td>0.029269</td>\n",
       "      <td>-2.513965</td>\n",
       "      <td>1</td>\n",
       "      <td>0</td>\n",
       "      <td>0</td>\n",
       "      <td>elliptical</td>\n",
       "    </tr>\n",
       "    <tr>\n",
       "      <th>1,23765495320163E+018</th>\n",
       "      <td>245.132716</td>\n",
       "      <td>49.797424</td>\n",
       "      <td>18.05554</td>\n",
       "      <td>17.05332</td>\n",
       "      <td>16.70874</td>\n",
       "      <td>16.50322</td>\n",
       "      <td>16.34947</td>\n",
       "      <td>9.012850</td>\n",
       "      <td>0.040825</td>\n",
       "      <td>-1.346800</td>\n",
       "      <td>0</td>\n",
       "      <td>0</td>\n",
       "      <td>1</td>\n",
       "      <td>uncertain</td>\n",
       "    </tr>\n",
       "    <tr>\n",
       "      <th>1,23765494945271E+018</th>\n",
       "      <td>245.038742</td>\n",
       "      <td>50.552353</td>\n",
       "      <td>19.65135</td>\n",
       "      <td>17.74399</td>\n",
       "      <td>16.86763</td>\n",
       "      <td>16.43538</td>\n",
       "      <td>16.09720</td>\n",
       "      <td>3.514471</td>\n",
       "      <td>0.048618</td>\n",
       "      <td>-2.783718</td>\n",
       "      <td>0</td>\n",
       "      <td>0</td>\n",
       "      <td>1</td>\n",
       "      <td>uncertain</td>\n",
       "    </tr>\n",
       "    <tr>\n",
       "      <th>1,23765153764514E+018</th>\n",
       "      <td>219.313588</td>\n",
       "      <td>62.338577</td>\n",
       "      <td>18.77944</td>\n",
       "      <td>17.71890</td>\n",
       "      <td>17.35237</td>\n",
       "      <td>17.14414</td>\n",
       "      <td>17.04369</td>\n",
       "      <td>4.985637</td>\n",
       "      <td>0.036884</td>\n",
       "      <td>-1.427076</td>\n",
       "      <td>0</td>\n",
       "      <td>0</td>\n",
       "      <td>1</td>\n",
       "      <td>uncertain</td>\n",
       "    </tr>\n",
       "    <tr>\n",
       "      <th>1,237655744025E+018</th>\n",
       "      <td>239.043213</td>\n",
       "      <td>4.601942</td>\n",
       "      <td>18.93000</td>\n",
       "      <td>17.34099</td>\n",
       "      <td>16.79838</td>\n",
       "      <td>16.53403</td>\n",
       "      <td>16.52089</td>\n",
       "      <td>13.324690</td>\n",
       "      <td>0.034145</td>\n",
       "      <td>-2.131620</td>\n",
       "      <td>0</td>\n",
       "      <td>1</td>\n",
       "      <td>0</td>\n",
       "      <td>spiral</td>\n",
       "    </tr>\n",
       "  </tbody>\n",
       "</table>\n",
       "<p>54002 rows × 14 columns</p>\n",
       "</div>"
      ],
      "text/plain": [
       "                               ra        dec  modelMag_u  modelMag_g  \\\n",
       "objID                                                                  \n",
       "1,23765119242489E+018  116.519097  39.886407    17.76235    16.72601   \n",
       "1,23765149575578E+018  116.451900  41.421270    18.12179    16.26214   \n",
       "1,23767370611537E+018  115.946713  41.918877    18.57293    17.42053   \n",
       "1,2376737066523E+018   116.051943  42.287231    21.37438    19.77335   \n",
       "1,23765127349266E+018  117.287392  43.434782    19.18845    17.99682   \n",
       "...                           ...        ...         ...         ...   \n",
       "1,23766556715083E+018  231.130092  18.628772    18.31966    16.61474   \n",
       "1,23765495320163E+018  245.132716  49.797424    18.05554    17.05332   \n",
       "1,23765494945271E+018  245.038742  50.552353    19.65135    17.74399   \n",
       "1,23765153764514E+018  219.313588  62.338577    18.77944    17.71890   \n",
       "1,237655744025E+018    239.043213   4.601942    18.93000    17.34099   \n",
       "\n",
       "                       modelMag_r  modelMag_i  modelMag_z  petroR90_r  \\\n",
       "objID                                                                   \n",
       "1,23765119242489E+018    16.33972    16.06614    15.90478    8.393773   \n",
       "1,23765149575578E+018    15.39272    14.97515    14.65105    9.674847   \n",
       "1,23767370611537E+018    17.01788    16.75617    16.70899   11.277470   \n",
       "1,2376737066523E+018     19.55791    20.35405    18.88184    1.539542   \n",
       "1,23765127349266E+018    17.51119    17.26241    17.09056   12.471450   \n",
       "...                           ...         ...         ...         ...   \n",
       "1,23766556715083E+018    15.80569    15.41106    15.11063    9.954793   \n",
       "1,23765495320163E+018    16.70874    16.50322    16.34947    9.012850   \n",
       "1,23765494945271E+018    16.86763    16.43538    16.09720    3.514471   \n",
       "1,23765153764514E+018    17.35237    17.14414    17.04369    4.985637   \n",
       "1,237655744025E+018      16.79838    16.53403    16.52089   13.324690   \n",
       "\n",
       "                              z     Color  elliptical  spiral  uncertain  \\\n",
       "objID                                                                      \n",
       "1,23765119242489E+018  0.041521 -1.422625           0       1          0   \n",
       "1,23765149575578E+018  0.040211 -2.729061           0       0          1   \n",
       "1,23767370611537E+018  0.024386 -1.555044           0       0          1   \n",
       "1,2376737066523E+018   0.039137 -1.816479           0       0          1   \n",
       "1,23765127349266E+018  0.042591 -1.677259           0       0          1   \n",
       "...                         ...       ...         ...     ...        ...   \n",
       "1,23766556715083E+018  0.029269 -2.513965           1       0          0   \n",
       "1,23765495320163E+018  0.040825 -1.346800           0       0          1   \n",
       "1,23765494945271E+018  0.048618 -2.783718           0       0          1   \n",
       "1,23765153764514E+018  0.036884 -1.427076           0       0          1   \n",
       "1,237655744025E+018    0.034145 -2.131620           0       1          0   \n",
       "\n",
       "                      tipo_galaxia  \n",
       "objID                               \n",
       "1,23765119242489E+018       spiral  \n",
       "1,23765149575578E+018    uncertain  \n",
       "1,23767370611537E+018    uncertain  \n",
       "1,2376737066523E+018     uncertain  \n",
       "1,23765127349266E+018    uncertain  \n",
       "...                            ...  \n",
       "1,23766556715083E+018   elliptical  \n",
       "1,23765495320163E+018    uncertain  \n",
       "1,23765494945271E+018    uncertain  \n",
       "1,23765153764514E+018    uncertain  \n",
       "1,237655744025E+018         spiral  \n",
       "\n",
       "[54002 rows x 14 columns]"
      ]
     },
     "execution_count": 44,
     "metadata": {},
     "output_type": "execute_result"
    }
   ],
   "source": [
    "df1"
   ]
  },
  {
   "cell_type": "markdown",
   "metadata": {},
   "source": [
    "### Cargar los valores de las imágenes correspondientes a las galaxias de df1.\n",
    "\n",
    "Se toman las posciones angulares (ra, dec) de cada  galaxia y se descargan sus correspondientes imágenes en los filtros **g**, **r** y **z**. \n",
    "\n",
    "Todos los filtros para SDSS\n",
    "**'Optical:SDSS**: ['SDSSg',\n",
    "                  'SDSSi',\n",
    "                  'SDSSr',\n",
    "                  'SDSSu',\n",
    "                  'SDSSz']"
   ]
  },
  {
   "cell_type": "code",
   "execution_count": 45,
   "metadata": {},
   "outputs": [
    {
     "data": {
      "text/plain": [
       "<matplotlib.colorbar.Colorbar at 0x7f23d057e5e0>"
      ]
     },
     "execution_count": 45,
     "metadata": {},
     "output_type": "execute_result"
    },
    {
     "data": {
      "image/png": "[encoded data removed]",
      "text/plain": [
       "<Figure size 432x288 with 2 Axes>"
      ]
     },
     "metadata": {
      "needs_background": "light"
     },
     "output_type": "display_data"
    }
   ],
   "source": [
    "from astropy.coordinates import SkyCoord\n",
    "from matplotlib.colors import LogNorm\n",
    "\n",
    "# Ejemplo de una sola imagen\n",
    "coords_gx = SkyCoord(df1.ra.iloc[2], df1.dec.iloc[2], unit=(u.deg, u.deg))\n",
    "img = SkyView.get_images(position=coords_gx, survey=['SDSSg', 'SDSSi', 'SDSSr', 'SDSSu', 'SDSSz'])\n",
    "\n",
    "# Visualización de una de las galaxias.\n",
    "img[0][0].data\n",
    "\n",
    "\n",
    "plt.imshow(img[0][0].data, cmap='Blues', norm=LogNorm(), origin='lower')\n",
    "plt.colorbar()"
   ]
  },
  {
   "cell_type": "code",
   "execution_count": 46,
   "metadata": {
    "tags": []
   },
   "outputs": [],
   "source": [
    "split = np.array_split(df1,10)"
   ]
  },
  {
   "cell_type": "code",
   "execution_count": 47,
   "metadata": {},
   "outputs": [],
   "source": [
    "df_temp = df1.index.drop_duplicates(keep='first')"
   ]
  },
  {
   "cell_type": "code",
   "execution_count": 48,
   "metadata": {},
   "outputs": [
    {
     "data": {
      "text/html": [
       "<div>\n",
       "<style scoped>\n",
       "    .dataframe tbody tr th:only-of-type {\n",
       "        vertical-align: middle;\n",
       "    }\n",
       "\n",
       "    .dataframe tbody tr th {\n",
       "        vertical-align: top;\n",
       "    }\n",
       "\n",
       "    .dataframe thead th {\n",
       "        text-align: right;\n",
       "    }\n",
       "</style>\n",
       "<table border=\"1\" class=\"dataframe\">\n",
       "  <thead>\n",
       "    <tr style=\"text-align: right;\">\n",
       "      <th></th>\n",
       "      <th>ra</th>\n",
       "      <th>dec</th>\n",
       "      <th>modelMag_u</th>\n",
       "      <th>modelMag_g</th>\n",
       "      <th>modelMag_r</th>\n",
       "      <th>modelMag_i</th>\n",
       "      <th>modelMag_z</th>\n",
       "      <th>petroR90_r</th>\n",
       "      <th>z</th>\n",
       "      <th>Color</th>\n",
       "      <th>elliptical</th>\n",
       "      <th>spiral</th>\n",
       "      <th>uncertain</th>\n",
       "      <th>tipo_galaxia</th>\n",
       "    </tr>\n",
       "    <tr>\n",
       "      <th>objID</th>\n",
       "      <th></th>\n",
       "      <th></th>\n",
       "      <th></th>\n",
       "      <th></th>\n",
       "      <th></th>\n",
       "      <th></th>\n",
       "      <th></th>\n",
       "      <th></th>\n",
       "      <th></th>\n",
       "      <th></th>\n",
       "      <th></th>\n",
       "      <th></th>\n",
       "      <th></th>\n",
       "      <th></th>\n",
       "    </tr>\n",
       "  </thead>\n",
       "  <tbody>\n",
       "    <tr>\n",
       "      <th>1,23765119242489E+018</th>\n",
       "      <td>116.519097</td>\n",
       "      <td>39.886407</td>\n",
       "      <td>17.76235</td>\n",
       "      <td>16.72601</td>\n",
       "      <td>16.33972</td>\n",
       "      <td>16.06614</td>\n",
       "      <td>15.90478</td>\n",
       "      <td>8.393773</td>\n",
       "      <td>0.041521</td>\n",
       "      <td>-1.422625</td>\n",
       "      <td>0</td>\n",
       "      <td>1</td>\n",
       "      <td>0</td>\n",
       "      <td>spiral</td>\n",
       "    </tr>\n",
       "    <tr>\n",
       "      <th>1,23765149575578E+018</th>\n",
       "      <td>116.451900</td>\n",
       "      <td>41.421270</td>\n",
       "      <td>18.12179</td>\n",
       "      <td>16.26214</td>\n",
       "      <td>15.39272</td>\n",
       "      <td>14.97515</td>\n",
       "      <td>14.65105</td>\n",
       "      <td>9.674847</td>\n",
       "      <td>0.040211</td>\n",
       "      <td>-2.729061</td>\n",
       "      <td>0</td>\n",
       "      <td>0</td>\n",
       "      <td>1</td>\n",
       "      <td>uncertain</td>\n",
       "    </tr>\n",
       "    <tr>\n",
       "      <th>1,23767370611537E+018</th>\n",
       "      <td>115.946713</td>\n",
       "      <td>41.918877</td>\n",
       "      <td>18.57293</td>\n",
       "      <td>17.42053</td>\n",
       "      <td>17.01788</td>\n",
       "      <td>16.75617</td>\n",
       "      <td>16.70899</td>\n",
       "      <td>11.277470</td>\n",
       "      <td>0.024386</td>\n",
       "      <td>-1.555044</td>\n",
       "      <td>0</td>\n",
       "      <td>0</td>\n",
       "      <td>1</td>\n",
       "      <td>uncertain</td>\n",
       "    </tr>\n",
       "    <tr>\n",
       "      <th>1,2376737066523E+018</th>\n",
       "      <td>116.051943</td>\n",
       "      <td>42.287231</td>\n",
       "      <td>21.37438</td>\n",
       "      <td>19.77335</td>\n",
       "      <td>19.55791</td>\n",
       "      <td>20.35405</td>\n",
       "      <td>18.88184</td>\n",
       "      <td>1.539542</td>\n",
       "      <td>0.039137</td>\n",
       "      <td>-1.816479</td>\n",
       "      <td>0</td>\n",
       "      <td>0</td>\n",
       "      <td>1</td>\n",
       "      <td>uncertain</td>\n",
       "    </tr>\n",
       "    <tr>\n",
       "      <th>1,23765127349266E+018</th>\n",
       "      <td>117.287392</td>\n",
       "      <td>43.434782</td>\n",
       "      <td>19.18845</td>\n",
       "      <td>17.99682</td>\n",
       "      <td>17.51119</td>\n",
       "      <td>17.26241</td>\n",
       "      <td>17.09056</td>\n",
       "      <td>12.471450</td>\n",
       "      <td>0.042591</td>\n",
       "      <td>-1.677259</td>\n",
       "      <td>0</td>\n",
       "      <td>0</td>\n",
       "      <td>1</td>\n",
       "      <td>uncertain</td>\n",
       "    </tr>\n",
       "    <tr>\n",
       "      <th>...</th>\n",
       "      <td>...</td>\n",
       "      <td>...</td>\n",
       "      <td>...</td>\n",
       "      <td>...</td>\n",
       "      <td>...</td>\n",
       "      <td>...</td>\n",
       "      <td>...</td>\n",
       "      <td>...</td>\n",
       "      <td>...</td>\n",
       "      <td>...</td>\n",
       "      <td>...</td>\n",
       "      <td>...</td>\n",
       "      <td>...</td>\n",
       "      <td>...</td>\n",
       "    </tr>\n",
       "    <tr>\n",
       "      <th>1,23766556715083E+018</th>\n",
       "      <td>231.130092</td>\n",
       "      <td>18.628772</td>\n",
       "      <td>18.31966</td>\n",
       "      <td>16.61474</td>\n",
       "      <td>15.80569</td>\n",
       "      <td>15.41106</td>\n",
       "      <td>15.11063</td>\n",
       "      <td>9.954793</td>\n",
       "      <td>0.029269</td>\n",
       "      <td>-2.513965</td>\n",
       "      <td>1</td>\n",
       "      <td>0</td>\n",
       "      <td>0</td>\n",
       "      <td>elliptical</td>\n",
       "    </tr>\n",
       "    <tr>\n",
       "      <th>1,23765495320163E+018</th>\n",
       "      <td>245.132716</td>\n",
       "      <td>49.797424</td>\n",
       "      <td>18.05554</td>\n",
       "      <td>17.05332</td>\n",
       "      <td>16.70874</td>\n",
       "      <td>16.50322</td>\n",
       "      <td>16.34947</td>\n",
       "      <td>9.012850</td>\n",
       "      <td>0.040825</td>\n",
       "      <td>-1.346800</td>\n",
       "      <td>0</td>\n",
       "      <td>0</td>\n",
       "      <td>1</td>\n",
       "      <td>uncertain</td>\n",
       "    </tr>\n",
       "    <tr>\n",
       "      <th>1,23765494945271E+018</th>\n",
       "      <td>245.038742</td>\n",
       "      <td>50.552353</td>\n",
       "      <td>19.65135</td>\n",
       "      <td>17.74399</td>\n",
       "      <td>16.86763</td>\n",
       "      <td>16.43538</td>\n",
       "      <td>16.09720</td>\n",
       "      <td>3.514471</td>\n",
       "      <td>0.048618</td>\n",
       "      <td>-2.783718</td>\n",
       "      <td>0</td>\n",
       "      <td>0</td>\n",
       "      <td>1</td>\n",
       "      <td>uncertain</td>\n",
       "    </tr>\n",
       "    <tr>\n",
       "      <th>1,23765153764514E+018</th>\n",
       "      <td>219.313588</td>\n",
       "      <td>62.338577</td>\n",
       "      <td>18.77944</td>\n",
       "      <td>17.71890</td>\n",
       "      <td>17.35237</td>\n",
       "      <td>17.14414</td>\n",
       "      <td>17.04369</td>\n",
       "      <td>4.985637</td>\n",
       "      <td>0.036884</td>\n",
       "      <td>-1.427076</td>\n",
       "      <td>0</td>\n",
       "      <td>0</td>\n",
       "      <td>1</td>\n",
       "      <td>uncertain</td>\n",
       "    </tr>\n",
       "    <tr>\n",
       "      <th>1,237655744025E+018</th>\n",
       "      <td>239.043213</td>\n",
       "      <td>4.601942</td>\n",
       "      <td>18.93000</td>\n",
       "      <td>17.34099</td>\n",
       "      <td>16.79838</td>\n",
       "      <td>16.53403</td>\n",
       "      <td>16.52089</td>\n",
       "      <td>13.324690</td>\n",
       "      <td>0.034145</td>\n",
       "      <td>-2.131620</td>\n",
       "      <td>0</td>\n",
       "      <td>1</td>\n",
       "      <td>0</td>\n",
       "      <td>spiral</td>\n",
       "    </tr>\n",
       "  </tbody>\n",
       "</table>\n",
       "<p>54002 rows × 14 columns</p>\n",
       "</div>"
      ],
      "text/plain": [
       "                               ra        dec  modelMag_u  modelMag_g  \\\n",
       "objID                                                                  \n",
       "1,23765119242489E+018  116.519097  39.886407    17.76235    16.72601   \n",
       "1,23765149575578E+018  116.451900  41.421270    18.12179    16.26214   \n",
       "1,23767370611537E+018  115.946713  41.918877    18.57293    17.42053   \n",
       "1,2376737066523E+018   116.051943  42.287231    21.37438    19.77335   \n",
       "1,23765127349266E+018  117.287392  43.434782    19.18845    17.99682   \n",
       "...                           ...        ...         ...         ...   \n",
       "1,23766556715083E+018  231.130092  18.628772    18.31966    16.61474   \n",
       "1,23765495320163E+018  245.132716  49.797424    18.05554    17.05332   \n",
       "1,23765494945271E+018  245.038742  50.552353    19.65135    17.74399   \n",
       "1,23765153764514E+018  219.313588  62.338577    18.77944    17.71890   \n",
       "1,237655744025E+018    239.043213   4.601942    18.93000    17.34099   \n",
       "\n",
       "                       modelMag_r  modelMag_i  modelMag_z  petroR90_r  \\\n",
       "objID                                                                   \n",
       "1,23765119242489E+018    16.33972    16.06614    15.90478    8.393773   \n",
       "1,23765149575578E+018    15.39272    14.97515    14.65105    9.674847   \n",
       "1,23767370611537E+018    17.01788    16.75617    16.70899   11.277470   \n",
       "1,2376737066523E+018     19.55791    20.35405    18.88184    1.539542   \n",
       "1,23765127349266E+018    17.51119    17.26241    17.09056   12.471450   \n",
       "...                           ...         ...         ...         ...   \n",
       "1,23766556715083E+018    15.80569    15.41106    15.11063    9.954793   \n",
       "1,23765495320163E+018    16.70874    16.50322    16.34947    9.012850   \n",
       "1,23765494945271E+018    16.86763    16.43538    16.09720    3.514471   \n",
       "1,23765153764514E+018    17.35237    17.14414    17.04369    4.985637   \n",
       "1,237655744025E+018      16.79838    16.53403    16.52089   13.324690   \n",
       "\n",
       "                              z     Color  elliptical  spiral  uncertain  \\\n",
       "objID                                                                      \n",
       "1,23765119242489E+018  0.041521 -1.422625           0       1          0   \n",
       "1,23765149575578E+018  0.040211 -2.729061           0       0          1   \n",
       "1,23767370611537E+018  0.024386 -1.555044           0       0          1   \n",
       "1,2376737066523E+018   0.039137 -1.816479           0       0          1   \n",
       "1,23765127349266E+018  0.042591 -1.677259           0       0          1   \n",
       "...                         ...       ...         ...     ...        ...   \n",
       "1,23766556715083E+018  0.029269 -2.513965           1       0          0   \n",
       "1,23765495320163E+018  0.040825 -1.346800           0       0          1   \n",
       "1,23765494945271E+018  0.048618 -2.783718           0       0          1   \n",
       "1,23765153764514E+018  0.036884 -1.427076           0       0          1   \n",
       "1,237655744025E+018    0.034145 -2.131620           0       1          0   \n",
       "\n",
       "                      tipo_galaxia  \n",
       "objID                               \n",
       "1,23765119242489E+018       spiral  \n",
       "1,23765149575578E+018    uncertain  \n",
       "1,23767370611537E+018    uncertain  \n",
       "1,2376737066523E+018     uncertain  \n",
       "1,23765127349266E+018    uncertain  \n",
       "...                            ...  \n",
       "1,23766556715083E+018   elliptical  \n",
       "1,23765495320163E+018    uncertain  \n",
       "1,23765494945271E+018    uncertain  \n",
       "1,23765153764514E+018    uncertain  \n",
       "1,237655744025E+018         spiral  \n",
       "\n",
       "[54002 rows x 14 columns]"
      ]
     },
     "execution_count": 48,
     "metadata": {},
     "output_type": "execute_result"
    }
   ],
   "source": [
    "df1"
   ]
  },
  {
   "cell_type": "code",
   "execution_count": 49,
   "metadata": {},
   "outputs": [
    {
     "name": "stdout",
     "output_type": "stream",
     "text": [
      "1,23765119242489E+018\n",
      ">>> successfull downloading image 1\n",
      "finish\n"
     ]
    }
   ],
   "source": [
    "images = {}\n",
    "initial = 0\n",
    "for index, row in df1.iterrows():\n",
    "    if (initial < 1):\n",
    "        coords_gx = SkyCoord(row.ra, row.dec, unit=(u.deg, u.deg))\n",
    "        img = SkyView.get_images(position=coords_gx, survey=['SDSSg', 'SDSSi', 'SDSSr', 'SDSSu', 'SDSSz'])\n",
    "        print(index)\n",
    "        images[index] = img\n",
    "        initial += 1\n",
    "        print(f\">>> successfull downloading image {initial}\")\n",
    "print(\"finish\")"
   ]
  },
  {
   "cell_type": "code",
   "execution_count": 50,
   "metadata": {},
   "outputs": [
    {
     "data": {
      "text/plain": [
       "[<astropy.io.fits.hdu.image.PrimaryHDU object at 0x7f23d2ef03a0>]"
      ]
     },
     "execution_count": 50,
     "metadata": {},
     "output_type": "execute_result"
    }
   ],
   "source": [
    "images[df1.index[0]][0]"
   ]
  },
  {
   "cell_type": "code",
   "execution_count": 51,
   "metadata": {
    "tags": []
   },
   "outputs": [],
   "source": [
    "#images = []\n",
    "#initial = 0\n",
    "#total = len(df1)\n",
    "\n",
    "#for index, row in df_tmp[['ra','dec']].iterrows():\n",
    "#    if (initial < total):\n",
    "#       coords_gx = SkyCoord(row.ra, row.dec, unit=(u.deg, u.deg))\n",
    "#       img = SkyView.get_images(position=coords_gx, survey=['SDSSg', 'SDSSi', 'SDSSr', 'SDSSu', 'SDSSz'])\n",
    "#       images.append(img)\n",
    "#       initial += 1\n",
    "#       print(f\">>> successfull downloading image {initial}\")\n",
    "#   else:\n",
    "#       print(f\"Finish downloading from {initial} to {total} images\")\n",
    "#       print(\"wait 5 seconds\")\n",
    "#      time.sleep(5)\n",
    "#        total += 10"
   ]
  },
  {
   "cell_type": "code",
   "execution_count": 52,
   "metadata": {
    "tags": []
   },
   "outputs": [
    {
     "data": {
      "text/plain": [
       "<matplotlib.image.AxesImage at 0x7f23d058e310>"
      ]
     },
     "execution_count": 52,
     "metadata": {},
     "output_type": "execute_result"
    },
    {
     "data": {
      "image/png": "[encoded data removed]",
      "text/plain": [
       "<Figure size 432x288 with 1 Axes>"
      ]
     },
     "metadata": {
      "needs_background": "light"
     },
     "output_type": "display_data"
    }
   ],
   "source": [
    "# por cada filtro survey=['SDSSg', 'SDSSi', 'SDSSr', 'SDSSu', 'SDSSz'] obtiene un array de 300\n",
    "plt.imshow(images[df1.index[0]][0][0].data, cmap='Blues', norm=LogNorm(), origin='lower')"
   ]
  },
  {
   "cell_type": "code",
   "execution_count": 53,
   "metadata": {},
   "outputs": [
    {
     "name": "stdout",
     "output_type": "stream",
     "text": [
      "Tamaño de cada imagen: (300, 300) pixeles\n"
     ]
    }
   ],
   "source": [
    "image_size = images[df1.index[0]][0][0].data.shape\n",
    "print(f'Tamaño de cada imagen: {image_size} pixeles')"
   ]
  },
  {
   "cell_type": "code",
   "execution_count": 54,
   "metadata": {},
   "outputs": [
    {
     "name": "stdout",
     "output_type": "stream",
     "text": [
      "Cantidad de filtros: 5\n"
     ]
    }
   ],
   "source": [
    "filters = len(images[df1.index[0]])\n",
    "print (f'Cantidad de filtros: {filters}')"
   ]
  },
  {
   "cell_type": "code",
   "execution_count": 55,
   "metadata": {},
   "outputs": [
    {
     "data": {
      "text/plain": [
       "array([[-0.00769806, -0.04095459,  0.00227356, ..., -0.02786255,\n",
       "         0.00872803,  0.04199219],\n",
       "       [ 0.01225281,  0.01225281,  0.03552246, ...,  0.01870728,\n",
       "         0.00872803,  0.01205444],\n",
       "       [-0.00769806, -0.01101685, -0.02432251, ..., -0.02120972,\n",
       "        -0.02120972, -0.0178833 ],\n",
       "       ...,\n",
       "       [ 0.015625  ,  0.03393555, -0.00269699, ..., -0.03930664,\n",
       "        -0.0246582 , -0.0246582 ],\n",
       "       [ 0.01928711, -0.01368713, -0.01368713, ..., -0.02832031,\n",
       "         0.00834656, -0.00265884],\n",
       "       [-0.00269699,  0.01196289, -0.0173645 , ..., -0.00265884,\n",
       "        -0.02832031,  0.03033447]], dtype=float32)"
      ]
     },
     "metadata": {},
     "output_type": "display_data"
    }
   ],
   "source": [
    "display(images[df1.index[0]][0][0].data)"
   ]
  },
  {
   "cell_type": "markdown",
   "metadata": {},
   "source": [
    "Muestre:\n",
    "\n",
    "    - Qué tamaños tienen las imágenes. \n",
    "    - Cuántas bandas/filtros tiene cada imagen.\n",
    "    \n",
    "Genere un dataframe (df2) en donde cada fila es una imagen y las columnas son los valores de cada px por filtro, por lo tanto, si las imagenes tienen un tamaño (Xpx, Ypx) y cunta con f filtros, entonces la cantidad de columnas de df2 son Xpx\\*Ypx\\*f. "
   ]
  },
  {
   "cell_type": "code",
   "execution_count": 56,
   "metadata": {},
   "outputs": [],
   "source": [
    "df2 = pd.DataFrame({})"
   ]
  },
  {
   "cell_type": "code",
   "execution_count": 57,
   "metadata": {},
   "outputs": [],
   "source": [
    "survey = ['SDSSg', 'SDSSi', 'SDSSr', 'SDSSu', 'SDSSz']"
   ]
  },
  {
   "cell_type": "code",
   "execution_count": 58,
   "metadata": {},
   "outputs": [
    {
     "data": {
      "text/plain": [
       "{'1,23765119242489E+018': [[<astropy.io.fits.hdu.image.PrimaryHDU object at 0x7f23d2ef03a0>],\n",
       "  [<astropy.io.fits.hdu.image.PrimaryHDU object at 0x7f23d2fbe2b0>],\n",
       "  [<astropy.io.fits.hdu.image.PrimaryHDU object at 0x7f23d3515ac0>],\n",
       "  [<astropy.io.fits.hdu.image.PrimaryHDU object at 0x7f23d525bdf0>],\n",
       "  [<astropy.io.fits.hdu.image.PrimaryHDU object at 0x7f23d530c910>]]}"
      ]
     },
     "execution_count": 58,
     "metadata": {},
     "output_type": "execute_result"
    }
   ],
   "source": [
    "images_backup = images.copy()\n",
    "images_backup"
   ]
  },
  {
   "cell_type": "code",
   "execution_count": 60,
   "metadata": {
    "tags": []
   },
   "outputs": [
    {
     "name": "stdout",
     "output_type": "stream",
     "text": [
      "finish image #1\n",
      "finish generate df2\n"
     ]
    },
    {
     "data": {
      "text/html": [
       "<div>\n",
       "<style scoped>\n",
       "    .dataframe tbody tr th:only-of-type {\n",
       "        vertical-align: middle;\n",
       "    }\n",
       "\n",
       "    .dataframe tbody tr th {\n",
       "        vertical-align: top;\n",
       "    }\n",
       "\n",
       "    .dataframe thead th {\n",
       "        text-align: right;\n",
       "    }\n",
       "</style>\n",
       "<table border=\"1\" class=\"dataframe\">\n",
       "  <thead>\n",
       "    <tr style=\"text-align: right;\">\n",
       "      <th></th>\n",
       "      <th>x_1_y_1_f_SDSSg</th>\n",
       "      <th>x_1_y_2_f_SDSSg</th>\n",
       "      <th>x_1_y_3_f_SDSSg</th>\n",
       "      <th>x_1_y_4_f_SDSSg</th>\n",
       "      <th>x_1_y_5_f_SDSSg</th>\n",
       "      <th>x_1_y_6_f_SDSSg</th>\n",
       "      <th>x_1_y_7_f_SDSSg</th>\n",
       "      <th>x_1_y_8_f_SDSSg</th>\n",
       "      <th>x_1_y_9_f_SDSSg</th>\n",
       "      <th>x_1_y_10_f_SDSSg</th>\n",
       "      <th>...</th>\n",
       "      <th>x_300_y_291_f_SDSSz</th>\n",
       "      <th>x_300_y_292_f_SDSSz</th>\n",
       "      <th>x_300_y_293_f_SDSSz</th>\n",
       "      <th>x_300_y_294_f_SDSSz</th>\n",
       "      <th>x_300_y_295_f_SDSSz</th>\n",
       "      <th>x_300_y_296_f_SDSSz</th>\n",
       "      <th>x_300_y_297_f_SDSSz</th>\n",
       "      <th>x_300_y_298_f_SDSSz</th>\n",
       "      <th>x_300_y_299_f_SDSSz</th>\n",
       "      <th>x_300_y_300_f_SDSSz</th>\n",
       "    </tr>\n",
       "    <tr>\n",
       "      <th>id</th>\n",
       "      <th></th>\n",
       "      <th></th>\n",
       "      <th></th>\n",
       "      <th></th>\n",
       "      <th></th>\n",
       "      <th></th>\n",
       "      <th></th>\n",
       "      <th></th>\n",
       "      <th></th>\n",
       "      <th></th>\n",
       "      <th></th>\n",
       "      <th></th>\n",
       "      <th></th>\n",
       "      <th></th>\n",
       "      <th></th>\n",
       "      <th></th>\n",
       "      <th></th>\n",
       "      <th></th>\n",
       "      <th></th>\n",
       "      <th></th>\n",
       "      <th></th>\n",
       "    </tr>\n",
       "  </thead>\n",
       "  <tbody>\n",
       "    <tr>\n",
       "      <th>1,23765119242489E+018</th>\n",
       "      <td>0.012253</td>\n",
       "      <td>0.012253</td>\n",
       "      <td>0.012253</td>\n",
       "      <td>0.012253</td>\n",
       "      <td>0.012253</td>\n",
       "      <td>0.012253</td>\n",
       "      <td>0.012253</td>\n",
       "      <td>0.012253</td>\n",
       "      <td>0.012253</td>\n",
       "      <td>0.012253</td>\n",
       "      <td>...</td>\n",
       "      <td>-0.110962</td>\n",
       "      <td>-0.110962</td>\n",
       "      <td>-0.110962</td>\n",
       "      <td>-0.110962</td>\n",
       "      <td>-0.110962</td>\n",
       "      <td>-0.110962</td>\n",
       "      <td>-0.110962</td>\n",
       "      <td>-0.110962</td>\n",
       "      <td>-0.110962</td>\n",
       "      <td>-0.110962</td>\n",
       "    </tr>\n",
       "  </tbody>\n",
       "</table>\n",
       "<p>1 rows × 450000 columns</p>\n",
       "</div>"
      ],
      "text/plain": [
       "                       x_1_y_1_f_SDSSg  x_1_y_2_f_SDSSg  x_1_y_3_f_SDSSg  \\\n",
       "id                                                                         \n",
       "1,23765119242489E+018         0.012253         0.012253         0.012253   \n",
       "\n",
       "                       x_1_y_4_f_SDSSg  x_1_y_5_f_SDSSg  x_1_y_6_f_SDSSg  \\\n",
       "id                                                                         \n",
       "1,23765119242489E+018         0.012253         0.012253         0.012253   \n",
       "\n",
       "                       x_1_y_7_f_SDSSg  x_1_y_8_f_SDSSg  x_1_y_9_f_SDSSg  \\\n",
       "id                                                                         \n",
       "1,23765119242489E+018         0.012253         0.012253         0.012253   \n",
       "\n",
       "                       x_1_y_10_f_SDSSg  ...  x_300_y_291_f_SDSSz  \\\n",
       "id                                       ...                        \n",
       "1,23765119242489E+018          0.012253  ...            -0.110962   \n",
       "\n",
       "                       x_300_y_292_f_SDSSz  x_300_y_293_f_SDSSz  \\\n",
       "id                                                                \n",
       "1,23765119242489E+018            -0.110962            -0.110962   \n",
       "\n",
       "                       x_300_y_294_f_SDSSz  x_300_y_295_f_SDSSz  \\\n",
       "id                                                                \n",
       "1,23765119242489E+018            -0.110962            -0.110962   \n",
       "\n",
       "                       x_300_y_296_f_SDSSz  x_300_y_297_f_SDSSz  \\\n",
       "id                                                                \n",
       "1,23765119242489E+018            -0.110962            -0.110962   \n",
       "\n",
       "                       x_300_y_298_f_SDSSz  x_300_y_299_f_SDSSz  \\\n",
       "id                                                                \n",
       "1,23765119242489E+018            -0.110962            -0.110962   \n",
       "\n",
       "                       x_300_y_300_f_SDSSz  \n",
       "id                                          \n",
       "1,23765119242489E+018            -0.110962  \n",
       "\n",
       "[1 rows x 450000 columns]"
      ]
     },
     "execution_count": 60,
     "metadata": {},
     "output_type": "execute_result"
    }
   ],
   "source": [
    "survey = ['SDSSg', 'SDSSi', 'SDSSr', 'SDSSu', 'SDSSz']\n",
    "row_list = []\n",
    "count_image = 0\n",
    "# recorre cada imagen\n",
    "for index in images_backup:\n",
    "    # contador para identificar filtro\n",
    "    count_filter = 0\n",
    "    # fila_imagen\n",
    "    row = {}\n",
    "    \n",
    "    # recorro cada filtro\n",
    "    for filtro in images_backup[index]:\n",
    "        x_values = filtro[0].data[0]\n",
    "        y_values = filtro[0].data[1]\n",
    "        # recorro arrays de x, y\n",
    "        for i in range(len(filtro[0].data)):\n",
    "            filter_name = survey[count_filter] # filtro actual\n",
    "            current = i + 1 # valor actual\n",
    "            for j in range(len(filtro[0].data)):\n",
    "                current_j = j + 1\n",
    "                col_y_name = \"x_{current}_y_{current_j}_f_{filter_name}\".format(current = current, current_j=current_j,filter_name=filter_name) # columna_y y_1_f_SDSSg\n",
    "                y_value = y_values[i]  \n",
    "                row[col_y_name] = y_value\n",
    "        row['id'] = index\n",
    "        count_filter += 1\n",
    "    row_list.append(row)\n",
    "    count_image += 1\n",
    "    print(f\"finish image #{count_image}\")\n",
    "    df2 = pd.DataFrame(row_list) \n",
    "    \n",
    "print(\"finish generate df2\")\n",
    "df2.set_index('id',inplace=True)\n",
    "df2.head()"
   ]
  },
  {
   "cell_type": "markdown",
   "metadata": {},
   "source": [
    "Tome una sola fila de df2 y muestre a partir de un gráfico la distribución de valores de los px en cada filtro en un rango de pxs."
   ]
  },
  {
   "cell_type": "code",
   "execution_count": 61,
   "metadata": {},
   "outputs": [
    {
     "data": {
      "text/html": [
       "<div>\n",
       "<style scoped>\n",
       "    .dataframe tbody tr th:only-of-type {\n",
       "        vertical-align: middle;\n",
       "    }\n",
       "\n",
       "    .dataframe tbody tr th {\n",
       "        vertical-align: top;\n",
       "    }\n",
       "\n",
       "    .dataframe thead th {\n",
       "        text-align: right;\n",
       "    }\n",
       "</style>\n",
       "<table border=\"1\" class=\"dataframe\">\n",
       "  <thead>\n",
       "    <tr style=\"text-align: right;\">\n",
       "      <th></th>\n",
       "      <th>x_1_y_1_f_SDSSg</th>\n",
       "      <th>x_1_y_2_f_SDSSg</th>\n",
       "      <th>x_1_y_3_f_SDSSg</th>\n",
       "      <th>x_1_y_4_f_SDSSg</th>\n",
       "      <th>x_1_y_5_f_SDSSg</th>\n",
       "      <th>x_1_y_6_f_SDSSg</th>\n",
       "      <th>x_1_y_7_f_SDSSg</th>\n",
       "      <th>x_1_y_8_f_SDSSg</th>\n",
       "      <th>x_1_y_9_f_SDSSg</th>\n",
       "      <th>x_1_y_10_f_SDSSg</th>\n",
       "      <th>...</th>\n",
       "      <th>x_300_y_291_f_SDSSg</th>\n",
       "      <th>x_300_y_292_f_SDSSg</th>\n",
       "      <th>x_300_y_293_f_SDSSg</th>\n",
       "      <th>x_300_y_294_f_SDSSg</th>\n",
       "      <th>x_300_y_295_f_SDSSg</th>\n",
       "      <th>x_300_y_296_f_SDSSg</th>\n",
       "      <th>x_300_y_297_f_SDSSg</th>\n",
       "      <th>x_300_y_298_f_SDSSg</th>\n",
       "      <th>x_300_y_299_f_SDSSg</th>\n",
       "      <th>x_300_y_300_f_SDSSg</th>\n",
       "    </tr>\n",
       "    <tr>\n",
       "      <th>id</th>\n",
       "      <th></th>\n",
       "      <th></th>\n",
       "      <th></th>\n",
       "      <th></th>\n",
       "      <th></th>\n",
       "      <th></th>\n",
       "      <th></th>\n",
       "      <th></th>\n",
       "      <th></th>\n",
       "      <th></th>\n",
       "      <th></th>\n",
       "      <th></th>\n",
       "      <th></th>\n",
       "      <th></th>\n",
       "      <th></th>\n",
       "      <th></th>\n",
       "      <th></th>\n",
       "      <th></th>\n",
       "      <th></th>\n",
       "      <th></th>\n",
       "      <th></th>\n",
       "    </tr>\n",
       "  </thead>\n",
       "  <tbody>\n",
       "    <tr>\n",
       "      <th>1,23765119242489E+018</th>\n",
       "      <td>0.012253</td>\n",
       "      <td>0.012253</td>\n",
       "      <td>0.012253</td>\n",
       "      <td>0.012253</td>\n",
       "      <td>0.012253</td>\n",
       "      <td>0.012253</td>\n",
       "      <td>0.012253</td>\n",
       "      <td>0.012253</td>\n",
       "      <td>0.012253</td>\n",
       "      <td>0.012253</td>\n",
       "      <td>...</td>\n",
       "      <td>0.012054</td>\n",
       "      <td>0.012054</td>\n",
       "      <td>0.012054</td>\n",
       "      <td>0.012054</td>\n",
       "      <td>0.012054</td>\n",
       "      <td>0.012054</td>\n",
       "      <td>0.012054</td>\n",
       "      <td>0.012054</td>\n",
       "      <td>0.012054</td>\n",
       "      <td>0.012054</td>\n",
       "    </tr>\n",
       "  </tbody>\n",
       "</table>\n",
       "<p>1 rows × 90000 columns</p>\n",
       "</div>"
      ],
      "text/plain": [
       "                       x_1_y_1_f_SDSSg  x_1_y_2_f_SDSSg  x_1_y_3_f_SDSSg  \\\n",
       "id                                                                         \n",
       "1,23765119242489E+018         0.012253         0.012253         0.012253   \n",
       "\n",
       "                       x_1_y_4_f_SDSSg  x_1_y_5_f_SDSSg  x_1_y_6_f_SDSSg  \\\n",
       "id                                                                         \n",
       "1,23765119242489E+018         0.012253         0.012253         0.012253   \n",
       "\n",
       "                       x_1_y_7_f_SDSSg  x_1_y_8_f_SDSSg  x_1_y_9_f_SDSSg  \\\n",
       "id                                                                         \n",
       "1,23765119242489E+018         0.012253         0.012253         0.012253   \n",
       "\n",
       "                       x_1_y_10_f_SDSSg  ...  x_300_y_291_f_SDSSg  \\\n",
       "id                                       ...                        \n",
       "1,23765119242489E+018          0.012253  ...             0.012054   \n",
       "\n",
       "                       x_300_y_292_f_SDSSg  x_300_y_293_f_SDSSg  \\\n",
       "id                                                                \n",
       "1,23765119242489E+018             0.012054             0.012054   \n",
       "\n",
       "                       x_300_y_294_f_SDSSg  x_300_y_295_f_SDSSg  \\\n",
       "id                                                                \n",
       "1,23765119242489E+018             0.012054             0.012054   \n",
       "\n",
       "                       x_300_y_296_f_SDSSg  x_300_y_297_f_SDSSg  \\\n",
       "id                                                                \n",
       "1,23765119242489E+018             0.012054             0.012054   \n",
       "\n",
       "                       x_300_y_298_f_SDSSg  x_300_y_299_f_SDSSg  \\\n",
       "id                                                                \n",
       "1,23765119242489E+018             0.012054             0.012054   \n",
       "\n",
       "                       x_300_y_300_f_SDSSg  \n",
       "id                                          \n",
       "1,23765119242489E+018             0.012054  \n",
       "\n",
       "[1 rows x 90000 columns]"
      ]
     },
     "execution_count": 61,
     "metadata": {},
     "output_type": "execute_result"
    }
   ],
   "source": [
    "df_g = df2.loc[: , df2.columns.str.endswith(\"g\")]\n",
    "df_i = df2.loc[: , df2.columns.str.endswith(\"i\")]\n",
    "df_u = df2.loc[: , df2.columns.str.endswith(\"u\")]\n",
    "df_r = df2.loc[: , df2.columns.str.endswith(\"r\")]\n",
    "df_z = df2.loc[: , df2.columns.str.endswith(\"z\")]         \n",
    "df_g"
   ]
  },
  {
   "cell_type": "code",
   "execution_count": 62,
   "metadata": {},
   "outputs": [
    {
     "data": {
      "text/plain": [
       "<AxesSubplot:xlabel='1,23765119242489E+018', ylabel='Count'>"
      ]
     },
     "execution_count": 62,
     "metadata": {},
     "output_type": "execute_result"
    },
    {
     "data": {
      "image/png": "[encoded data removed]",
      "text/plain": [
       "<Figure size 432x288 with 1 Axes>"
      ]
     },
     "metadata": {
      "needs_background": "light"
     },
     "output_type": "display_data"
    }
   ],
   "source": [
    "seaborn.histplot(data=df2.iloc[0])"
   ]
  },
  {
   "cell_type": "code",
   "execution_count": 63,
   "metadata": {},
   "outputs": [
    {
     "data": {
      "text/plain": [
       "<AxesSubplot:xlabel='1,23765119242489E+018'>"
      ]
     },
     "execution_count": 63,
     "metadata": {},
     "output_type": "execute_result"
    },
    {
     "data": {
      "image/png": "[encoded data removed]",
      "text/plain": [
       "<Figure size 432x288 with 1 Axes>"
      ]
     },
     "metadata": {
      "needs_background": "light"
     },
     "output_type": "display_data"
    }
   ],
   "source": [
    "seaborn.boxplot(x=df2.iloc[0])"
   ]
  },
  {
   "cell_type": "markdown",
   "metadata": {},
   "source": [
    "<span style=\"color:red\">Falta gŕafico de distribución de valores de los px en cada filtro en un rango de pxs.</span>"
   ]
  },
  {
   "cell_type": "markdown",
   "metadata": {},
   "source": [
    "Por ultimo una df1 y df2 y guarde como un .csv"
   ]
  },
  {
   "cell_type": "code",
   "execution_count": 64,
   "metadata": {},
   "outputs": [],
   "source": [
    "result = pd.merge(df1, df2, how=\"right\",left_index=True,right_index=True)\n",
    "result.to_csv('galaxy_with_px.csv',index=False)"
   ]
  },
  {
   "cell_type": "code",
   "execution_count": 65,
   "metadata": {},
   "outputs": [
    {
     "data": {
      "text/html": [
       "<div>\n",
       "<style scoped>\n",
       "    .dataframe tbody tr th:only-of-type {\n",
       "        vertical-align: middle;\n",
       "    }\n",
       "\n",
       "    .dataframe tbody tr th {\n",
       "        vertical-align: top;\n",
       "    }\n",
       "\n",
       "    .dataframe thead th {\n",
       "        text-align: right;\n",
       "    }\n",
       "</style>\n",
       "<table border=\"1\" class=\"dataframe\">\n",
       "  <thead>\n",
       "    <tr style=\"text-align: right;\">\n",
       "      <th></th>\n",
       "      <th>ra</th>\n",
       "      <th>dec</th>\n",
       "      <th>modelMag_u</th>\n",
       "      <th>modelMag_g</th>\n",
       "      <th>modelMag_r</th>\n",
       "      <th>modelMag_i</th>\n",
       "      <th>modelMag_z</th>\n",
       "      <th>petroR90_r</th>\n",
       "      <th>z</th>\n",
       "      <th>Color</th>\n",
       "      <th>...</th>\n",
       "      <th>x_300_y_291_f_SDSSz</th>\n",
       "      <th>x_300_y_292_f_SDSSz</th>\n",
       "      <th>x_300_y_293_f_SDSSz</th>\n",
       "      <th>x_300_y_294_f_SDSSz</th>\n",
       "      <th>x_300_y_295_f_SDSSz</th>\n",
       "      <th>x_300_y_296_f_SDSSz</th>\n",
       "      <th>x_300_y_297_f_SDSSz</th>\n",
       "      <th>x_300_y_298_f_SDSSz</th>\n",
       "      <th>x_300_y_299_f_SDSSz</th>\n",
       "      <th>x_300_y_300_f_SDSSz</th>\n",
       "    </tr>\n",
       "  </thead>\n",
       "  <tbody>\n",
       "    <tr>\n",
       "      <th>0</th>\n",
       "      <td>116.519097</td>\n",
       "      <td>39.886407</td>\n",
       "      <td>17.76235</td>\n",
       "      <td>16.72601</td>\n",
       "      <td>16.33972</td>\n",
       "      <td>16.06614</td>\n",
       "      <td>15.90478</td>\n",
       "      <td>8.393773</td>\n",
       "      <td>0.041521</td>\n",
       "      <td>-1.422625</td>\n",
       "      <td>...</td>\n",
       "      <td>-0.110962</td>\n",
       "      <td>-0.110962</td>\n",
       "      <td>-0.110962</td>\n",
       "      <td>-0.110962</td>\n",
       "      <td>-0.110962</td>\n",
       "      <td>-0.110962</td>\n",
       "      <td>-0.110962</td>\n",
       "      <td>-0.110962</td>\n",
       "      <td>-0.110962</td>\n",
       "      <td>-0.110962</td>\n",
       "    </tr>\n",
       "  </tbody>\n",
       "</table>\n",
       "<p>1 rows × 450014 columns</p>\n",
       "</div>"
      ],
      "text/plain": [
       "           ra        dec  modelMag_u  modelMag_g  modelMag_r  modelMag_i  \\\n",
       "0  116.519097  39.886407    17.76235    16.72601    16.33972    16.06614   \n",
       "\n",
       "   modelMag_z  petroR90_r         z     Color  ...  x_300_y_291_f_SDSSz  \\\n",
       "0    15.90478    8.393773  0.041521 -1.422625  ...            -0.110962   \n",
       "\n",
       "   x_300_y_292_f_SDSSz  x_300_y_293_f_SDSSz x_300_y_294_f_SDSSz  \\\n",
       "0            -0.110962            -0.110962           -0.110962   \n",
       "\n",
       "   x_300_y_295_f_SDSSz  x_300_y_296_f_SDSSz  x_300_y_297_f_SDSSz  \\\n",
       "0            -0.110962            -0.110962            -0.110962   \n",
       "\n",
       "   x_300_y_298_f_SDSSz  x_300_y_299_f_SDSSz  x_300_y_300_f_SDSSz  \n",
       "0            -0.110962            -0.110962            -0.110962  \n",
       "\n",
       "[1 rows x 450014 columns]"
      ]
     },
     "execution_count": 65,
     "metadata": {},
     "output_type": "execute_result"
    }
   ],
   "source": [
    "demo = pd.read_csv('galaxy_with_px.csv')\n",
    "demo"
   ]
  },
  {
   "cell_type": "markdown",
   "metadata": {},
   "source": [
    "# Componentes Principales "
   ]
  },
  {
   "cell_type": "markdown",
   "metadata": {},
   "source": [
    "Ajuste el modelo de CPA  al df1 con n=3 el número de componentes principales. Grafique."
   ]
  },
  {
   "cell_type": "code",
   "execution_count": 66,
   "metadata": {},
   "outputs": [
    {
     "data": {
      "text/html": [
       "<div>\n",
       "<style scoped>\n",
       "    .dataframe tbody tr th:only-of-type {\n",
       "        vertical-align: middle;\n",
       "    }\n",
       "\n",
       "    .dataframe tbody tr th {\n",
       "        vertical-align: top;\n",
       "    }\n",
       "\n",
       "    .dataframe thead th {\n",
       "        text-align: right;\n",
       "    }\n",
       "</style>\n",
       "<table border=\"1\" class=\"dataframe\">\n",
       "  <thead>\n",
       "    <tr style=\"text-align: right;\">\n",
       "      <th></th>\n",
       "      <th>ra</th>\n",
       "      <th>dec</th>\n",
       "      <th>modelMag_u</th>\n",
       "      <th>modelMag_g</th>\n",
       "      <th>modelMag_r</th>\n",
       "      <th>modelMag_i</th>\n",
       "      <th>modelMag_z</th>\n",
       "      <th>petroR90_r</th>\n",
       "      <th>z</th>\n",
       "      <th>Color</th>\n",
       "      <th>elliptical</th>\n",
       "      <th>spiral</th>\n",
       "      <th>uncertain</th>\n",
       "    </tr>\n",
       "  </thead>\n",
       "  <tbody>\n",
       "    <tr>\n",
       "      <th>0</th>\n",
       "      <td>0.323679</td>\n",
       "      <td>0.628123</td>\n",
       "      <td>0.388035</td>\n",
       "      <td>0.422660</td>\n",
       "      <td>0.448185</td>\n",
       "      <td>0.416475</td>\n",
       "      <td>0.411794</td>\n",
       "      <td>0.309874</td>\n",
       "      <td>0.717351</td>\n",
       "      <td>0.648141</td>\n",
       "      <td>0.0</td>\n",
       "      <td>1.0</td>\n",
       "      <td>0.0</td>\n",
       "    </tr>\n",
       "    <tr>\n",
       "      <th>1</th>\n",
       "      <td>0.323492</td>\n",
       "      <td>0.646994</td>\n",
       "      <td>0.438303</td>\n",
       "      <td>0.358607</td>\n",
       "      <td>0.326150</td>\n",
       "      <td>0.290167</td>\n",
       "      <td>0.273888</td>\n",
       "      <td>0.365343</td>\n",
       "      <td>0.673681</td>\n",
       "      <td>0.375909</td>\n",
       "      <td>0.0</td>\n",
       "      <td>0.0</td>\n",
       "      <td>1.0</td>\n",
       "    </tr>\n",
       "    <tr>\n",
       "      <th>2</th>\n",
       "      <td>0.322089</td>\n",
       "      <td>0.653112</td>\n",
       "      <td>0.501396</td>\n",
       "      <td>0.518560</td>\n",
       "      <td>0.535575</td>\n",
       "      <td>0.496362</td>\n",
       "      <td>0.500254</td>\n",
       "      <td>0.434733</td>\n",
       "      <td>0.146169</td>\n",
       "      <td>0.620548</td>\n",
       "      <td>0.0</td>\n",
       "      <td>0.0</td>\n",
       "      <td>1.0</td>\n",
       "    </tr>\n",
       "    <tr>\n",
       "      <th>3</th>\n",
       "      <td>0.322381</td>\n",
       "      <td>0.657641</td>\n",
       "      <td>0.893182</td>\n",
       "      <td>0.843443</td>\n",
       "      <td>0.862893</td>\n",
       "      <td>0.912903</td>\n",
       "      <td>0.739259</td>\n",
       "      <td>0.013099</td>\n",
       "      <td>0.637896</td>\n",
       "      <td>0.566071</td>\n",
       "      <td>0.0</td>\n",
       "      <td>0.0</td>\n",
       "      <td>1.0</td>\n",
       "    </tr>\n",
       "    <tr>\n",
       "      <th>4</th>\n",
       "      <td>0.325813</td>\n",
       "      <td>0.671750</td>\n",
       "      <td>0.587477</td>\n",
       "      <td>0.598136</td>\n",
       "      <td>0.599145</td>\n",
       "      <td>0.554972</td>\n",
       "      <td>0.542225</td>\n",
       "      <td>0.486430</td>\n",
       "      <td>0.753031</td>\n",
       "      <td>0.595081</td>\n",
       "      <td>0.0</td>\n",
       "      <td>0.0</td>\n",
       "      <td>1.0</td>\n",
       "    </tr>\n",
       "    <tr>\n",
       "      <th>...</th>\n",
       "      <td>...</td>\n",
       "      <td>...</td>\n",
       "      <td>...</td>\n",
       "      <td>...</td>\n",
       "      <td>...</td>\n",
       "      <td>...</td>\n",
       "      <td>...</td>\n",
       "      <td>...</td>\n",
       "      <td>...</td>\n",
       "      <td>...</td>\n",
       "      <td>...</td>\n",
       "      <td>...</td>\n",
       "      <td>...</td>\n",
       "    </tr>\n",
       "    <tr>\n",
       "      <th>53997</th>\n",
       "      <td>0.642081</td>\n",
       "      <td>0.366766</td>\n",
       "      <td>0.465976</td>\n",
       "      <td>0.407295</td>\n",
       "      <td>0.379367</td>\n",
       "      <td>0.340634</td>\n",
       "      <td>0.324440</td>\n",
       "      <td>0.377464</td>\n",
       "      <td>0.308971</td>\n",
       "      <td>0.420730</td>\n",
       "      <td>1.0</td>\n",
       "      <td>0.0</td>\n",
       "      <td>0.0</td>\n",
       "    </tr>\n",
       "    <tr>\n",
       "      <th>53998</th>\n",
       "      <td>0.680982</td>\n",
       "      <td>0.749977</td>\n",
       "      <td>0.429038</td>\n",
       "      <td>0.467855</td>\n",
       "      <td>0.495738</td>\n",
       "      <td>0.467077</td>\n",
       "      <td>0.460708</td>\n",
       "      <td>0.336679</td>\n",
       "      <td>0.694151</td>\n",
       "      <td>0.663942</td>\n",
       "      <td>0.0</td>\n",
       "      <td>0.0</td>\n",
       "      <td>1.0</td>\n",
       "    </tr>\n",
       "    <tr>\n",
       "      <th>53999</th>\n",
       "      <td>0.680721</td>\n",
       "      <td>0.759258</td>\n",
       "      <td>0.652214</td>\n",
       "      <td>0.563224</td>\n",
       "      <td>0.516213</td>\n",
       "      <td>0.459223</td>\n",
       "      <td>0.432959</td>\n",
       "      <td>0.098610</td>\n",
       "      <td>0.953935</td>\n",
       "      <td>0.364519</td>\n",
       "      <td>0.0</td>\n",
       "      <td>0.0</td>\n",
       "      <td>1.0</td>\n",
       "    </tr>\n",
       "    <tr>\n",
       "      <th>54000</th>\n",
       "      <td>0.609253</td>\n",
       "      <td>0.904167</td>\n",
       "      <td>0.530276</td>\n",
       "      <td>0.559760</td>\n",
       "      <td>0.578678</td>\n",
       "      <td>0.541279</td>\n",
       "      <td>0.537069</td>\n",
       "      <td>0.162309</td>\n",
       "      <td>0.562806</td>\n",
       "      <td>0.647214</td>\n",
       "      <td>0.0</td>\n",
       "      <td>0.0</td>\n",
       "      <td>1.0</td>\n",
       "    </tr>\n",
       "    <tr>\n",
       "      <th>54001</th>\n",
       "      <td>0.664064</td>\n",
       "      <td>0.194310</td>\n",
       "      <td>0.551332</td>\n",
       "      <td>0.507577</td>\n",
       "      <td>0.507289</td>\n",
       "      <td>0.470644</td>\n",
       "      <td>0.479563</td>\n",
       "      <td>0.523374</td>\n",
       "      <td>0.471480</td>\n",
       "      <td>0.500402</td>\n",
       "      <td>0.0</td>\n",
       "      <td>1.0</td>\n",
       "      <td>0.0</td>\n",
       "    </tr>\n",
       "  </tbody>\n",
       "</table>\n",
       "<p>54002 rows × 13 columns</p>\n",
       "</div>"
      ],
      "text/plain": [
       "             ra       dec  modelMag_u  modelMag_g  modelMag_r  modelMag_i  \\\n",
       "0      0.323679  0.628123    0.388035    0.422660    0.448185    0.416475   \n",
       "1      0.323492  0.646994    0.438303    0.358607    0.326150    0.290167   \n",
       "2      0.322089  0.653112    0.501396    0.518560    0.535575    0.496362   \n",
       "3      0.322381  0.657641    0.893182    0.843443    0.862893    0.912903   \n",
       "4      0.325813  0.671750    0.587477    0.598136    0.599145    0.554972   \n",
       "...         ...       ...         ...         ...         ...         ...   \n",
       "53997  0.642081  0.366766    0.465976    0.407295    0.379367    0.340634   \n",
       "53998  0.680982  0.749977    0.429038    0.467855    0.495738    0.467077   \n",
       "53999  0.680721  0.759258    0.652214    0.563224    0.516213    0.459223   \n",
       "54000  0.609253  0.904167    0.530276    0.559760    0.578678    0.541279   \n",
       "54001  0.664064  0.194310    0.551332    0.507577    0.507289    0.470644   \n",
       "\n",
       "       modelMag_z  petroR90_r         z     Color  elliptical  spiral  \\\n",
       "0        0.411794    0.309874  0.717351  0.648141         0.0     1.0   \n",
       "1        0.273888    0.365343  0.673681  0.375909         0.0     0.0   \n",
       "2        0.500254    0.434733  0.146169  0.620548         0.0     0.0   \n",
       "3        0.739259    0.013099  0.637896  0.566071         0.0     0.0   \n",
       "4        0.542225    0.486430  0.753031  0.595081         0.0     0.0   \n",
       "...           ...         ...       ...       ...         ...     ...   \n",
       "53997    0.324440    0.377464  0.308971  0.420730         1.0     0.0   \n",
       "53998    0.460708    0.336679  0.694151  0.663942         0.0     0.0   \n",
       "53999    0.432959    0.098610  0.953935  0.364519         0.0     0.0   \n",
       "54000    0.537069    0.162309  0.562806  0.647214         0.0     0.0   \n",
       "54001    0.479563    0.523374  0.471480  0.500402         0.0     1.0   \n",
       "\n",
       "       uncertain  \n",
       "0            0.0  \n",
       "1            1.0  \n",
       "2            1.0  \n",
       "3            1.0  \n",
       "4            1.0  \n",
       "...          ...  \n",
       "53997        0.0  \n",
       "53998        1.0  \n",
       "53999        1.0  \n",
       "54000        1.0  \n",
       "54001        0.0  \n",
       "\n",
       "[54002 rows x 13 columns]"
      ]
     },
     "execution_count": 66,
     "metadata": {},
     "output_type": "execute_result"
    }
   ],
   "source": [
    "from sklearn.preprocessing import MinMaxScaler\n",
    "\n",
    "new_df1 = df1.drop(['tipo_galaxia'], axis=1)\n",
    "# Scalling\n",
    "scaler = MinMaxScaler()\n",
    "new_df = pd.DataFrame(scaler.fit_transform(new_df1), columns = new_df1.columns)\n",
    "new_df"
   ]
  },
  {
   "cell_type": "code",
   "execution_count": 67,
   "metadata": {},
   "outputs": [],
   "source": [
    "from sklearn.feature_extraction import DictVectorizer\n",
    "\n",
    "feature_cols = new_df.columns.values\n",
    "feature_dict = list(new_df[feature_cols].T.to_dict().values())\n",
    "\n",
    "vec = DictVectorizer()\n",
    "feature_matrix = vec.fit_transform(feature_dict)\n"
   ]
  },
  {
   "cell_type": "code",
   "execution_count": 68,
   "metadata": {},
   "outputs": [
    {
     "name": "stdout",
     "output_type": "stream",
     "text": [
      "The dense matrix will weight approximately 2.68 MB\n",
      "Final size: 2.68\n"
     ]
    }
   ],
   "source": [
    "#evaluo la dimension final de la matriz para no generar un conflicto en la memoria\n",
    "matrix_size_mb = feature_matrix.shape[0] * feature_matrix.shape[1] * 4 / 1024 / 1024\n",
    "print(\"The dense matrix will weight approximately {:.2f} MB\".format(matrix_size_mb))\n",
    "\n",
    "limit_size_mb = 10\n",
    "precision_type = np.float32\n",
    "if matrix_size_mb < limit_size_mb:  # Matrix is less than 10MB\n",
    "  dense_feature_matrix = feature_matrix.astype(precision_type).todense()\n",
    "else:\n",
    "  # We calculate how many rows would fit given the number of columns\n",
    "  n_rows = int(limit_size_mb *1024 * 1024 / 4 / feature_matrix.shape[1])\n",
    "  print(\"Matrix too big! Using only first {} of {} rows\".format(\n",
    "      n_rows, feature_matrix.shape[0]))\n",
    "  dense_feature_matrix = feature_matrix[:n_rows].astype(precision_type).todense()\n",
    "\n",
    "print(\"Final size: {:.2f}\".format(dense_feature_matrix.nbytes / 1024 / 1024))"
   ]
  },
  {
   "cell_type": "code",
   "execution_count": 69,
   "metadata": {},
   "outputs": [
    {
     "data": {
      "text/plain": [
       "(54002, 3)"
      ]
     },
     "execution_count": 69,
     "metadata": {},
     "output_type": "execute_result"
    }
   ],
   "source": [
    "#se aplica algoritmo de analisis de componentes principales\n",
    "scaled_dense_feature_matrix = dense_feature_matrix\n",
    "from sklearn.decomposition import PCA\n",
    "pca = PCA(n_components=3)\n",
    "pca.fit(scaled_dense_feature_matrix)\n",
    "proyected_features = pca.transform(scaled_dense_feature_matrix)\n",
    "proyected_features.shape"
   ]
  },
  {
   "cell_type": "code",
   "execution_count": 70,
   "metadata": {},
   "outputs": [
    {
     "data": {
      "text/plain": [
       "array([0.552534  , 0.14531791, 0.10563299], dtype=float32)"
      ]
     },
     "execution_count": 70,
     "metadata": {},
     "output_type": "execute_result"
    }
   ],
   "source": [
    "pca.explained_variance_ratio_\n",
    "#se busca reducir la dimensionalidad observando las componentes con mayor varianza"
   ]
  },
  {
   "cell_type": "code",
   "execution_count": 71,
   "metadata": {},
   "outputs": [
    {
     "data": {
      "text/plain": [
       "0.8034849"
      ]
     },
     "execution_count": 71,
     "metadata": {},
     "output_type": "execute_result"
    }
   ],
   "source": [
    "pca.explained_variance_ratio_.sum()"
   ]
  },
  {
   "cell_type": "code",
   "execution_count": 72,
   "metadata": {},
   "outputs": [
    {
     "data": {
      "text/plain": [
       "3"
      ]
     },
     "execution_count": 72,
     "metadata": {},
     "output_type": "execute_result"
    }
   ],
   "source": [
    "pca.n_components"
   ]
  },
  {
   "cell_type": "code",
   "execution_count": 73,
   "metadata": {},
   "outputs": [
    {
     "name": "stdout",
     "output_type": "stream",
     "text": [
      "----------------------------------------------------\n",
      "Porcentaje de varianza explicada por cada componente\n",
      "----------------------------------------------------\n",
      "[0.552534   0.14531791 0.10563299]\n"
     ]
    },
    {
     "data": {
      "image/png": "[encoded data removed]",
      "text/plain": [
       "<Figure size 432x288 with 1 Axes>"
      ]
     },
     "metadata": {
      "needs_background": "light"
     },
     "output_type": "display_data"
    }
   ],
   "source": [
    "#Porcentaje de varianza explicada por cada componente\n",
    "# ==============================================================================\n",
    "print('----------------------------------------------------')\n",
    "print('Porcentaje de varianza explicada por cada componente')\n",
    "print('----------------------------------------------------')\n",
    "print(pca.explained_variance_ratio_)\n",
    "\n",
    "fig, ax = plt.subplots(nrows=1, ncols=1, figsize=(6, 4))\n",
    "ax.bar(\n",
    "    x      = np.arange(pca.n_components_) + 1,\n",
    "    height = pca.explained_variance_ratio_\n",
    ")\n",
    "\n",
    "for x, y in zip(np.arange(len(df1.columns)) + 1, pca.explained_variance_ratio_):\n",
    "    label = round(y, 2)\n",
    "    ax.annotate(\n",
    "        label,\n",
    "        (x,y),\n",
    "        textcoords=\"offset points\",\n",
    "        xytext=(0,10),\n",
    "        ha='center'\n",
    "    )\n",
    "\n",
    "ax.set_xticks(np.arange(pca.n_components_) + 1)\n",
    "ax.set_ylim(0, 1.1)\n",
    "ax.set_title('Porcentaje de varianza explicada por cada componente')\n",
    "ax.set_xlabel('Componente principal')\n",
    "ax.set_ylabel('Por. varianza explicada');"
   ]
  },
  {
   "cell_type": "code",
   "execution_count": 74,
   "metadata": {},
   "outputs": [],
   "source": [
    "pcas = []\n",
    "for i in range(1,4):\n",
    "    pcas.append(\"Pca_\" + str(i))\n",
    "new_df1[pcas] = proyected_features[:,:3]"
   ]
  },
  {
   "cell_type": "code",
   "execution_count": 75,
   "metadata": {},
   "outputs": [
    {
     "data": {
      "text/plain": [
       "<seaborn.axisgrid.PairGrid at 0x7f23c59c19d0>"
      ]
     },
     "execution_count": 75,
     "metadata": {},
     "output_type": "execute_result"
    },
    {
     "data": {
      "image/png": "[encoded data removed]",
      "text/plain": [
       "<Figure size 540x540 with 12 Axes>"
      ]
     },
     "metadata": {
      "needs_background": "light"
     },
     "output_type": "display_data"
    }
   ],
   "source": [
    "seaborn.pairplot(data=new_df1,\n",
    "                x_vars=['Pca_1', 'Pca_2','Pca_3'],\n",
    "                y_vars=['Pca_1', 'Pca_2','Pca_3'])\n",
    "#se realizan graficos entre las componentes"
   ]
  }
 ],
 "metadata": {
  "kernelspec": {
   "display_name": "Python 3",
   "language": "python",
   "name": "python3"
  },
  "language_info": {
   "codemirror_mode": {
    "name": "ipython",
    "version": 3
   },
   "file_extension": ".py",
   "mimetype": "text/x-python",
   "name": "python",
   "nbconvert_exporter": "python",
   "pygments_lexer": "ipython3",
   "version": "3.8.10"
  }
 },
 "nbformat": 4,
 "nbformat_minor": 4
}
