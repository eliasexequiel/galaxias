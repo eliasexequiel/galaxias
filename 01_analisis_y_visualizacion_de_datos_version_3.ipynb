{
 "cells": [
  {
   "cell_type": "markdown",
   "metadata": {},
   "source": [
    "# Práctico Análisis y Visualización de Datos \n",
    "\n",
    "\n",
    "**Objetivo y alcance:**\n",
    "\n",
    "Se introducirá la miscelánea disponible para la inspección y visualización de la estadística descriptiva, estadística inferencial y probabilidad conjunta para cada una de las variables físicas de las galaxias, herramientas suficientes para determinar la distribución y estadisticos de las cantidades físicas que caracterizan al dataset y como éstas están relacionadas.\n",
    "\n",
    "**Método:**\n",
    "El objetivo será hecho a través de las librerías de python dedicadas a la examinación y visualización, principalmente con librerías como: pandas, numpy, seaborn, matplotlib y scipy. En la parte estadística se estudiarán los intercuartiles, valores extremos, *outliers* y las distribuciones que sigue cada una de las variables ajustadas a la distribución normal, las mismas tambien se visualizarán a través de histogramas y boxplots.  Usando métodos probabilisticos como el teorema de Bayes, chi-cuadrado y el intervalo de confianza de la mediana en los boxplots se verá la correlación entre estas variables.\n",
    "\n",
    "\n",
    "Estructura del informe:\n",
    "- Presentación de los datos;\n",
    "- Visualización de datos categóricos y numéricos;\n",
    "- Valores explícitos característicos de la distribución de algunas de las variables;\n",
    "- Vizualización de la distribución con los valores característicos de la misma;\n",
    "- Ajuste de la distribución a una Normal;\n",
    "- Examinación de distribuciones de probabilidades discretas y continuas;\n",
    "- Correlación entre las variables;\n",
    "- Visualización de correlación entre variables usando mapas de calor;\n",
    "- Conclusiones."
   ]
  },
  {
   "cell_type": "markdown",
   "metadata": {},
   "source": [
    "El *dataset* contiene las siguientes columnas:\n",
    "\n",
    "- **rac y dec** = Posición angular, rac de 0 a 360 y dec de -90 a 90\n",
    "- **Mag_u,Mag_g,Mag_r,Mag_i,Mag_z**= Estas variables representan una fracción de la luz total que observamos de las galaxias según su frecuencia (como por ejemplo, la frecuencia de radio, para más información [wiki](https://es.wikipedia.org/wiki/Espectro_visible))\n",
    "- **z** = Es una medida de la distancia a la que se encuentra la galaxia\n",
    "- **R** = Es una medida del tamaño de la galaxia\n",
    "- **color**= Como su nombre lo indica es el color más predominante en la galaxia\n",
    "- **elíptica, espiral, irregular**= Estas columnas identifican el tipo de morfología de las galaxias. Si el valor de una de estas tres columnas es 1, entonces la galaxia tiene esa morfología y las dos restantes tendran el valor 0. "
   ]
  },
  {
   "cell_type": "markdown",
   "metadata": {},
   "source": [
    "# Paquetes "
   ]
  },
  {
   "cell_type": "code",
   "execution_count": 1,
   "metadata": {},
   "outputs": [],
   "source": [
    "import pandas as pd\n",
    "import matplotlib.pyplot as plt\n",
    "import seaborn\n",
    "import scipy as sp\n",
    "import numpy as np\n",
    "import matplotlib.patches as mpatches\n"
   ]
  },
  {
   "cell_type": "markdown",
   "metadata": {},
   "source": [
    "# Carga de Datos"
   ]
  },
  {
   "cell_type": "code",
   "execution_count": 2,
   "metadata": {},
   "outputs": [],
   "source": [
    "data = pd.read_csv('galaxias.csv', sep=',')"
   ]
  },
  {
   "cell_type": "code",
   "execution_count": 5,
   "metadata": {},
   "outputs": [
    {
     "data": {
      "text/plain": [
       "0       -1.446144\n",
       "1       -2.688982\n",
       "2       -1.885653\n",
       "3       -2.764166\n",
       "4       -1.919950\n",
       "           ...   \n",
       "92097   -1.643940\n",
       "92098   -1.083851\n",
       "92099   -2.582861\n",
       "92100   -1.658144\n",
       "92101   -1.338097\n",
       "Name: color, Length: 92102, dtype: float64"
      ]
     },
     "execution_count": 5,
     "metadata": {},
     "output_type": "execute_result"
    }
   ],
   "source": []
  },
  {
   "cell_type": "code",
   "execution_count": 3,
   "metadata": {},
   "outputs": [
    {
     "data": {
      "text/plain": [
       "'Head'"
      ]
     },
     "metadata": {},
     "output_type": "display_data"
    },
    {
     "data": {
      "text/html": [
       "<div>\n",
       "<style scoped>\n",
       "    .dataframe tbody tr th:only-of-type {\n",
       "        vertical-align: middle;\n",
       "    }\n",
       "\n",
       "    .dataframe tbody tr th {\n",
       "        vertical-align: top;\n",
       "    }\n",
       "\n",
       "    .dataframe thead th {\n",
       "        text-align: right;\n",
       "    }\n",
       "</style>\n",
       "<table border=\"1\" class=\"dataframe\">\n",
       "  <thead>\n",
       "    <tr style=\"text-align: right;\">\n",
       "      <th></th>\n",
       "      <th>ra</th>\n",
       "      <th>dec</th>\n",
       "      <th>Mag_u</th>\n",
       "      <th>Mag_g</th>\n",
       "      <th>Mag_r</th>\n",
       "      <th>Mag_i</th>\n",
       "      <th>Mag_z</th>\n",
       "      <th>R</th>\n",
       "      <th>z</th>\n",
       "      <th>color</th>\n",
       "      <th>eliptica</th>\n",
       "      <th>espiral</th>\n",
       "      <th>irregular</th>\n",
       "    </tr>\n",
       "  </thead>\n",
       "  <tbody>\n",
       "    <tr>\n",
       "      <th>0</th>\n",
       "      <td>124.681690</td>\n",
       "      <td>51.782638</td>\n",
       "      <td>18.88496</td>\n",
       "      <td>17.75081</td>\n",
       "      <td>17.43881</td>\n",
       "      <td>17.23038</td>\n",
       "      <td>17.13276</td>\n",
       "      <td>6.112216</td>\n",
       "      <td>0.042512</td>\n",
       "      <td>-1.446144</td>\n",
       "      <td>0</td>\n",
       "      <td>0</td>\n",
       "      <td>1</td>\n",
       "    </tr>\n",
       "    <tr>\n",
       "      <th>1</th>\n",
       "      <td>128.676351</td>\n",
       "      <td>51.973910</td>\n",
       "      <td>20.20252</td>\n",
       "      <td>18.14648</td>\n",
       "      <td>17.51353</td>\n",
       "      <td>17.13207</td>\n",
       "      <td>16.83231</td>\n",
       "      <td>6.618816</td>\n",
       "      <td>0.049901</td>\n",
       "      <td>-2.688982</td>\n",
       "      <td>0</td>\n",
       "      <td>1</td>\n",
       "      <td>0</td>\n",
       "    </tr>\n",
       "    <tr>\n",
       "      <th>2</th>\n",
       "      <td>131.396389</td>\n",
       "      <td>53.550571</td>\n",
       "      <td>18.85028</td>\n",
       "      <td>17.48945</td>\n",
       "      <td>16.96463</td>\n",
       "      <td>16.68431</td>\n",
       "      <td>16.50479</td>\n",
       "      <td>10.350600</td>\n",
       "      <td>0.045041</td>\n",
       "      <td>-1.885653</td>\n",
       "      <td>0</td>\n",
       "      <td>1</td>\n",
       "      <td>0</td>\n",
       "    </tr>\n",
       "    <tr>\n",
       "      <th>3</th>\n",
       "      <td>129.384163</td>\n",
       "      <td>55.251341</td>\n",
       "      <td>19.29007</td>\n",
       "      <td>17.38153</td>\n",
       "      <td>16.52590</td>\n",
       "      <td>16.11502</td>\n",
       "      <td>15.78828</td>\n",
       "      <td>5.981402</td>\n",
       "      <td>0.045485</td>\n",
       "      <td>-2.764166</td>\n",
       "      <td>0</td>\n",
       "      <td>0</td>\n",
       "      <td>1</td>\n",
       "    </tr>\n",
       "  </tbody>\n",
       "</table>\n",
       "</div>"
      ],
      "text/plain": [
       "           ra        dec     Mag_u     Mag_g     Mag_r     Mag_i     Mag_z  \\\n",
       "0  124.681690  51.782638  18.88496  17.75081  17.43881  17.23038  17.13276   \n",
       "1  128.676351  51.973910  20.20252  18.14648  17.51353  17.13207  16.83231   \n",
       "2  131.396389  53.550571  18.85028  17.48945  16.96463  16.68431  16.50479   \n",
       "3  129.384163  55.251341  19.29007  17.38153  16.52590  16.11502  15.78828   \n",
       "\n",
       "           R         z     color  eliptica  espiral  irregular  \n",
       "0   6.112216  0.042512 -1.446144         0        0          1  \n",
       "1   6.618816  0.049901 -2.688982         0        1          0  \n",
       "2  10.350600  0.045041 -1.885653         0        1          0  \n",
       "3   5.981402  0.045485 -2.764166         0        0          1  "
      ]
     },
     "metadata": {},
     "output_type": "display_data"
    },
    {
     "data": {
      "text/plain": [
       "'Tamaño'"
      ]
     },
     "metadata": {},
     "output_type": "display_data"
    },
    {
     "data": {
      "text/plain": [
       "(92102, 13)"
      ]
     },
     "metadata": {},
     "output_type": "display_data"
    },
    {
     "data": {
      "text/plain": [
       "'Valores faltantes'"
      ]
     },
     "metadata": {},
     "output_type": "display_data"
    },
    {
     "data": {
      "text/html": [
       "<div>\n",
       "<style scoped>\n",
       "    .dataframe tbody tr th:only-of-type {\n",
       "        vertical-align: middle;\n",
       "    }\n",
       "\n",
       "    .dataframe tbody tr th {\n",
       "        vertical-align: top;\n",
       "    }\n",
       "\n",
       "    .dataframe thead th {\n",
       "        text-align: right;\n",
       "    }\n",
       "</style>\n",
       "<table border=\"1\" class=\"dataframe\">\n",
       "  <thead>\n",
       "    <tr style=\"text-align: right;\">\n",
       "      <th></th>\n",
       "      <th>0</th>\n",
       "    </tr>\n",
       "  </thead>\n",
       "  <tbody>\n",
       "    <tr>\n",
       "      <th>ra</th>\n",
       "      <td>True</td>\n",
       "    </tr>\n",
       "    <tr>\n",
       "      <th>dec</th>\n",
       "      <td>True</td>\n",
       "    </tr>\n",
       "    <tr>\n",
       "      <th>Mag_u</th>\n",
       "      <td>True</td>\n",
       "    </tr>\n",
       "    <tr>\n",
       "      <th>Mag_g</th>\n",
       "      <td>True</td>\n",
       "    </tr>\n",
       "    <tr>\n",
       "      <th>Mag_r</th>\n",
       "      <td>True</td>\n",
       "    </tr>\n",
       "    <tr>\n",
       "      <th>Mag_i</th>\n",
       "      <td>True</td>\n",
       "    </tr>\n",
       "    <tr>\n",
       "      <th>Mag_z</th>\n",
       "      <td>True</td>\n",
       "    </tr>\n",
       "    <tr>\n",
       "      <th>R</th>\n",
       "      <td>True</td>\n",
       "    </tr>\n",
       "    <tr>\n",
       "      <th>z</th>\n",
       "      <td>True</td>\n",
       "    </tr>\n",
       "    <tr>\n",
       "      <th>color</th>\n",
       "      <td>True</td>\n",
       "    </tr>\n",
       "    <tr>\n",
       "      <th>eliptica</th>\n",
       "      <td>True</td>\n",
       "    </tr>\n",
       "    <tr>\n",
       "      <th>espiral</th>\n",
       "      <td>True</td>\n",
       "    </tr>\n",
       "    <tr>\n",
       "      <th>irregular</th>\n",
       "      <td>True</td>\n",
       "    </tr>\n",
       "  </tbody>\n",
       "</table>\n",
       "</div>"
      ],
      "text/plain": [
       "              0\n",
       "ra         True\n",
       "dec        True\n",
       "Mag_u      True\n",
       "Mag_g      True\n",
       "Mag_r      True\n",
       "Mag_i      True\n",
       "Mag_z      True\n",
       "R          True\n",
       "z          True\n",
       "color      True\n",
       "eliptica   True\n",
       "espiral    True\n",
       "irregular  True"
      ]
     },
     "metadata": {},
     "output_type": "display_data"
    },
    {
     "data": {
      "text/plain": [
       "'Estadísticos del dataset'"
      ]
     },
     "metadata": {},
     "output_type": "display_data"
    },
    {
     "data": {
      "text/html": [
       "<div>\n",
       "<style scoped>\n",
       "    .dataframe tbody tr th:only-of-type {\n",
       "        vertical-align: middle;\n",
       "    }\n",
       "\n",
       "    .dataframe tbody tr th {\n",
       "        vertical-align: top;\n",
       "    }\n",
       "\n",
       "    .dataframe thead th {\n",
       "        text-align: right;\n",
       "    }\n",
       "</style>\n",
       "<table border=\"1\" class=\"dataframe\">\n",
       "  <thead>\n",
       "    <tr style=\"text-align: right;\">\n",
       "      <th></th>\n",
       "      <th>ra</th>\n",
       "      <th>dec</th>\n",
       "      <th>Mag_u</th>\n",
       "      <th>Mag_g</th>\n",
       "      <th>Mag_r</th>\n",
       "      <th>Mag_i</th>\n",
       "      <th>Mag_z</th>\n",
       "      <th>R</th>\n",
       "      <th>z</th>\n",
       "      <th>color</th>\n",
       "      <th>eliptica</th>\n",
       "      <th>espiral</th>\n",
       "      <th>irregular</th>\n",
       "    </tr>\n",
       "  </thead>\n",
       "  <tbody>\n",
       "    <tr>\n",
       "      <th>count</th>\n",
       "      <td>92102.000000</td>\n",
       "      <td>92102.000000</td>\n",
       "      <td>92102.000000</td>\n",
       "      <td>92102.000000</td>\n",
       "      <td>92102.000000</td>\n",
       "      <td>92102.000000</td>\n",
       "      <td>92102.000000</td>\n",
       "      <td>92102.000000</td>\n",
       "      <td>92102.000000</td>\n",
       "      <td>92102.000000</td>\n",
       "      <td>92102.000000</td>\n",
       "      <td>92102.000000</td>\n",
       "      <td>92102.000000</td>\n",
       "    </tr>\n",
       "    <tr>\n",
       "      <th>mean</th>\n",
       "      <td>181.086338</td>\n",
       "      <td>24.723737</td>\n",
       "      <td>18.143378</td>\n",
       "      <td>16.708392</td>\n",
       "      <td>16.312647</td>\n",
       "      <td>15.991780</td>\n",
       "      <td>15.433421</td>\n",
       "      <td>9.459875</td>\n",
       "      <td>0.036092</td>\n",
       "      <td>-1.830732</td>\n",
       "      <td>0.089651</td>\n",
       "      <td>0.326225</td>\n",
       "      <td>0.584124</td>\n",
       "    </tr>\n",
       "    <tr>\n",
       "      <th>std</th>\n",
       "      <td>61.177151</td>\n",
       "      <td>18.853785</td>\n",
       "      <td>46.690487</td>\n",
       "      <td>46.684358</td>\n",
       "      <td>1.092588</td>\n",
       "      <td>1.151259</td>\n",
       "      <td>57.168725</td>\n",
       "      <td>5.248708</td>\n",
       "      <td>0.008435</td>\n",
       "      <td>46.686363</td>\n",
       "      <td>0.285682</td>\n",
       "      <td>0.468833</td>\n",
       "      <td>0.492875</td>\n",
       "    </tr>\n",
       "    <tr>\n",
       "      <th>min</th>\n",
       "      <td>0.008745</td>\n",
       "      <td>-11.202394</td>\n",
       "      <td>-9999.000000</td>\n",
       "      <td>-9999.000000</td>\n",
       "      <td>11.524090</td>\n",
       "      <td>11.220580</td>\n",
       "      <td>-9999.000000</td>\n",
       "      <td>0.842248</td>\n",
       "      <td>0.020001</td>\n",
       "      <td>-13.484570</td>\n",
       "      <td>0.000000</td>\n",
       "      <td>0.000000</td>\n",
       "      <td>0.000000</td>\n",
       "    </tr>\n",
       "    <tr>\n",
       "      <th>25%</th>\n",
       "      <td>150.287271</td>\n",
       "      <td>9.115292</td>\n",
       "      <td>17.725203</td>\n",
       "      <td>16.251015</td>\n",
       "      <td>15.562648</td>\n",
       "      <td>15.197173</td>\n",
       "      <td>14.910782</td>\n",
       "      <td>6.117609</td>\n",
       "      <td>0.029082</td>\n",
       "      <td>-2.510555</td>\n",
       "      <td>0.000000</td>\n",
       "      <td>0.000000</td>\n",
       "      <td>0.000000</td>\n",
       "    </tr>\n",
       "    <tr>\n",
       "      <th>50%</th>\n",
       "      <td>183.219954</td>\n",
       "      <td>23.111344</td>\n",
       "      <td>18.442490</td>\n",
       "      <td>17.082385</td>\n",
       "      <td>16.491180</td>\n",
       "      <td>16.171225</td>\n",
       "      <td>15.934050</td>\n",
       "      <td>8.361149</td>\n",
       "      <td>0.036321</td>\n",
       "      <td>-1.994779</td>\n",
       "      <td>0.000000</td>\n",
       "      <td>0.000000</td>\n",
       "      <td>1.000000</td>\n",
       "    </tr>\n",
       "    <tr>\n",
       "      <th>75%</th>\n",
       "      <td>222.722975</td>\n",
       "      <td>38.982500</td>\n",
       "      <td>19.028265</td>\n",
       "      <td>17.720817</td>\n",
       "      <td>17.209298</td>\n",
       "      <td>16.928400</td>\n",
       "      <td>16.736465</td>\n",
       "      <td>11.345535</td>\n",
       "      <td>0.043620</td>\n",
       "      <td>-1.606971</td>\n",
       "      <td>0.000000</td>\n",
       "      <td>1.000000</td>\n",
       "      <td>1.000000</td>\n",
       "    </tr>\n",
       "    <tr>\n",
       "      <th>max</th>\n",
       "      <td>359.965567</td>\n",
       "      <td>70.133213</td>\n",
       "      <td>28.787190</td>\n",
       "      <td>25.526970</td>\n",
       "      <td>27.911470</td>\n",
       "      <td>25.657780</td>\n",
       "      <td>26.923540</td>\n",
       "      <td>231.121800</td>\n",
       "      <td>0.050000</td>\n",
       "      <td>10015.860000</td>\n",
       "      <td>1.000000</td>\n",
       "      <td>1.000000</td>\n",
       "      <td>1.000000</td>\n",
       "    </tr>\n",
       "  </tbody>\n",
       "</table>\n",
       "</div>"
      ],
      "text/plain": [
       "                 ra           dec         Mag_u         Mag_g         Mag_r  \\\n",
       "count  92102.000000  92102.000000  92102.000000  92102.000000  92102.000000   \n",
       "mean     181.086338     24.723737     18.143378     16.708392     16.312647   \n",
       "std       61.177151     18.853785     46.690487     46.684358      1.092588   \n",
       "min        0.008745    -11.202394  -9999.000000  -9999.000000     11.524090   \n",
       "25%      150.287271      9.115292     17.725203     16.251015     15.562648   \n",
       "50%      183.219954     23.111344     18.442490     17.082385     16.491180   \n",
       "75%      222.722975     38.982500     19.028265     17.720817     17.209298   \n",
       "max      359.965567     70.133213     28.787190     25.526970     27.911470   \n",
       "\n",
       "              Mag_i         Mag_z             R             z         color  \\\n",
       "count  92102.000000  92102.000000  92102.000000  92102.000000  92102.000000   \n",
       "mean      15.991780     15.433421      9.459875      0.036092     -1.830732   \n",
       "std        1.151259     57.168725      5.248708      0.008435     46.686363   \n",
       "min       11.220580  -9999.000000      0.842248      0.020001    -13.484570   \n",
       "25%       15.197173     14.910782      6.117609      0.029082     -2.510555   \n",
       "50%       16.171225     15.934050      8.361149      0.036321     -1.994779   \n",
       "75%       16.928400     16.736465     11.345535      0.043620     -1.606971   \n",
       "max       25.657780     26.923540    231.121800      0.050000  10015.860000   \n",
       "\n",
       "           eliptica       espiral     irregular  \n",
       "count  92102.000000  92102.000000  92102.000000  \n",
       "mean       0.089651      0.326225      0.584124  \n",
       "std        0.285682      0.468833      0.492875  \n",
       "min        0.000000      0.000000      0.000000  \n",
       "25%        0.000000      0.000000      0.000000  \n",
       "50%        0.000000      0.000000      1.000000  \n",
       "75%        0.000000      1.000000      1.000000  \n",
       "max        1.000000      1.000000      1.000000  "
      ]
     },
     "metadata": {},
     "output_type": "display_data"
    }
   ],
   "source": [
    "display('Head',data.head(4))\n",
    "display('Tamaño',data.shape)\n",
    "display('Valores faltantes',data.notnull().all().to_frame())\n",
    "display('Estadísticos del dataset',data.describe())"
   ]
  },
  {
   "cell_type": "markdown",
   "metadata": {},
   "source": [
    "# Funciones"
   ]
  },
  {
   "cell_type": "code",
   "execution_count": 4,
   "metadata": {},
   "outputs": [],
   "source": [
    "def contar_galaxias(data):\n",
    "    galaxias_irregulares = data[data.clase == \"I\"]\n",
    "    galaxias_espirales = data[data.clase == \"S\"]\n",
    "    galaxias_elipticas = data[data.clase == \"E\"]\n",
    "    len_galaxias_irregulares = len(galaxias_irregulares.clase)\n",
    "    len_galaxias_espirales = len(galaxias_espirales.clase)\n",
    "    len_galaxias_elipticas = len(galaxias_elipticas.clase)\n",
    "    print(\"\\nGALAXIAS IRREGULARES\")\n",
    "    print(\"Cantidad: \" + str(len_galaxias_irregulares))\n",
    "    prob_irregulares = probabilidad_galaxia(data,'irregular')\n",
    "    print(\"Probabilidad: \" + str(prob_irregulares) + \" %\")\n",
    "    print(\"\\nGALAXIAS ESPIRALES\")\n",
    "    print(\"Cantidad: \" + str(len_galaxias_espirales))\n",
    "    prob_espirales = probabilidad_galaxia(data,'espiral')\n",
    "    print(\"Probabilidad: \" + str(prob_espirales) + \" %\")\n",
    "    print(\"\\nGALAXIAS ELÍPTICAS\")\n",
    "    print(\"Cantidad: \" + str(len_galaxias_elipticas))\n",
    "    prob_elipticas = probabilidad_galaxia(data,'eliptica')\n",
    "    print(\"Probabilidad: \" + str(prob_elipticas) + \" %\")\n",
    "    print(\"\\nCantidad total de galaxias: \" + str(len_galaxias_irregulares+len_galaxias_espirales+len_galaxias_elipticas))"
   ]
  },
  {
   "cell_type": "code",
   "execution_count": 5,
   "metadata": {},
   "outputs": [],
   "source": [
    "def probabilidad_galaxia(data,tipo_galaxia):\n",
    "    df_tipo_galaxia = data[data[tipo_galaxia] == 1]\n",
    "    cantidad_tipo_galaxia = len(df_tipo_galaxia)\n",
    "    cantidad_total = len(data)\n",
    "    return (( cantidad_tipo_galaxia / cantidad_total ) * 100)"
   ]
  },
  {
   "cell_type": "markdown",
   "metadata": {},
   "source": [
    "# Clases"
   ]
  },
  {
   "cell_type": "markdown",
   "metadata": {},
   "source": [
    "Defino una nueva columna de tipo categórico para concatenar la clase o tipo morfologíco de las galaxias."
   ]
  },
  {
   "cell_type": "code",
   "execution_count": 6,
   "metadata": {},
   "outputs": [
    {
     "data": {
      "text/html": [
       "<div>\n",
       "<style scoped>\n",
       "    .dataframe tbody tr th:only-of-type {\n",
       "        vertical-align: middle;\n",
       "    }\n",
       "\n",
       "    .dataframe tbody tr th {\n",
       "        vertical-align: top;\n",
       "    }\n",
       "\n",
       "    .dataframe thead th {\n",
       "        text-align: right;\n",
       "    }\n",
       "</style>\n",
       "<table border=\"1\" class=\"dataframe\">\n",
       "  <thead>\n",
       "    <tr style=\"text-align: right;\">\n",
       "      <th></th>\n",
       "      <th>ra</th>\n",
       "      <th>dec</th>\n",
       "      <th>Mag_u</th>\n",
       "      <th>Mag_g</th>\n",
       "      <th>Mag_r</th>\n",
       "      <th>Mag_i</th>\n",
       "      <th>Mag_z</th>\n",
       "      <th>R</th>\n",
       "      <th>z</th>\n",
       "      <th>color</th>\n",
       "      <th>eliptica</th>\n",
       "      <th>espiral</th>\n",
       "      <th>irregular</th>\n",
       "      <th>clase</th>\n",
       "    </tr>\n",
       "  </thead>\n",
       "  <tbody>\n",
       "    <tr>\n",
       "      <th>0</th>\n",
       "      <td>124.681690</td>\n",
       "      <td>51.782638</td>\n",
       "      <td>18.88496</td>\n",
       "      <td>17.75081</td>\n",
       "      <td>17.43881</td>\n",
       "      <td>17.23038</td>\n",
       "      <td>17.13276</td>\n",
       "      <td>6.112216</td>\n",
       "      <td>0.042512</td>\n",
       "      <td>-1.446144</td>\n",
       "      <td>0</td>\n",
       "      <td>0</td>\n",
       "      <td>1</td>\n",
       "      <td>I</td>\n",
       "    </tr>\n",
       "    <tr>\n",
       "      <th>1</th>\n",
       "      <td>128.676351</td>\n",
       "      <td>51.973910</td>\n",
       "      <td>20.20252</td>\n",
       "      <td>18.14648</td>\n",
       "      <td>17.51353</td>\n",
       "      <td>17.13207</td>\n",
       "      <td>16.83231</td>\n",
       "      <td>6.618816</td>\n",
       "      <td>0.049901</td>\n",
       "      <td>-2.688982</td>\n",
       "      <td>0</td>\n",
       "      <td>1</td>\n",
       "      <td>0</td>\n",
       "      <td>S</td>\n",
       "    </tr>\n",
       "  </tbody>\n",
       "</table>\n",
       "</div>"
      ],
      "text/plain": [
       "           ra        dec     Mag_u     Mag_g     Mag_r     Mag_i     Mag_z  \\\n",
       "0  124.681690  51.782638  18.88496  17.75081  17.43881  17.23038  17.13276   \n",
       "1  128.676351  51.973910  20.20252  18.14648  17.51353  17.13207  16.83231   \n",
       "\n",
       "          R         z     color  eliptica  espiral  irregular clase  \n",
       "0  6.112216  0.042512 -1.446144         0        0          1     I  \n",
       "1  6.618816  0.049901 -2.688982         0        1          0     S  "
      ]
     },
     "execution_count": 6,
     "metadata": {},
     "output_type": "execute_result"
    }
   ],
   "source": [
    "clase=[]\n",
    "for i in range(0,data.shape[0]):\n",
    "    if data.eliptica[i]==1:\n",
    "        clase.append('E')\n",
    "    elif data.espiral[i]==1:\n",
    "        clase.append('S')\n",
    "    elif data.irregular[i]==1:\n",
    "        clase.append('I')\n",
    "data['clase']=clase\n",
    "data.head(2)"
   ]
  },
  {
   "cell_type": "markdown",
   "metadata": {},
   "source": [
    "# Visualización"
   ]
  },
  {
   "cell_type": "markdown",
   "metadata": {},
   "source": [
    "Encuentre una forma adecuada para exhibir el balance de las clase eliptica (E), espiral (S) e irregular (I) usando la nueva columna clase."
   ]
  },
  {
   "cell_type": "code",
   "execution_count": 7,
   "metadata": {},
   "outputs": [
    {
     "data": {
      "image/png": "[encoded data removed]",
      "text/plain": [
       "<Figure size 576x360 with 1 Axes>"
      ]
     },
     "metadata": {
      "needs_background": "light"
     },
     "output_type": "display_data"
    }
   ],
   "source": [
    "plt.rcParams[\"figure.figsize\"] = [8, 5]\n",
    "plt.rcParams[\"figure.autolayout\"] = True\n",
    "#seaborn.set_theme(style=\"darkgrid\")\n",
    "seaborn.countplot(x=\"clase\", data=data)\n",
    "plt.title(\"Cantidad de cada tipo de galaxia\")\n",
    "plt.xlabel(\"Clases de galaxias\")\n",
    "plt.ylabel(\"Cantidad de galaxias\")\n",
    "plt.show()"
   ]
  },
  {
   "cell_type": "markdown",
   "metadata": {},
   "source": [
    "Use histogramas y boxplots para visualizar intervalos de confianza, mediana, media, intercuartiles y *outliers* de la posición **z** y del tamaño **R** para algun tipo morfologíco."
   ]
  },
  {
   "cell_type": "markdown",
   "metadata": {},
   "source": [
    "### Análisis variable z"
   ]
  },
  {
   "cell_type": "code",
   "execution_count": 8,
   "metadata": {
    "scrolled": true
   },
   "outputs": [
    {
     "data": {
      "image/png": "[encoded data removed]",
      "text/plain": [
       "<Figure size 720x216 with 1 Axes>"
      ]
     },
     "metadata": {
      "needs_background": "light"
     },
     "output_type": "display_data"
    }
   ],
   "source": [
    "plt.rcParams[\"figure.figsize\"] = [10, 3]\n",
    "plt.rcParams[\"figure.autolayout\"] = True\n",
    "seaborn.boxplot(data=data, x=\"z\")\n",
    "plt.title(\"Boxplot de z sobre todas las galaxias\")\n",
    "plt.xlabel(\"Distancia hasta la galaxia (z)\")\n",
    "plt.show()"
   ]
  },
  {
   "cell_type": "code",
   "execution_count": 9,
   "metadata": {},
   "outputs": [
    {
     "data": {
      "image/png": "[encoded data removed]",
      "text/plain": [
       "<Figure size 720x216 with 1 Axes>"
      ]
     },
     "metadata": {
      "needs_background": "light"
     },
     "output_type": "display_data"
    }
   ],
   "source": [
    "seaborn.boxplot(data=data, x=\"z\", y=\"clase\")\n",
    "plt.title(\"Boxplot sobre z de cada tipo de galaxia\")\n",
    "plt.xlabel(\"Distancia hasta la galaxia (z)\")\n",
    "plt.ylabel(\"Clases de galaxias\")\n",
    "plt.show()"
   ]
  },
  {
   "cell_type": "code",
   "execution_count": 10,
   "metadata": {},
   "outputs": [
    {
     "name": "stdout",
     "output_type": "stream",
     "text": [
      "Histogramas de cada galaxia sobre la variable z\n"
     ]
    },
    {
     "data": {
      "image/png": "[encoded data removed]",
      "text/plain": [
       "<Figure size 864x216 with 3 Axes>"
      ]
     },
     "metadata": {
      "needs_background": "light"
     },
     "output_type": "display_data"
    }
   ],
   "source": [
    "fig, ax = plt.subplots(ncols=3, figsize=(12,3))\n",
    "print(\"Histogramas de cada galaxia sobre la variable z\")\n",
    "seaborn.histplot(data=data[data.clase == \"I\"]['z'], ax=ax[0])\n",
    "seaborn.histplot(data=data[data.clase == \"S\"]['z'], ax=ax[1])\n",
    "seaborn.histplot(data=data[data.clase == \"E\"]['z'], ax=ax[2])\n",
    "plt.show()"
   ]
  },
  {
   "cell_type": "code",
   "execution_count": 11,
   "metadata": {
    "scrolled": true
   },
   "outputs": [
    {
     "data": {
      "image/png": "[encoded data removed]",
      "text/plain": [
       "<Figure size 864x288 with 1 Axes>"
      ]
     },
     "metadata": {
      "needs_background": "light"
     },
     "output_type": "display_data"
    }
   ],
   "source": [
    "plt.rcParams[\"figure.figsize\"] = [12, 4]\n",
    "plt.rcParams[\"figure.autolayout\"] = True\n",
    "ax = seaborn.histplot(data=data[['z','clase']], kde=True, x=\"z\", hue=\"clase\")\n",
    "plt.axvline(data[data.clase == \"I\"].z.median(), color='green', linestyle='solid', label='Mediana Galaxias Irregular')\n",
    "plt.axvline(data[data.clase == \"S\"].z.median(), color='black', linestyle='solid', label='Mediana Galaxias Espiral')\n",
    "plt.axvline(data[data.clase == \"E\"].z.median(), color='orange', linestyle='solid', label='Mediana Galaxia Elíptica')\n",
    "plt.title(\"Histograma de la distancia de las galaxias separado por clases, indicando la media de cada clase\")\n",
    "plt.legend()\n",
    "plt.show()"
   ]
  },
  {
   "cell_type": "markdown",
   "metadata": {},
   "source": [
    "##### Conclusión\n",
    "La variable z no se encuentra muy dispersa, la mediana y la media de cada tipo de galaxia respecto a z son similares."
   ]
  },
  {
   "cell_type": "markdown",
   "metadata": {},
   "source": [
    "### Análisis variable R"
   ]
  },
  {
   "cell_type": "code",
   "execution_count": 12,
   "metadata": {},
   "outputs": [
    {
     "data": {
      "image/png": "[encoded data removed]",
      "text/plain": [
       "<Figure size 720x216 with 1 Axes>"
      ]
     },
     "metadata": {
      "needs_background": "light"
     },
     "output_type": "display_data"
    }
   ],
   "source": [
    "plt.rcParams[\"figure.figsize\"] = [10, 3]\n",
    "plt.rcParams[\"figure.autolayout\"] = True\n",
    "seaborn.boxplot(data=data, x=\"R\")\n",
    "plt.title(\"Boxplot del tamaño de las galaxias\")\n",
    "plt.xlabel(\"Tamaño de las galaxias (R)\")\n",
    "plt.show()"
   ]
  },
  {
   "cell_type": "code",
   "execution_count": 13,
   "metadata": {
    "scrolled": true
   },
   "outputs": [
    {
     "data": {
      "image/png": "[encoded data removed]",
      "text/plain": [
       "<Figure size 720x216 with 1 Axes>"
      ]
     },
     "metadata": {
      "needs_background": "light"
     },
     "output_type": "display_data"
    }
   ],
   "source": [
    "seaborn.boxplot(data=data, x=\"R\", y=\"clase\")\n",
    "plt.title(\"Boxplot sobre R de cada tipo de galaxia\")\n",
    "plt.xlabel(\"Tamaño de las galaxias (R)\")\n",
    "plt.ylabel(\"Clases de galaxias\")\n",
    "plt.show()"
   ]
  },
  {
   "cell_type": "code",
   "execution_count": 14,
   "metadata": {
    "scrolled": true
   },
   "outputs": [
    {
     "name": "stdout",
     "output_type": "stream",
     "text": [
      "Histogramas de cada galaxia sobre la variable R\n"
     ]
    },
    {
     "data": {
      "image/png": "[encoded data removed]",
      "text/plain": [
       "<Figure size 864x216 with 3 Axes>"
      ]
     },
     "metadata": {
      "needs_background": "light"
     },
     "output_type": "display_data"
    }
   ],
   "source": [
    "fig, ax = plt.subplots(ncols=3, figsize=(12,3), sharex='col')\n",
    "print(\"Histogramas de cada galaxia sobre la variable R\")\n",
    "seaborn.histplot(data=data[data.clase == \"I\"]['R'], ax=ax[0])\n",
    "seaborn.histplot(data=data[data.clase == \"S\"]['R'], ax=ax[1])\n",
    "seaborn.histplot(data=data[data.clase == \"E\"]['R'], ax=ax[2])\n",
    "\n",
    "plt.show()"
   ]
  },
  {
   "cell_type": "markdown",
   "metadata": {},
   "source": [
    "##### Conclusión\n",
    "La variable R tiene valores extremos."
   ]
  },
  {
   "cell_type": "markdown",
   "metadata": {},
   "source": [
    "Mostrar si los valores de las medianas de las distribuciones de z para cada clase (E,S e I) son estadśticamente diferentes."
   ]
  },
  {
   "cell_type": "code",
   "execution_count": 15,
   "metadata": {},
   "outputs": [
    {
     "name": "stdout",
     "output_type": "stream",
     "text": [
      "MEDIANA GALAXIAS IRREGULAR: 0.03651552\n",
      "MEDIANA GALAXIAS ESPIRAL: 0.03624282\n",
      "MEDIANA GALAXIAS ELÍPTICA: 0.0353871\n"
     ]
    }
   ],
   "source": [
    "print(\"MEDIANA GALAXIAS IRREGULAR: \" + str(data[data.clase == \"I\"].z.median()))\n",
    "print(\"MEDIANA GALAXIAS ESPIRAL: \" + str(data[data.clase == \"S\"].z.median()))\n",
    "print(\"MEDIANA GALAXIAS ELÍPTICA: \" + str(data[data.clase == \"E\"].z.median()))"
   ]
  },
  {
   "cell_type": "code",
   "execution_count": 6,
   "metadata": {},
   "outputs": [
    {
     "data": {
      "text/plain": [
       "KruskalResult(statistic=50699.68123433925, pvalue=0.0)"
      ]
     },
     "execution_count": 6,
     "metadata": {},
     "output_type": "execute_result"
    }
   ],
   "source": [
    "sp.stats.kruskal(data['eliptica'], data['espiral'], data['irregular'])"
   ]
  },
  {
   "cell_type": "markdown",
   "metadata": {},
   "source": [
    "# Valores característicos "
   ]
  },
  {
   "cell_type": "markdown",
   "metadata": {},
   "source": [
    "Mostrar los valores explícitos característicos de la distribución **z** de las galaxias elípticas, espirales, irregulares."
   ]
  },
  {
   "cell_type": "code",
   "execution_count": 16,
   "metadata": {},
   "outputs": [
    {
     "data": {
      "text/html": [
       "<div>\n",
       "<style scoped>\n",
       "    .dataframe tbody tr th:only-of-type {\n",
       "        vertical-align: middle;\n",
       "    }\n",
       "\n",
       "    .dataframe tbody tr th {\n",
       "        vertical-align: top;\n",
       "    }\n",
       "\n",
       "    .dataframe thead th {\n",
       "        text-align: right;\n",
       "    }\n",
       "</style>\n",
       "<table border=\"1\" class=\"dataframe\">\n",
       "  <thead>\n",
       "    <tr style=\"text-align: right;\">\n",
       "      <th></th>\n",
       "      <th>count</th>\n",
       "      <th>mean</th>\n",
       "      <th>std</th>\n",
       "      <th>min</th>\n",
       "      <th>25%</th>\n",
       "      <th>50%</th>\n",
       "      <th>75%</th>\n",
       "      <th>max</th>\n",
       "    </tr>\n",
       "    <tr>\n",
       "      <th>clase</th>\n",
       "      <th></th>\n",
       "      <th></th>\n",
       "      <th></th>\n",
       "      <th></th>\n",
       "      <th></th>\n",
       "      <th></th>\n",
       "      <th></th>\n",
       "      <th></th>\n",
       "    </tr>\n",
       "  </thead>\n",
       "  <tbody>\n",
       "    <tr>\n",
       "      <th>E</th>\n",
       "      <td>8257.0</td>\n",
       "      <td>0.035441</td>\n",
       "      <td>0.008377</td>\n",
       "      <td>0.020001</td>\n",
       "      <td>0.028338</td>\n",
       "      <td>0.035387</td>\n",
       "      <td>0.042901</td>\n",
       "      <td>0.049999</td>\n",
       "    </tr>\n",
       "    <tr>\n",
       "      <th>I</th>\n",
       "      <td>53799.0</td>\n",
       "      <td>0.036198</td>\n",
       "      <td>0.008473</td>\n",
       "      <td>0.020002</td>\n",
       "      <td>0.029136</td>\n",
       "      <td>0.036516</td>\n",
       "      <td>0.043803</td>\n",
       "      <td>0.050000</td>\n",
       "    </tr>\n",
       "    <tr>\n",
       "      <th>S</th>\n",
       "      <td>30046.0</td>\n",
       "      <td>0.036080</td>\n",
       "      <td>0.008375</td>\n",
       "      <td>0.020001</td>\n",
       "      <td>0.029204</td>\n",
       "      <td>0.036243</td>\n",
       "      <td>0.043443</td>\n",
       "      <td>0.049999</td>\n",
       "    </tr>\n",
       "  </tbody>\n",
       "</table>\n",
       "</div>"
      ],
      "text/plain": [
       "         count      mean       std       min       25%       50%       75%  \\\n",
       "clase                                                                        \n",
       "E       8257.0  0.035441  0.008377  0.020001  0.028338  0.035387  0.042901   \n",
       "I      53799.0  0.036198  0.008473  0.020002  0.029136  0.036516  0.043803   \n",
       "S      30046.0  0.036080  0.008375  0.020001  0.029204  0.036243  0.043443   \n",
       "\n",
       "            max  \n",
       "clase            \n",
       "E      0.049999  \n",
       "I      0.050000  \n",
       "S      0.049999  "
      ]
     },
     "execution_count": 16,
     "metadata": {},
     "output_type": "execute_result"
    }
   ],
   "source": [
    "data.groupby('clase').z.describe()"
   ]
  },
  {
   "cell_type": "markdown",
   "metadata": {},
   "source": [
    "# Distribución Normal"
   ]
  },
  {
   "cell_type": "markdown",
   "metadata": {},
   "source": [
    "- Grafique la distribución Normal variando sus estadísticos. Realice una breve descripción de los cambios que nota en estos."
   ]
  },
  {
   "cell_type": "code",
   "execution_count": 17,
   "metadata": {},
   "outputs": [],
   "source": [
    "def clean_outliers_sd(dataset, column_name):\n",
    "    interesting_col = dataset[column_name]\n",
    "    mask_outlier = (np.abs(interesting_col - interesting_col.mean()) <= (2.5 * interesting_col.std()))\n",
    "    return dataset[mask_outlier]\n",
    "\n",
    "def clean_outliers_q3(dataset, column_name):\n",
    "    interesting_col = dataset[column_name]\n",
    "    mask_outlier = (interesting_col <= (2.5 * interesting_col.quantile(.75)))\n",
    "    return dataset[mask_outlier]\n",
    "\n",
    "def remove_outlier(df_in, col_name, iqr_factor):\n",
    "    \"\"\"\n",
    "    IQR outliers removal (https://machinelearningmastery.com/how-to-use-statistics-to-identify-outliers-in-data/)\n",
    "    accept a dataframe, remove outliers, return cleaned data in a new dataframe\n",
    "    see http://www.itl.nist.gov/div898/handbook/prc/section1/prc16.htm\n",
    "    \"\"\"\n",
    "    q1 = df_in[col_name].quantile(0.25)\n",
    "    q3 = df_in[col_name].quantile(0.75)\n",
    "    iqr = q3 - q1  # interquartile range\n",
    "    fence_low = q1 - iqr_factor * iqr\n",
    "    fence_high = q3 + iqr_factor * iqr\n",
    "    df_inliers = df_in.loc[\n",
    "        (df_in[col_name] > fence_low) & (df_in[col_name] < fence_high)\n",
    "    ]\n",
    "    df_outliers = df_in.loc[\n",
    "        (df_in[col_name] < fence_low) | (df_in[col_name] > fence_high)\n",
    "    ]\n",
    "    return df_inliers, df_outliers\n",
    "\n",
    "def calcular_estadistico(data,column):\n",
    "    return ((data[column] - data[column].mean()) / (data[column].std() / np.square(len(data[column]))))"
   ]
  },
  {
   "cell_type": "markdown",
   "metadata": {},
   "source": [
    "### Análisis variable R"
   ]
  },
  {
   "cell_type": "code",
   "execution_count": 18,
   "metadata": {},
   "outputs": [],
   "source": [
    "data_inliers_R, data_outliers_R = remove_outlier(data,'R',2.5)"
   ]
  },
  {
   "cell_type": "code",
   "execution_count": 19,
   "metadata": {},
   "outputs": [
    {
     "data": {
      "text/plain": [
       "ModeResult(mode=array([10.49015]), count=array([20]))"
      ]
     },
     "execution_count": 19,
     "metadata": {},
     "output_type": "execute_result"
    }
   ],
   "source": [
    "sp.stats.mode(data_inliers_R.R)"
   ]
  },
  {
   "cell_type": "code",
   "execution_count": 20,
   "metadata": {},
   "outputs": [
    {
     "name": "stdout",
     "output_type": "stream",
     "text": [
      "La mediana: 8.2745285\n",
      "El percentil 50: 8.2745285\n"
     ]
    }
   ],
   "source": [
    "mediana = np.median(data_inliers_R.R)\n",
    "percentil_50 = np.percentile(data_inliers_R.R,50)\n",
    "print(f\"La mediana: {mediana}\\nEl percentil 50: {percentil_50}\")"
   ]
  },
  {
   "cell_type": "code",
   "execution_count": 21,
   "metadata": {},
   "outputs": [
    {
     "name": "stdout",
     "output_type": "stream",
     "text": [
      "Percentil 75 = 11.1509025\n",
      "Percentil 90 = 14.70774\n",
      "Percentil 95 = 17.329334999999997\n",
      "El 95% de la muestra equivale a un R de 17.329334999999997\n",
      "El 50% de la muestra equivale a un R de 8.2745285. El 75% y el 90% se representan en 11.1509025 y 14.70774\n"
     ]
    }
   ],
   "source": [
    "print(\"Percentil 75 = \" + str(np.percentile(data_inliers_R.R,75)))\n",
    "print(\"Percentil 90 = \" + str(np.percentile(data_inliers_R.R,90)))\n",
    "print(\"Percentil 95 = \" + str(np.percentile(data_inliers_R.R,95)))\n",
    "print(\"El 95% de la muestra equivale a un R de 17.329334999999997\")\n",
    "print(\"El 50% de la muestra equivale a un R de 8.2745285. El 75% y el 90% se representan en 11.1509025 y 14.70774\")"
   ]
  },
  {
   "cell_type": "code",
   "execution_count": 22,
   "metadata": {
    "scrolled": true
   },
   "outputs": [
    {
     "name": "stdout",
     "output_type": "stream",
     "text": [
      "La varianza es 16.813095211806836\n"
     ]
    }
   ],
   "source": [
    "varianza = np.var(data_inliers_R.R)\n",
    "print(f\"La varianza es {varianza}\")"
   ]
  },
  {
   "cell_type": "code",
   "execution_count": 23,
   "metadata": {
    "scrolled": true
   },
   "outputs": [
    {
     "data": {
      "text/plain": [
       "('Desvío Estándar', 4.100377447480517)"
      ]
     },
     "execution_count": 23,
     "metadata": {},
     "output_type": "execute_result"
    }
   ],
   "source": [
    "\"Desvío Estándar\", np.std(data_inliers_R.R)"
   ]
  },
  {
   "cell_type": "code",
   "execution_count": 24,
   "metadata": {},
   "outputs": [
    {
     "name": "stdout",
     "output_type": "stream",
     "text": [
      "El R tiene un valor promedio de 9.069292574156558 con una varianza de 16.813095211806836\n"
     ]
    }
   ],
   "source": [
    "print(\"El R tiene un valor promedio de \" + str(np.mean(data_inliers_R.R)) + \" con una varianza de \" + str(np.var(data_inliers_R.R)))"
   ]
  },
  {
   "cell_type": "code",
   "execution_count": 25,
   "metadata": {},
   "outputs": [
    {
     "data": {
      "text/plain": [
       "('Rango', 23.5707816)"
      ]
     },
     "execution_count": 25,
     "metadata": {},
     "output_type": "execute_result"
    }
   ],
   "source": [
    "\"Rango\", np.ptp(data_inliers_R.R)"
   ]
  },
  {
   "cell_type": "code",
   "execution_count": 26,
   "metadata": {
    "scrolled": true
   },
   "outputs": [
    {
     "data": {
      "image/png": "[encoded data removed]",
      "text/plain": [
       "<Figure size 720x216 with 1 Axes>"
      ]
     },
     "metadata": {
      "needs_background": "light"
     },
     "output_type": "display_data"
    }
   ],
   "source": [
    "plt.rcParams[\"figure.figsize\"] = [10, 3]\n",
    "plt.rcParams[\"figure.autolayout\"] = True\n",
    "ax = seaborn.boxplot(data=data_inliers_R, x=\"R\")\n",
    "plt.title(\"Boxplot del tamaño sobre los inliers de R de las galaxias\")\n",
    "plt.show()"
   ]
  },
  {
   "cell_type": "code",
   "execution_count": 27,
   "metadata": {},
   "outputs": [
    {
     "data": {
      "image/png": "[encoded data removed]",
      "text/plain": [
       "<Figure size 360x360 with 1 Axes>"
      ]
     },
     "metadata": {
      "needs_background": "light"
     },
     "output_type": "display_data"
    }
   ],
   "source": [
    "plt.rcParams[\"figure.figsize\"] = [10, 3]\n",
    "plt.rcParams[\"figure.autolayout\"] = True\n",
    "ax = seaborn.displot(data=data_inliers_R, x=\"R\")\n",
    "plt.title(\"Boxplot del tamaño sobre los outliers de R de las galaxias\")\n",
    "plt.show()"
   ]
  },
  {
   "cell_type": "code",
   "execution_count": 30,
   "metadata": {
    "scrolled": true
   },
   "outputs": [
    {
     "data": {
      "image/png": "[encoded data removed]",
      "text/plain": [
       "<Figure size 720x216 with 1 Axes>"
      ]
     },
     "metadata": {
      "needs_background": "light"
     },
     "output_type": "display_data"
    }
   ],
   "source": [
    "seaborn.boxplot(data=data_inliers_R, x=\"R\", y=\"clase\")\n",
    "plt.title(\"Boxplot sobre los inliers de R de cada tipo de galaxia\")\n",
    "plt.ylabel(\"Clases de galaxias\")\n",
    "plt.show()"
   ]
  },
  {
   "cell_type": "code",
   "execution_count": 34,
   "metadata": {},
   "outputs": [
    {
     "data": {
      "image/png": "[encoded data removed]",
      "text/plain": [
       "<Figure size 720x288 with 1 Axes>"
      ]
     },
     "metadata": {
      "needs_background": "light"
     },
     "output_type": "display_data"
    }
   ],
   "source": [
    "plt.rcParams[\"figure.figsize\"] = [10, 4]\n",
    "plt.rcParams[\"figure.autolayout\"] = True\n",
    "ax = seaborn.histplot(data=data_inliers_R[['R','clase']], kde=True, x=\"R\", hue=\"clase\", stat=\"probability\")\n",
    "plt.axvline(data_inliers_R[data_inliers_R.clase == \"I\"].R.median(), color='green', linestyle='solid', label='Mediana Galaxias Irregular')\n",
    "plt.axvline(data_inliers_R[data_inliers_R.clase == \"I\"].R.mean(), color='green', linestyle='dashed', label='Media Galaxias Irregular')\n",
    "plt.axvline(data_inliers_R[data_inliers_R.clase == \"S\"].R.median(), color='black', linestyle='solid', label='Mediana Galaxias Espiral')\n",
    "plt.axvline(data_inliers_R[data_inliers_R.clase == \"S\"].R.mean(), color='black', linestyle='dashed', label='Media Galaxias Espiral')\n",
    "plt.axvline(data_inliers_R[data_inliers_R.clase == \"E\"].R.median(), color='orange', linestyle='solid', label='Mediana Galaxia Elíptica')\n",
    "plt.axvline(data_inliers_R[data_inliers_R.clase == \"E\"].R.mean(), color='orange', linestyle='dashed', label='Media Galaxia Elíptica')\n",
    "plt.title(\"Histograma del tamaño de las galaxias separado por clases y la media de cada clase\")\n",
    "plt.legend()\n",
    "plt.show()"
   ]
  },
  {
   "cell_type": "markdown",
   "metadata": {},
   "source": [
    "Algunos valores físicos de las galaxias no pueden ser determinados. Muchas veces la alternativa al usual *NaN* es llenar la celda del valor faltante con cero o con números de valor muy grande o muy chico discordantes a los valores usuales que toma la cantidad física. \n",
    "\n",
    "Se puede optar por ignorar dicho número o remplazarlo por cero, el valor medio o eliminarlo en el caso que el dataset sea de una gran dimensión."
   ]
  },
  {
   "cell_type": "markdown",
   "metadata": {},
   "source": [
    "El caso anteriormente se observa con la variable *color* donde dos de las galaxias no tienen su color determinado. \n",
    "\n",
    "- Dele solución \n",
    "- Ajuste la distribución de la variable **color** con el tamaño del bin=0.1 a una Normal usando *sns.distplot* \n",
    "- Explique que observa"
   ]
  },
  {
   "cell_type": "code",
   "execution_count": 29,
   "metadata": {},
   "outputs": [
    {
     "data": {
      "text/plain": [
       "count    92102.000000\n",
       "mean        -1.830732\n",
       "std         46.686363\n",
       "min        -13.484570\n",
       "25%         -2.510555\n",
       "50%         -1.994779\n",
       "75%         -1.606971\n",
       "max      10015.860000\n",
       "Name: color, dtype: float64"
      ]
     },
     "execution_count": 29,
     "metadata": {},
     "output_type": "execute_result"
    }
   ],
   "source": [
    "data.color.describe()"
   ]
  },
  {
   "cell_type": "code",
   "execution_count": 62,
   "metadata": {},
   "outputs": [],
   "source": [
    "data_color_filtered = data[data.color < data.color.max()]"
   ]
  },
  {
   "cell_type": "code",
   "execution_count": 63,
   "metadata": {},
   "outputs": [
    {
     "data": {
      "text/plain": [
       "<AxesSubplot:xlabel='color'>"
      ]
     },
     "execution_count": 63,
     "metadata": {},
     "output_type": "execute_result"
    },
    {
     "data": {
      "image/png": "[encoded data removed]",
      "text/plain": [
       "<Figure size 720x288 with 1 Axes>"
      ]
     },
     "metadata": {
      "needs_background": "light"
     },
     "output_type": "display_data"
    }
   ],
   "source": [
    "seaborn.boxplot(x=data_color_filtered.color)"
   ]
  },
  {
   "cell_type": "code",
   "execution_count": 30,
   "metadata": {},
   "outputs": [],
   "source": [
    "df_inliers_color, df_outliers_color = remove_outlier(data,'color',2.5)"
   ]
  },
  {
   "cell_type": "code",
   "execution_count": 32,
   "metadata": {},
   "outputs": [
    {
     "data": {
      "text/plain": [
       "<AxesSubplot:xlabel='color', ylabel='Count'>"
      ]
     },
     "execution_count": 32,
     "metadata": {},
     "output_type": "execute_result"
    },
    {
     "data": {
      "image/png": "[encoded data removed]",
      "text/plain": [
       "<Figure size 720x216 with 1 Axes>"
      ]
     },
     "metadata": {
      "needs_background": "light"
     },
     "output_type": "display_data"
    }
   ],
   "source": [
    "seaborn.histplot(x=df_inliers_color[df_inliers_color.clase == \"I\"].color)"
   ]
  },
  {
   "cell_type": "code",
   "execution_count": 33,
   "metadata": {},
   "outputs": [
    {
     "data": {
      "text/plain": [
       "<AxesSubplot:xlabel='color', ylabel='Count'>"
      ]
     },
     "execution_count": 33,
     "metadata": {},
     "output_type": "execute_result"
    },
    {
     "data": {
      "image/png": "[encoded data removed]",
      "text/plain": [
       "<Figure size 720x216 with 1 Axes>"
      ]
     },
     "metadata": {
      "needs_background": "light"
     },
     "output_type": "display_data"
    }
   ],
   "source": [
    "estadistico_color_irregular = calcular_estadistico(df_inliers_color[df_inliers_color.clase == \"I\"],'color')\n",
    "seaborn.histplot(data=estadistico_color_irregular)"
   ]
  },
  {
   "cell_type": "code",
   "execution_count": 51,
   "metadata": {},
   "outputs": [
    {
     "name": "stderr",
     "output_type": "stream",
     "text": [
      "/home/exequiel/.local/lib/python3.9/site-packages/seaborn/distributions.py:2557: FutureWarning: `distplot` is a deprecated function and will be removed in a future version. Please adapt your code to use either `displot` (a figure-level function with similar flexibility) or `histplot` (an axes-level function for histograms).\n",
      "  warnings.warn(msg, FutureWarning)\n"
     ]
    },
    {
     "data": {
      "text/plain": [
       "<AxesSubplot:xlabel='color', ylabel='Density'>"
      ]
     },
     "execution_count": 51,
     "metadata": {},
     "output_type": "execute_result"
    },
    {
     "data": {
      "image/png": "[encoded data removed]",
      "text/plain": [
       "<Figure size 720x216 with 1 Axes>"
      ]
     },
     "metadata": {
      "needs_background": "light"
     },
     "output_type": "display_data"
    }
   ],
   "source": [
    "seaborn.distplot(estadistico_color_irregular, bins=50)"
   ]
  },
  {
   "cell_type": "code",
   "execution_count": 52,
   "metadata": {},
   "outputs": [
    {
     "name": "stderr",
     "output_type": "stream",
     "text": [
      "/home/exequiel/.local/lib/python3.9/site-packages/seaborn/distributions.py:2557: FutureWarning: `distplot` is a deprecated function and will be removed in a future version. Please adapt your code to use either `displot` (a figure-level function with similar flexibility) or `histplot` (an axes-level function for histograms).\n",
      "  warnings.warn(msg, FutureWarning)\n"
     ]
    },
    {
     "data": {
      "text/plain": [
       "<AxesSubplot:xlabel='color', ylabel='Density'>"
      ]
     },
     "execution_count": 52,
     "metadata": {},
     "output_type": "execute_result"
    },
    {
     "data": {
      "image/png": "[encoded data removed]",
      "text/plain": [
       "<Figure size 720x216 with 1 Axes>"
      ]
     },
     "metadata": {
      "needs_background": "light"
     },
     "output_type": "display_data"
    }
   ],
   "source": [
    "seaborn.distplot(estadistico_color_irregular, bins=25)"
   ]
  },
  {
   "cell_type": "code",
   "execution_count": 53,
   "metadata": {},
   "outputs": [
    {
     "name": "stderr",
     "output_type": "stream",
     "text": [
      "/home/exequiel/.local/lib/python3.9/site-packages/seaborn/distributions.py:2557: FutureWarning: `distplot` is a deprecated function and will be removed in a future version. Please adapt your code to use either `displot` (a figure-level function with similar flexibility) or `histplot` (an axes-level function for histograms).\n",
      "  warnings.warn(msg, FutureWarning)\n"
     ]
    },
    {
     "data": {
      "text/plain": [
       "<AxesSubplot:xlabel='color', ylabel='Density'>"
      ]
     },
     "execution_count": 53,
     "metadata": {},
     "output_type": "execute_result"
    },
    {
     "data": {
      "image/png": "[encoded data removed]",
      "text/plain": [
       "<Figure size 720x216 with 1 Axes>"
      ]
     },
     "metadata": {
      "needs_background": "light"
     },
     "output_type": "display_data"
    }
   ],
   "source": [
    "seaborn.distplot(estadistico_color_irregular, bins=5)"
   ]
  },
  {
   "cell_type": "code",
   "execution_count": 54,
   "metadata": {},
   "outputs": [
    {
     "name": "stderr",
     "output_type": "stream",
     "text": [
      "/home/exequiel/.local/lib/python3.9/site-packages/seaborn/distributions.py:2557: FutureWarning: `distplot` is a deprecated function and will be removed in a future version. Please adapt your code to use either `displot` (a figure-level function with similar flexibility) or `histplot` (an axes-level function for histograms).\n",
      "  warnings.warn(msg, FutureWarning)\n"
     ]
    },
    {
     "data": {
      "text/plain": [
       "<AxesSubplot:xlabel='color', ylabel='Density'>"
      ]
     },
     "execution_count": 54,
     "metadata": {},
     "output_type": "execute_result"
    },
    {
     "data": {
      "image/png": "[encoded data removed]",
      "text/plain": [
       "<Figure size 720x216 with 1 Axes>"
      ]
     },
     "metadata": {
      "needs_background": "light"
     },
     "output_type": "display_data"
    }
   ],
   "source": [
    "seaborn.distplot(estadistico_color_irregular, bins=1)"
   ]
  },
  {
   "cell_type": "markdown",
   "metadata": {},
   "source": [
    "# Probabilidad"
   ]
  },
  {
   "cell_type": "markdown",
   "metadata": {},
   "source": [
    "- Calcule la Probabilidad marginal de cada tipo morfologico y grafiquela."
   ]
  },
  {
   "cell_type": "markdown",
   "metadata": {},
   "source": [
    "La distribución marginal es la distribución de probabilidad de un subconjunto de variables aleatorias de un conjunto de variables aleatorias. La distribución marginal proporciona la probabilidad de un subconjunto de valores del conjunto sin necesidad de conocer los valores de las otras variables. Esto contrasta con la distribución condicional, que proporciona probabilidades contingentes sobre el valor conocido de otras variables."
   ]
  },
  {
   "cell_type": "code",
   "execution_count": null,
   "metadata": {},
   "outputs": [],
   "source": []
  },
  {
   "cell_type": "markdown",
   "metadata": {},
   "source": [
    "- Calcule la probabilida conjunta las galaxias de clase = E con el color  mayor a -2.1"
   ]
  },
  {
   "cell_type": "code",
   "execution_count": null,
   "metadata": {},
   "outputs": [],
   "source": []
  },
  {
   "cell_type": "markdown",
   "metadata": {},
   "source": [
    "- Analice la correlación entre dos de las variables a través de chi-cuadrado. Muestre esta correlación a través de mapas de calor."
   ]
  },
  {
   "cell_type": "code",
   "execution_count": null,
   "metadata": {},
   "outputs": [],
   "source": []
  },
  {
   "cell_type": "markdown",
   "metadata": {},
   "source": [
    "# Conclusiones:"
   ]
  }
 ],
 "metadata": {
  "kernelspec": {
   "display_name": "Python 3",
   "language": "python",
   "name": "python3"
  },
  "language_info": {
   "codemirror_mode": {
    "name": "ipython",
    "version": 3
   },
   "file_extension": ".py",
   "mimetype": "text/x-python",
   "name": "python",
   "nbconvert_exporter": "python",
   "pygments_lexer": "ipython3",
   "version": "3.8.10"
  }
 },
 "nbformat": 4,
 "nbformat_minor": 4
}
