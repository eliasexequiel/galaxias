{
 "cells": [
  {
   "cell_type": "markdown",
   "metadata": {},
   "source": [
    "# Práctico Análisis y Visualización de Datos \n",
    "\n",
    "\n",
    "**Objetivo y alcance:**\n",
    "\n",
    "Se introducirá la miscelánea disponible para la inspección y visualización de la estadística descriptiva, estadística inferencial y probabilidad conjunta para cada una de las variables físicas de las galaxias, herramientas suficientes para determinar la distribución y estadisticos de las cantidades físicas que caracterizan al dataset y como éstas están relacionadas.\n",
    "\n",
    "**Método:**\n",
    "El objetivo será hecho a través de las librerías de python dedicadas a la examinación y visualización, principalmente con librerías como: pandas, numpy, seaborn, matplotlib y scipy. En la parte estadística se estudiarán los intercuartiles, valores extremos, *outliers* y las distribuciones que sigue cada una de las variables ajustadas a la distribución normal, las mismas tambien se visualizarán a través de histogramas y boxplots.  Usando métodos probabilisticos como el teorema de Bayes, chi-cuadrado y el intervalo de confianza de la mediana en los boxplots se verá la correlación entre estas variables.\n",
    "\n",
    "\n",
    "Estructura del informe:\n",
    "- Presentación de los datos;\n",
    "- Visualización de datos categóricos y numéricos;\n",
    "- Valores explícitos característicos de la distribución de algunas de las variables;\n",
    "- Vizualización de la distribución con los valores característicos de la misma;\n",
    "- Ajuste de la distribución a una Normal;\n",
    "- Examinación de distribuciones de probabilidades discretas y continuas;\n",
    "- Correlación entre las variables;\n",
    "- Visualización de correlación entre variables usando mapas de calor;\n",
    "- Conclusiones."
   ]
  },
  {
   "cell_type": "markdown",
   "metadata": {},
   "source": [
    "El *dataset* contiene las siguientes columnas:\n",
    "\n",
    "- **rac y dec** = Posición angular, rac de 0 a 360 y dec de -90 a 90\n",
    "- **Mag_u,Mag_g,Mag_r,Mag_i,Mag_z**= Estas variables representan una fracción de la luz total que observamos de las galaxias según su frecuencia (como por ejemplo, la frecuencia de radio, para más información [wiki](https://es.wikipedia.org/wiki/Espectro_visible))\n",
    "- **z** = Es una medida de la distancia a la que se encuentra la galaxia\n",
    "- **R** = Es una medida del tamaño de la galaxia\n",
    "- **color**= Como su nombre lo indica es el color más predominante en la galaxia\n",
    "- **elíptica, espiral, irregular**= Estas columnas identifican el tipo de morfología de las galaxias. Si el valor de una de estas tres columnas es 1, entonces la galaxia tiene esa morfología y las dos restantes tendran el valor 0. "
   ]
  },
  {
   "cell_type": "markdown",
   "metadata": {},
   "source": [
    "# Paquetes "
   ]
  },
  {
   "cell_type": "code",
   "execution_count": 4,
   "metadata": {},
   "outputs": [],
   "source": [
    "import pandas as pd\n",
    "import matplotlib.pyplot as plt\n",
    "import seaborn\n",
    "import scipy as sp\n",
    "import numpy as np\n",
    "import matplotlib.patches as mpatches\n"
   ]
  },
  {
   "cell_type": "markdown",
   "metadata": {},
   "source": [
    "# Carga de Datos"
   ]
  },
  {
   "cell_type": "code",
   "execution_count": 5,
   "metadata": {},
   "outputs": [],
   "source": [
    "data = pd.read_csv('galaxias.csv', sep=',')"
   ]
  },
  {
   "cell_type": "code",
   "execution_count": 6,
   "metadata": {
    "scrolled": false
   },
   "outputs": [
    {
     "data": {
      "text/plain": [
       "'Head'"
      ]
     },
     "metadata": {},
     "output_type": "display_data"
    },
    {
     "data": {
      "text/html": [
       "<div>\n",
       "<style scoped>\n",
       "    .dataframe tbody tr th:only-of-type {\n",
       "        vertical-align: middle;\n",
       "    }\n",
       "\n",
       "    .dataframe tbody tr th {\n",
       "        vertical-align: top;\n",
       "    }\n",
       "\n",
       "    .dataframe thead th {\n",
       "        text-align: right;\n",
       "    }\n",
       "</style>\n",
       "<table border=\"1\" class=\"dataframe\">\n",
       "  <thead>\n",
       "    <tr style=\"text-align: right;\">\n",
       "      <th></th>\n",
       "      <th>ra</th>\n",
       "      <th>dec</th>\n",
       "      <th>Mag_u</th>\n",
       "      <th>Mag_g</th>\n",
       "      <th>Mag_r</th>\n",
       "      <th>Mag_i</th>\n",
       "      <th>Mag_z</th>\n",
       "      <th>R</th>\n",
       "      <th>z</th>\n",
       "      <th>color</th>\n",
       "      <th>eliptica</th>\n",
       "      <th>espiral</th>\n",
       "      <th>irregular</th>\n",
       "    </tr>\n",
       "  </thead>\n",
       "  <tbody>\n",
       "    <tr>\n",
       "      <th>0</th>\n",
       "      <td>124.681690</td>\n",
       "      <td>51.782638</td>\n",
       "      <td>18.88496</td>\n",
       "      <td>17.75081</td>\n",
       "      <td>17.43881</td>\n",
       "      <td>17.23038</td>\n",
       "      <td>17.13276</td>\n",
       "      <td>6.112216</td>\n",
       "      <td>0.042512</td>\n",
       "      <td>-1.446144</td>\n",
       "      <td>0</td>\n",
       "      <td>0</td>\n",
       "      <td>1</td>\n",
       "    </tr>\n",
       "    <tr>\n",
       "      <th>1</th>\n",
       "      <td>128.676351</td>\n",
       "      <td>51.973910</td>\n",
       "      <td>20.20252</td>\n",
       "      <td>18.14648</td>\n",
       "      <td>17.51353</td>\n",
       "      <td>17.13207</td>\n",
       "      <td>16.83231</td>\n",
       "      <td>6.618816</td>\n",
       "      <td>0.049901</td>\n",
       "      <td>-2.688982</td>\n",
       "      <td>0</td>\n",
       "      <td>1</td>\n",
       "      <td>0</td>\n",
       "    </tr>\n",
       "    <tr>\n",
       "      <th>2</th>\n",
       "      <td>131.396389</td>\n",
       "      <td>53.550571</td>\n",
       "      <td>18.85028</td>\n",
       "      <td>17.48945</td>\n",
       "      <td>16.96463</td>\n",
       "      <td>16.68431</td>\n",
       "      <td>16.50479</td>\n",
       "      <td>10.350600</td>\n",
       "      <td>0.045041</td>\n",
       "      <td>-1.885653</td>\n",
       "      <td>0</td>\n",
       "      <td>1</td>\n",
       "      <td>0</td>\n",
       "    </tr>\n",
       "    <tr>\n",
       "      <th>3</th>\n",
       "      <td>129.384163</td>\n",
       "      <td>55.251341</td>\n",
       "      <td>19.29007</td>\n",
       "      <td>17.38153</td>\n",
       "      <td>16.52590</td>\n",
       "      <td>16.11502</td>\n",
       "      <td>15.78828</td>\n",
       "      <td>5.981402</td>\n",
       "      <td>0.045485</td>\n",
       "      <td>-2.764166</td>\n",
       "      <td>0</td>\n",
       "      <td>0</td>\n",
       "      <td>1</td>\n",
       "    </tr>\n",
       "  </tbody>\n",
       "</table>\n",
       "</div>"
      ],
      "text/plain": [
       "           ra        dec     Mag_u     Mag_g     Mag_r     Mag_i     Mag_z  \\\n",
       "0  124.681690  51.782638  18.88496  17.75081  17.43881  17.23038  17.13276   \n",
       "1  128.676351  51.973910  20.20252  18.14648  17.51353  17.13207  16.83231   \n",
       "2  131.396389  53.550571  18.85028  17.48945  16.96463  16.68431  16.50479   \n",
       "3  129.384163  55.251341  19.29007  17.38153  16.52590  16.11502  15.78828   \n",
       "\n",
       "           R         z     color  eliptica  espiral  irregular  \n",
       "0   6.112216  0.042512 -1.446144         0        0          1  \n",
       "1   6.618816  0.049901 -2.688982         0        1          0  \n",
       "2  10.350600  0.045041 -1.885653         0        1          0  \n",
       "3   5.981402  0.045485 -2.764166         0        0          1  "
      ]
     },
     "metadata": {},
     "output_type": "display_data"
    },
    {
     "data": {
      "text/plain": [
       "'Tamaño (filas, columnas)'"
      ]
     },
     "metadata": {},
     "output_type": "display_data"
    },
    {
     "data": {
      "text/plain": [
       "(92102, 13)"
      ]
     },
     "metadata": {},
     "output_type": "display_data"
    },
    {
     "data": {
      "text/plain": [
       "'Valores faltantes'"
      ]
     },
     "metadata": {},
     "output_type": "display_data"
    },
    {
     "data": {
      "text/html": [
       "<div>\n",
       "<style scoped>\n",
       "    .dataframe tbody tr th:only-of-type {\n",
       "        vertical-align: middle;\n",
       "    }\n",
       "\n",
       "    .dataframe tbody tr th {\n",
       "        vertical-align: top;\n",
       "    }\n",
       "\n",
       "    .dataframe thead th {\n",
       "        text-align: right;\n",
       "    }\n",
       "</style>\n",
       "<table border=\"1\" class=\"dataframe\">\n",
       "  <thead>\n",
       "    <tr style=\"text-align: right;\">\n",
       "      <th></th>\n",
       "      <th>0</th>\n",
       "    </tr>\n",
       "  </thead>\n",
       "  <tbody>\n",
       "    <tr>\n",
       "      <th>ra</th>\n",
       "      <td>True</td>\n",
       "    </tr>\n",
       "    <tr>\n",
       "      <th>dec</th>\n",
       "      <td>True</td>\n",
       "    </tr>\n",
       "    <tr>\n",
       "      <th>Mag_u</th>\n",
       "      <td>True</td>\n",
       "    </tr>\n",
       "    <tr>\n",
       "      <th>Mag_g</th>\n",
       "      <td>True</td>\n",
       "    </tr>\n",
       "    <tr>\n",
       "      <th>Mag_r</th>\n",
       "      <td>True</td>\n",
       "    </tr>\n",
       "    <tr>\n",
       "      <th>Mag_i</th>\n",
       "      <td>True</td>\n",
       "    </tr>\n",
       "    <tr>\n",
       "      <th>Mag_z</th>\n",
       "      <td>True</td>\n",
       "    </tr>\n",
       "    <tr>\n",
       "      <th>R</th>\n",
       "      <td>True</td>\n",
       "    </tr>\n",
       "    <tr>\n",
       "      <th>z</th>\n",
       "      <td>True</td>\n",
       "    </tr>\n",
       "    <tr>\n",
       "      <th>color</th>\n",
       "      <td>True</td>\n",
       "    </tr>\n",
       "    <tr>\n",
       "      <th>eliptica</th>\n",
       "      <td>True</td>\n",
       "    </tr>\n",
       "    <tr>\n",
       "      <th>espiral</th>\n",
       "      <td>True</td>\n",
       "    </tr>\n",
       "    <tr>\n",
       "      <th>irregular</th>\n",
       "      <td>True</td>\n",
       "    </tr>\n",
       "  </tbody>\n",
       "</table>\n",
       "</div>"
      ],
      "text/plain": [
       "              0\n",
       "ra         True\n",
       "dec        True\n",
       "Mag_u      True\n",
       "Mag_g      True\n",
       "Mag_r      True\n",
       "Mag_i      True\n",
       "Mag_z      True\n",
       "R          True\n",
       "z          True\n",
       "color      True\n",
       "eliptica   True\n",
       "espiral    True\n",
       "irregular  True"
      ]
     },
     "metadata": {},
     "output_type": "display_data"
    },
    {
     "data": {
      "text/plain": [
       "'Estadísticos del dataset'"
      ]
     },
     "metadata": {},
     "output_type": "display_data"
    },
    {
     "data": {
      "text/html": [
       "<div>\n",
       "<style scoped>\n",
       "    .dataframe tbody tr th:only-of-type {\n",
       "        vertical-align: middle;\n",
       "    }\n",
       "\n",
       "    .dataframe tbody tr th {\n",
       "        vertical-align: top;\n",
       "    }\n",
       "\n",
       "    .dataframe thead th {\n",
       "        text-align: right;\n",
       "    }\n",
       "</style>\n",
       "<table border=\"1\" class=\"dataframe\">\n",
       "  <thead>\n",
       "    <tr style=\"text-align: right;\">\n",
       "      <th></th>\n",
       "      <th>ra</th>\n",
       "      <th>dec</th>\n",
       "      <th>Mag_u</th>\n",
       "      <th>Mag_g</th>\n",
       "      <th>Mag_r</th>\n",
       "      <th>Mag_i</th>\n",
       "      <th>Mag_z</th>\n",
       "      <th>R</th>\n",
       "      <th>z</th>\n",
       "      <th>color</th>\n",
       "      <th>eliptica</th>\n",
       "      <th>espiral</th>\n",
       "      <th>irregular</th>\n",
       "    </tr>\n",
       "  </thead>\n",
       "  <tbody>\n",
       "    <tr>\n",
       "      <th>count</th>\n",
       "      <td>92102.000000</td>\n",
       "      <td>92102.000000</td>\n",
       "      <td>92102.000000</td>\n",
       "      <td>92102.000000</td>\n",
       "      <td>92102.000000</td>\n",
       "      <td>92102.000000</td>\n",
       "      <td>92102.000000</td>\n",
       "      <td>92102.000000</td>\n",
       "      <td>92102.000000</td>\n",
       "      <td>92102.000000</td>\n",
       "      <td>92102.000000</td>\n",
       "      <td>92102.000000</td>\n",
       "      <td>92102.000000</td>\n",
       "    </tr>\n",
       "    <tr>\n",
       "      <th>mean</th>\n",
       "      <td>181.086338</td>\n",
       "      <td>24.723737</td>\n",
       "      <td>18.143378</td>\n",
       "      <td>16.708392</td>\n",
       "      <td>16.312647</td>\n",
       "      <td>15.991780</td>\n",
       "      <td>15.433421</td>\n",
       "      <td>9.459875</td>\n",
       "      <td>0.036092</td>\n",
       "      <td>-1.830732</td>\n",
       "      <td>0.089651</td>\n",
       "      <td>0.326225</td>\n",
       "      <td>0.584124</td>\n",
       "    </tr>\n",
       "    <tr>\n",
       "      <th>std</th>\n",
       "      <td>61.177151</td>\n",
       "      <td>18.853785</td>\n",
       "      <td>46.690487</td>\n",
       "      <td>46.684358</td>\n",
       "      <td>1.092588</td>\n",
       "      <td>1.151259</td>\n",
       "      <td>57.168725</td>\n",
       "      <td>5.248708</td>\n",
       "      <td>0.008435</td>\n",
       "      <td>46.686363</td>\n",
       "      <td>0.285682</td>\n",
       "      <td>0.468833</td>\n",
       "      <td>0.492875</td>\n",
       "    </tr>\n",
       "    <tr>\n",
       "      <th>min</th>\n",
       "      <td>0.008745</td>\n",
       "      <td>-11.202394</td>\n",
       "      <td>-9999.000000</td>\n",
       "      <td>-9999.000000</td>\n",
       "      <td>11.524090</td>\n",
       "      <td>11.220580</td>\n",
       "      <td>-9999.000000</td>\n",
       "      <td>0.842248</td>\n",
       "      <td>0.020001</td>\n",
       "      <td>-13.484570</td>\n",
       "      <td>0.000000</td>\n",
       "      <td>0.000000</td>\n",
       "      <td>0.000000</td>\n",
       "    </tr>\n",
       "    <tr>\n",
       "      <th>25%</th>\n",
       "      <td>150.287271</td>\n",
       "      <td>9.115292</td>\n",
       "      <td>17.725203</td>\n",
       "      <td>16.251015</td>\n",
       "      <td>15.562648</td>\n",
       "      <td>15.197173</td>\n",
       "      <td>14.910782</td>\n",
       "      <td>6.117609</td>\n",
       "      <td>0.029082</td>\n",
       "      <td>-2.510555</td>\n",
       "      <td>0.000000</td>\n",
       "      <td>0.000000</td>\n",
       "      <td>0.000000</td>\n",
       "    </tr>\n",
       "    <tr>\n",
       "      <th>50%</th>\n",
       "      <td>183.219954</td>\n",
       "      <td>23.111344</td>\n",
       "      <td>18.442490</td>\n",
       "      <td>17.082385</td>\n",
       "      <td>16.491180</td>\n",
       "      <td>16.171225</td>\n",
       "      <td>15.934050</td>\n",
       "      <td>8.361149</td>\n",
       "      <td>0.036321</td>\n",
       "      <td>-1.994779</td>\n",
       "      <td>0.000000</td>\n",
       "      <td>0.000000</td>\n",
       "      <td>1.000000</td>\n",
       "    </tr>\n",
       "    <tr>\n",
       "      <th>75%</th>\n",
       "      <td>222.722975</td>\n",
       "      <td>38.982500</td>\n",
       "      <td>19.028265</td>\n",
       "      <td>17.720817</td>\n",
       "      <td>17.209298</td>\n",
       "      <td>16.928400</td>\n",
       "      <td>16.736465</td>\n",
       "      <td>11.345535</td>\n",
       "      <td>0.043620</td>\n",
       "      <td>-1.606971</td>\n",
       "      <td>0.000000</td>\n",
       "      <td>1.000000</td>\n",
       "      <td>1.000000</td>\n",
       "    </tr>\n",
       "    <tr>\n",
       "      <th>max</th>\n",
       "      <td>359.965567</td>\n",
       "      <td>70.133213</td>\n",
       "      <td>28.787190</td>\n",
       "      <td>25.526970</td>\n",
       "      <td>27.911470</td>\n",
       "      <td>25.657780</td>\n",
       "      <td>26.923540</td>\n",
       "      <td>231.121800</td>\n",
       "      <td>0.050000</td>\n",
       "      <td>10015.860000</td>\n",
       "      <td>1.000000</td>\n",
       "      <td>1.000000</td>\n",
       "      <td>1.000000</td>\n",
       "    </tr>\n",
       "  </tbody>\n",
       "</table>\n",
       "</div>"
      ],
      "text/plain": [
       "                 ra           dec         Mag_u         Mag_g         Mag_r  \\\n",
       "count  92102.000000  92102.000000  92102.000000  92102.000000  92102.000000   \n",
       "mean     181.086338     24.723737     18.143378     16.708392     16.312647   \n",
       "std       61.177151     18.853785     46.690487     46.684358      1.092588   \n",
       "min        0.008745    -11.202394  -9999.000000  -9999.000000     11.524090   \n",
       "25%      150.287271      9.115292     17.725203     16.251015     15.562648   \n",
       "50%      183.219954     23.111344     18.442490     17.082385     16.491180   \n",
       "75%      222.722975     38.982500     19.028265     17.720817     17.209298   \n",
       "max      359.965567     70.133213     28.787190     25.526970     27.911470   \n",
       "\n",
       "              Mag_i         Mag_z             R             z         color  \\\n",
       "count  92102.000000  92102.000000  92102.000000  92102.000000  92102.000000   \n",
       "mean      15.991780     15.433421      9.459875      0.036092     -1.830732   \n",
       "std        1.151259     57.168725      5.248708      0.008435     46.686363   \n",
       "min       11.220580  -9999.000000      0.842248      0.020001    -13.484570   \n",
       "25%       15.197173     14.910782      6.117609      0.029082     -2.510555   \n",
       "50%       16.171225     15.934050      8.361149      0.036321     -1.994779   \n",
       "75%       16.928400     16.736465     11.345535      0.043620     -1.606971   \n",
       "max       25.657780     26.923540    231.121800      0.050000  10015.860000   \n",
       "\n",
       "           eliptica       espiral     irregular  \n",
       "count  92102.000000  92102.000000  92102.000000  \n",
       "mean       0.089651      0.326225      0.584124  \n",
       "std        0.285682      0.468833      0.492875  \n",
       "min        0.000000      0.000000      0.000000  \n",
       "25%        0.000000      0.000000      0.000000  \n",
       "50%        0.000000      0.000000      1.000000  \n",
       "75%        0.000000      1.000000      1.000000  \n",
       "max        1.000000      1.000000      1.000000  "
      ]
     },
     "metadata": {},
     "output_type": "display_data"
    }
   ],
   "source": [
    "display('Head',data.head(4))\n",
    "display('Tamaño (filas, columnas)',data.shape)\n",
    "display('Valores faltantes',data.notnull().all().to_frame())\n",
    "display('Estadísticos del dataset',data.describe())"
   ]
  },
  {
   "cell_type": "markdown",
   "metadata": {},
   "source": [
    "Analizo las cantidades de cada tipo de galaxia"
   ]
  },
  {
   "cell_type": "code",
   "execution_count": 7,
   "metadata": {
    "scrolled": false
   },
   "outputs": [
    {
     "name": "stdout",
     "output_type": "stream",
     "text": [
      "Cantidad de elípticas 8257\n",
      "Cantidad de espirales 30046\n",
      "Cantidad de irregulares 53799\n",
      "\n",
      "Probabilidad elípticas 8.9651 %\n",
      "Probabilidad espirales 32.6225 %\n",
      "Probabilidad irregulares 58.4124 %\n",
      "\n",
      "TOTAL DE GALAXIAS: 92102\n"
     ]
    }
   ],
   "source": [
    "count_elipticas = data.eliptica.value_counts()[1]\n",
    "count_espirales = data.espiral.value_counts()[1]\n",
    "count_irregulares = data.irregular.value_counts()[1]\n",
    "count_total = count_elipticas + count_espirales + count_irregulares\n",
    "prob_elipticas = ((count_elipticas/count_total) * 100).round(4)\n",
    "prob_espirales = ((count_espirales/count_total) * 100).round(4)\n",
    "prob_irregulares = ((count_irregulares/count_total) * 100).round(4)\n",
    "\n",
    "print(\"Cantidad de elípticas \" + str(count_elipticas))\n",
    "print(\"Cantidad de espirales \" + str(count_espirales))\n",
    "print(\"Cantidad de irregulares \" + str(count_irregulares) + \"\\n\")\n",
    "print(\"Probabilidad elípticas \" + str(prob_elipticas) + \" %\")\n",
    "print(\"Probabilidad espirales \" + str(prob_espirales) + \" %\")\n",
    "print(\"Probabilidad irregulares \" + str(prob_irregulares) + \" %\")\n",
    "print(\"\\nTOTAL DE GALAXIAS: \" + str(count_total))"
   ]
  },
  {
   "cell_type": "code",
   "execution_count": 8,
   "metadata": {},
   "outputs": [
    {
     "data": {
      "text/html": [
       "<div>\n",
       "<style scoped>\n",
       "    .dataframe tbody tr th:only-of-type {\n",
       "        vertical-align: middle;\n",
       "    }\n",
       "\n",
       "    .dataframe tbody tr th {\n",
       "        vertical-align: top;\n",
       "    }\n",
       "\n",
       "    .dataframe thead th {\n",
       "        text-align: right;\n",
       "    }\n",
       "</style>\n",
       "<table border=\"1\" class=\"dataframe\">\n",
       "  <thead>\n",
       "    <tr style=\"text-align: right;\">\n",
       "      <th></th>\n",
       "      <th>ra</th>\n",
       "      <th>dec</th>\n",
       "      <th>Mag_u</th>\n",
       "      <th>Mag_g</th>\n",
       "      <th>Mag_r</th>\n",
       "      <th>Mag_i</th>\n",
       "      <th>Mag_z</th>\n",
       "      <th>R</th>\n",
       "      <th>z</th>\n",
       "      <th>color</th>\n",
       "      <th>eliptica</th>\n",
       "      <th>espiral</th>\n",
       "      <th>irregular</th>\n",
       "    </tr>\n",
       "  </thead>\n",
       "  <tbody>\n",
       "    <tr>\n",
       "      <th>count</th>\n",
       "      <td>30046.000000</td>\n",
       "      <td>30046.000000</td>\n",
       "      <td>30046.000000</td>\n",
       "      <td>30046.000000</td>\n",
       "      <td>30046.000000</td>\n",
       "      <td>30046.000000</td>\n",
       "      <td>30046.000000</td>\n",
       "      <td>30046.000000</td>\n",
       "      <td>30046.000000</td>\n",
       "      <td>30046.000000</td>\n",
       "      <td>30046.0</td>\n",
       "      <td>30046.0</td>\n",
       "      <td>30046.0</td>\n",
       "    </tr>\n",
       "    <tr>\n",
       "      <th>mean</th>\n",
       "      <td>180.324280</td>\n",
       "      <td>24.528041</td>\n",
       "      <td>18.064487</td>\n",
       "      <td>16.651297</td>\n",
       "      <td>16.038310</td>\n",
       "      <td>15.703896</td>\n",
       "      <td>15.126881</td>\n",
       "      <td>11.910286</td>\n",
       "      <td>0.036080</td>\n",
       "      <td>-2.026176</td>\n",
       "      <td>0.0</td>\n",
       "      <td>1.0</td>\n",
       "      <td>0.0</td>\n",
       "    </tr>\n",
       "    <tr>\n",
       "      <th>std</th>\n",
       "      <td>61.452183</td>\n",
       "      <td>18.754681</td>\n",
       "      <td>1.018297</td>\n",
       "      <td>0.998711</td>\n",
       "      <td>1.055697</td>\n",
       "      <td>1.094737</td>\n",
       "      <td>57.785568</td>\n",
       "      <td>5.310629</td>\n",
       "      <td>0.008375</td>\n",
       "      <td>0.518564</td>\n",
       "      <td>0.0</td>\n",
       "      <td>0.0</td>\n",
       "      <td>0.0</td>\n",
       "    </tr>\n",
       "    <tr>\n",
       "      <th>min</th>\n",
       "      <td>0.019187</td>\n",
       "      <td>-11.202394</td>\n",
       "      <td>14.582810</td>\n",
       "      <td>13.047900</td>\n",
       "      <td>12.186040</td>\n",
       "      <td>11.774540</td>\n",
       "      <td>-9999.000000</td>\n",
       "      <td>1.290469</td>\n",
       "      <td>0.020001</td>\n",
       "      <td>-13.256300</td>\n",
       "      <td>0.0</td>\n",
       "      <td>1.0</td>\n",
       "      <td>0.0</td>\n",
       "    </tr>\n",
       "    <tr>\n",
       "      <th>25%</th>\n",
       "      <td>149.360449</td>\n",
       "      <td>9.056920</td>\n",
       "      <td>17.357003</td>\n",
       "      <td>15.941937</td>\n",
       "      <td>15.290880</td>\n",
       "      <td>14.930968</td>\n",
       "      <td>14.648440</td>\n",
       "      <td>8.425920</td>\n",
       "      <td>0.029204</td>\n",
       "      <td>-2.341086</td>\n",
       "      <td>0.0</td>\n",
       "      <td>1.0</td>\n",
       "      <td>0.0</td>\n",
       "    </tr>\n",
       "    <tr>\n",
       "      <th>50%</th>\n",
       "      <td>182.206998</td>\n",
       "      <td>22.838337</td>\n",
       "      <td>18.088325</td>\n",
       "      <td>16.718690</td>\n",
       "      <td>16.126360</td>\n",
       "      <td>15.792885</td>\n",
       "      <td>15.546885</td>\n",
       "      <td>10.792645</td>\n",
       "      <td>0.036243</td>\n",
       "      <td>-1.953508</td>\n",
       "      <td>0.0</td>\n",
       "      <td>1.0</td>\n",
       "      <td>0.0</td>\n",
       "    </tr>\n",
       "    <tr>\n",
       "      <th>75%</th>\n",
       "      <td>221.864343</td>\n",
       "      <td>38.768199</td>\n",
       "      <td>18.788367</td>\n",
       "      <td>17.430367</td>\n",
       "      <td>16.871065</td>\n",
       "      <td>16.563192</td>\n",
       "      <td>16.346240</td>\n",
       "      <td>14.074680</td>\n",
       "      <td>0.043443</td>\n",
       "      <td>-1.674970</td>\n",
       "      <td>0.0</td>\n",
       "      <td>1.0</td>\n",
       "      <td>0.0</td>\n",
       "    </tr>\n",
       "    <tr>\n",
       "      <th>max</th>\n",
       "      <td>359.921854</td>\n",
       "      <td>70.133213</td>\n",
       "      <td>28.269700</td>\n",
       "      <td>25.298320</td>\n",
       "      <td>20.621880</td>\n",
       "      <td>24.384180</td>\n",
       "      <td>25.259620</td>\n",
       "      <td>128.846800</td>\n",
       "      <td>0.049999</td>\n",
       "      <td>-0.395924</td>\n",
       "      <td>0.0</td>\n",
       "      <td>1.0</td>\n",
       "      <td>0.0</td>\n",
       "    </tr>\n",
       "  </tbody>\n",
       "</table>\n",
       "</div>"
      ],
      "text/plain": [
       "                 ra           dec         Mag_u         Mag_g         Mag_r  \\\n",
       "count  30046.000000  30046.000000  30046.000000  30046.000000  30046.000000   \n",
       "mean     180.324280     24.528041     18.064487     16.651297     16.038310   \n",
       "std       61.452183     18.754681      1.018297      0.998711      1.055697   \n",
       "min        0.019187    -11.202394     14.582810     13.047900     12.186040   \n",
       "25%      149.360449      9.056920     17.357003     15.941937     15.290880   \n",
       "50%      182.206998     22.838337     18.088325     16.718690     16.126360   \n",
       "75%      221.864343     38.768199     18.788367     17.430367     16.871065   \n",
       "max      359.921854     70.133213     28.269700     25.298320     20.621880   \n",
       "\n",
       "              Mag_i         Mag_z             R             z         color  \\\n",
       "count  30046.000000  30046.000000  30046.000000  30046.000000  30046.000000   \n",
       "mean      15.703896     15.126881     11.910286      0.036080     -2.026176   \n",
       "std        1.094737     57.785568      5.310629      0.008375      0.518564   \n",
       "min       11.774540  -9999.000000      1.290469      0.020001    -13.256300   \n",
       "25%       14.930968     14.648440      8.425920      0.029204     -2.341086   \n",
       "50%       15.792885     15.546885     10.792645      0.036243     -1.953508   \n",
       "75%       16.563192     16.346240     14.074680      0.043443     -1.674970   \n",
       "max       24.384180     25.259620    128.846800      0.049999     -0.395924   \n",
       "\n",
       "       eliptica  espiral  irregular  \n",
       "count   30046.0  30046.0    30046.0  \n",
       "mean        0.0      1.0        0.0  \n",
       "std         0.0      0.0        0.0  \n",
       "min         0.0      1.0        0.0  \n",
       "25%         0.0      1.0        0.0  \n",
       "50%         0.0      1.0        0.0  \n",
       "75%         0.0      1.0        0.0  \n",
       "max         0.0      1.0        0.0  "
      ]
     },
     "execution_count": 8,
     "metadata": {},
     "output_type": "execute_result"
    }
   ],
   "source": [
    "data_espiral = data.copy()\n",
    "data_espiral = data_espiral.query(\"espiral == 1\")\n",
    "data_espiral.describe()"
   ]
  },
  {
   "cell_type": "code",
   "execution_count": 9,
   "metadata": {},
   "outputs": [
    {
     "data": {
      "text/html": [
       "<div>\n",
       "<style scoped>\n",
       "    .dataframe tbody tr th:only-of-type {\n",
       "        vertical-align: middle;\n",
       "    }\n",
       "\n",
       "    .dataframe tbody tr th {\n",
       "        vertical-align: top;\n",
       "    }\n",
       "\n",
       "    .dataframe thead th {\n",
       "        text-align: right;\n",
       "    }\n",
       "</style>\n",
       "<table border=\"1\" class=\"dataframe\">\n",
       "  <thead>\n",
       "    <tr style=\"text-align: right;\">\n",
       "      <th></th>\n",
       "      <th>ra</th>\n",
       "      <th>dec</th>\n",
       "      <th>Mag_u</th>\n",
       "      <th>Mag_g</th>\n",
       "      <th>Mag_r</th>\n",
       "      <th>Mag_i</th>\n",
       "      <th>Mag_z</th>\n",
       "      <th>R</th>\n",
       "      <th>z</th>\n",
       "      <th>color</th>\n",
       "      <th>eliptica</th>\n",
       "      <th>espiral</th>\n",
       "      <th>irregular</th>\n",
       "    </tr>\n",
       "  </thead>\n",
       "  <tbody>\n",
       "    <tr>\n",
       "      <th>count</th>\n",
       "      <td>8257.000000</td>\n",
       "      <td>8257.000000</td>\n",
       "      <td>8257.000000</td>\n",
       "      <td>8257.000000</td>\n",
       "      <td>8257.000000</td>\n",
       "      <td>8257.000000</td>\n",
       "      <td>8257.000000</td>\n",
       "      <td>8257.000000</td>\n",
       "      <td>8257.000000</td>\n",
       "      <td>8257.000000</td>\n",
       "      <td>8257.0</td>\n",
       "      <td>8257.0</td>\n",
       "      <td>8257.0</td>\n",
       "    </tr>\n",
       "    <tr>\n",
       "      <th>mean</th>\n",
       "      <td>182.056163</td>\n",
       "      <td>24.479357</td>\n",
       "      <td>17.756558</td>\n",
       "      <td>15.940906</td>\n",
       "      <td>15.120556</td>\n",
       "      <td>14.722265</td>\n",
       "      <td>14.417579</td>\n",
       "      <td>11.434267</td>\n",
       "      <td>0.035441</td>\n",
       "      <td>-2.636002</td>\n",
       "      <td>1.0</td>\n",
       "      <td>0.0</td>\n",
       "      <td>0.0</td>\n",
       "    </tr>\n",
       "    <tr>\n",
       "      <th>std</th>\n",
       "      <td>61.817796</td>\n",
       "      <td>18.582081</td>\n",
       "      <td>0.934428</td>\n",
       "      <td>0.946335</td>\n",
       "      <td>0.969400</td>\n",
       "      <td>0.983670</td>\n",
       "      <td>0.992839</td>\n",
       "      <td>6.569001</td>\n",
       "      <td>0.008377</td>\n",
       "      <td>0.345875</td>\n",
       "      <td>0.0</td>\n",
       "      <td>0.0</td>\n",
       "      <td>0.0</td>\n",
       "    </tr>\n",
       "    <tr>\n",
       "      <th>min</th>\n",
       "      <td>0.166083</td>\n",
       "      <td>-11.157700</td>\n",
       "      <td>14.666610</td>\n",
       "      <td>12.591010</td>\n",
       "      <td>11.718730</td>\n",
       "      <td>11.287830</td>\n",
       "      <td>10.978390</td>\n",
       "      <td>1.423474</td>\n",
       "      <td>0.020001</td>\n",
       "      <td>-12.064770</td>\n",
       "      <td>1.0</td>\n",
       "      <td>0.0</td>\n",
       "      <td>0.0</td>\n",
       "    </tr>\n",
       "    <tr>\n",
       "      <th>25%</th>\n",
       "      <td>151.083448</td>\n",
       "      <td>8.875705</td>\n",
       "      <td>17.146740</td>\n",
       "      <td>15.319180</td>\n",
       "      <td>14.486650</td>\n",
       "      <td>14.078720</td>\n",
       "      <td>13.758610</td>\n",
       "      <td>7.127408</td>\n",
       "      <td>0.028338</td>\n",
       "      <td>-2.773696</td>\n",
       "      <td>1.0</td>\n",
       "      <td>0.0</td>\n",
       "      <td>0.0</td>\n",
       "    </tr>\n",
       "    <tr>\n",
       "      <th>50%</th>\n",
       "      <td>185.290733</td>\n",
       "      <td>23.277116</td>\n",
       "      <td>17.750520</td>\n",
       "      <td>15.949180</td>\n",
       "      <td>15.122840</td>\n",
       "      <td>14.722620</td>\n",
       "      <td>14.415800</td>\n",
       "      <td>9.830194</td>\n",
       "      <td>0.035387</td>\n",
       "      <td>-2.672904</td>\n",
       "      <td>1.0</td>\n",
       "      <td>0.0</td>\n",
       "      <td>0.0</td>\n",
       "    </tr>\n",
       "    <tr>\n",
       "      <th>75%</th>\n",
       "      <td>224.246090</td>\n",
       "      <td>38.588746</td>\n",
       "      <td>18.327470</td>\n",
       "      <td>16.535100</td>\n",
       "      <td>15.720680</td>\n",
       "      <td>15.331540</td>\n",
       "      <td>15.025460</td>\n",
       "      <td>13.911130</td>\n",
       "      <td>0.042901</td>\n",
       "      <td>-2.541204</td>\n",
       "      <td>1.0</td>\n",
       "      <td>0.0</td>\n",
       "      <td>0.0</td>\n",
       "    </tr>\n",
       "    <tr>\n",
       "      <th>max</th>\n",
       "      <td>359.873402</td>\n",
       "      <td>69.865567</td>\n",
       "      <td>27.404240</td>\n",
       "      <td>19.384310</td>\n",
       "      <td>18.203080</td>\n",
       "      <td>17.715010</td>\n",
       "      <td>20.173780</td>\n",
       "      <td>87.420200</td>\n",
       "      <td>0.049999</td>\n",
       "      <td>-0.951208</td>\n",
       "      <td>1.0</td>\n",
       "      <td>0.0</td>\n",
       "      <td>0.0</td>\n",
       "    </tr>\n",
       "  </tbody>\n",
       "</table>\n",
       "</div>"
      ],
      "text/plain": [
       "                ra          dec        Mag_u        Mag_g        Mag_r  \\\n",
       "count  8257.000000  8257.000000  8257.000000  8257.000000  8257.000000   \n",
       "mean    182.056163    24.479357    17.756558    15.940906    15.120556   \n",
       "std      61.817796    18.582081     0.934428     0.946335     0.969400   \n",
       "min       0.166083   -11.157700    14.666610    12.591010    11.718730   \n",
       "25%     151.083448     8.875705    17.146740    15.319180    14.486650   \n",
       "50%     185.290733    23.277116    17.750520    15.949180    15.122840   \n",
       "75%     224.246090    38.588746    18.327470    16.535100    15.720680   \n",
       "max     359.873402    69.865567    27.404240    19.384310    18.203080   \n",
       "\n",
       "             Mag_i        Mag_z            R            z        color  \\\n",
       "count  8257.000000  8257.000000  8257.000000  8257.000000  8257.000000   \n",
       "mean     14.722265    14.417579    11.434267     0.035441    -2.636002   \n",
       "std       0.983670     0.992839     6.569001     0.008377     0.345875   \n",
       "min      11.287830    10.978390     1.423474     0.020001   -12.064770   \n",
       "25%      14.078720    13.758610     7.127408     0.028338    -2.773696   \n",
       "50%      14.722620    14.415800     9.830194     0.035387    -2.672904   \n",
       "75%      15.331540    15.025460    13.911130     0.042901    -2.541204   \n",
       "max      17.715010    20.173780    87.420200     0.049999    -0.951208   \n",
       "\n",
       "       eliptica  espiral  irregular  \n",
       "count    8257.0   8257.0     8257.0  \n",
       "mean        1.0      0.0        0.0  \n",
       "std         0.0      0.0        0.0  \n",
       "min         1.0      0.0        0.0  \n",
       "25%         1.0      0.0        0.0  \n",
       "50%         1.0      0.0        0.0  \n",
       "75%         1.0      0.0        0.0  \n",
       "max         1.0      0.0        0.0  "
      ]
     },
     "execution_count": 9,
     "metadata": {},
     "output_type": "execute_result"
    }
   ],
   "source": [
    "data_eliptica = data.copy()\n",
    "data_eliptica = data_eliptica.query(\"eliptica == 1\")\n",
    "data_eliptica.describe()"
   ]
  },
  {
   "cell_type": "code",
   "execution_count": 10,
   "metadata": {},
   "outputs": [
    {
     "data": {
      "text/html": [
       "<div>\n",
       "<style scoped>\n",
       "    .dataframe tbody tr th:only-of-type {\n",
       "        vertical-align: middle;\n",
       "    }\n",
       "\n",
       "    .dataframe tbody tr th {\n",
       "        vertical-align: top;\n",
       "    }\n",
       "\n",
       "    .dataframe thead th {\n",
       "        text-align: right;\n",
       "    }\n",
       "</style>\n",
       "<table border=\"1\" class=\"dataframe\">\n",
       "  <thead>\n",
       "    <tr style=\"text-align: right;\">\n",
       "      <th></th>\n",
       "      <th>ra</th>\n",
       "      <th>dec</th>\n",
       "      <th>Mag_u</th>\n",
       "      <th>Mag_g</th>\n",
       "      <th>Mag_r</th>\n",
       "      <th>Mag_i</th>\n",
       "      <th>Mag_z</th>\n",
       "      <th>R</th>\n",
       "      <th>z</th>\n",
       "      <th>color</th>\n",
       "      <th>eliptica</th>\n",
       "      <th>espiral</th>\n",
       "      <th>irregular</th>\n",
       "    </tr>\n",
       "  </thead>\n",
       "  <tbody>\n",
       "    <tr>\n",
       "      <th>count</th>\n",
       "      <td>53799.000000</td>\n",
       "      <td>53799.000000</td>\n",
       "      <td>53799.000000</td>\n",
       "      <td>53799.000000</td>\n",
       "      <td>53799.000000</td>\n",
       "      <td>53799.000000</td>\n",
       "      <td>53799.000000</td>\n",
       "      <td>53799.000000</td>\n",
       "      <td>53799.000000</td>\n",
       "      <td>53799.000000</td>\n",
       "      <td>53799.0</td>\n",
       "      <td>53799.0</td>\n",
       "      <td>53799.0</td>\n",
       "    </tr>\n",
       "    <tr>\n",
       "      <th>mean</th>\n",
       "      <td>181.363089</td>\n",
       "      <td>24.870538</td>\n",
       "      <td>18.246807</td>\n",
       "      <td>16.858071</td>\n",
       "      <td>16.648820</td>\n",
       "      <td>16.347403</td>\n",
       "      <td>15.760530</td>\n",
       "      <td>7.788328</td>\n",
       "      <td>0.036198</td>\n",
       "      <td>-1.597987</td>\n",
       "      <td>0.0</td>\n",
       "      <td>0.0</td>\n",
       "      <td>1.0</td>\n",
       "    </tr>\n",
       "    <tr>\n",
       "      <th>std</th>\n",
       "      <td>60.920518</td>\n",
       "      <td>18.949111</td>\n",
       "      <td>61.084899</td>\n",
       "      <td>61.076397</td>\n",
       "      <td>0.950724</td>\n",
       "      <td>1.015448</td>\n",
       "      <td>61.072676</td>\n",
       "      <td>4.247871</td>\n",
       "      <td>0.008473</td>\n",
       "      <td>61.082830</td>\n",
       "      <td>0.0</td>\n",
       "      <td>0.0</td>\n",
       "      <td>0.0</td>\n",
       "    </tr>\n",
       "    <tr>\n",
       "      <th>min</th>\n",
       "      <td>0.008745</td>\n",
       "      <td>-11.178372</td>\n",
       "      <td>-9999.000000</td>\n",
       "      <td>-9999.000000</td>\n",
       "      <td>11.524090</td>\n",
       "      <td>11.220580</td>\n",
       "      <td>-9999.000000</td>\n",
       "      <td>0.842248</td>\n",
       "      <td>0.020002</td>\n",
       "      <td>-13.484570</td>\n",
       "      <td>0.0</td>\n",
       "      <td>0.0</td>\n",
       "      <td>1.0</td>\n",
       "    </tr>\n",
       "    <tr>\n",
       "      <th>25%</th>\n",
       "      <td>150.548485</td>\n",
       "      <td>9.201519</td>\n",
       "      <td>18.094815</td>\n",
       "      <td>16.721125</td>\n",
       "      <td>16.091220</td>\n",
       "      <td>15.752720</td>\n",
       "      <td>15.488210</td>\n",
       "      <td>5.263126</td>\n",
       "      <td>0.029136</td>\n",
       "      <td>-2.456771</td>\n",
       "      <td>0.0</td>\n",
       "      <td>0.0</td>\n",
       "      <td>1.0</td>\n",
       "    </tr>\n",
       "    <tr>\n",
       "      <th>50%</th>\n",
       "      <td>183.516062</td>\n",
       "      <td>23.245262</td>\n",
       "      <td>18.691830</td>\n",
       "      <td>17.394830</td>\n",
       "      <td>16.858910</td>\n",
       "      <td>16.560760</td>\n",
       "      <td>16.352490</td>\n",
       "      <td>7.003353</td>\n",
       "      <td>0.036516</td>\n",
       "      <td>-1.872850</td>\n",
       "      <td>0.0</td>\n",
       "      <td>0.0</td>\n",
       "      <td>1.0</td>\n",
       "    </tr>\n",
       "    <tr>\n",
       "      <th>75%</th>\n",
       "      <td>222.932832</td>\n",
       "      <td>39.172057</td>\n",
       "      <td>19.163590</td>\n",
       "      <td>17.873645</td>\n",
       "      <td>17.386685</td>\n",
       "      <td>17.119615</td>\n",
       "      <td>16.948155</td>\n",
       "      <td>9.299470</td>\n",
       "      <td>0.043803</td>\n",
       "      <td>-1.523042</td>\n",
       "      <td>0.0</td>\n",
       "      <td>0.0</td>\n",
       "      <td>1.0</td>\n",
       "    </tr>\n",
       "    <tr>\n",
       "      <th>max</th>\n",
       "      <td>359.965567</td>\n",
       "      <td>70.002253</td>\n",
       "      <td>28.787190</td>\n",
       "      <td>25.526970</td>\n",
       "      <td>27.911470</td>\n",
       "      <td>25.657780</td>\n",
       "      <td>26.923540</td>\n",
       "      <td>231.121800</td>\n",
       "      <td>0.050000</td>\n",
       "      <td>10015.860000</td>\n",
       "      <td>0.0</td>\n",
       "      <td>0.0</td>\n",
       "      <td>1.0</td>\n",
       "    </tr>\n",
       "  </tbody>\n",
       "</table>\n",
       "</div>"
      ],
      "text/plain": [
       "                 ra           dec         Mag_u         Mag_g         Mag_r  \\\n",
       "count  53799.000000  53799.000000  53799.000000  53799.000000  53799.000000   \n",
       "mean     181.363089     24.870538     18.246807     16.858071     16.648820   \n",
       "std       60.920518     18.949111     61.084899     61.076397      0.950724   \n",
       "min        0.008745    -11.178372  -9999.000000  -9999.000000     11.524090   \n",
       "25%      150.548485      9.201519     18.094815     16.721125     16.091220   \n",
       "50%      183.516062     23.245262     18.691830     17.394830     16.858910   \n",
       "75%      222.932832     39.172057     19.163590     17.873645     17.386685   \n",
       "max      359.965567     70.002253     28.787190     25.526970     27.911470   \n",
       "\n",
       "              Mag_i         Mag_z             R             z         color  \\\n",
       "count  53799.000000  53799.000000  53799.000000  53799.000000  53799.000000   \n",
       "mean      16.347403     15.760530      7.788328      0.036198     -1.597987   \n",
       "std        1.015448     61.072676      4.247871      0.008473     61.082830   \n",
       "min       11.220580  -9999.000000      0.842248      0.020002    -13.484570   \n",
       "25%       15.752720     15.488210      5.263126      0.029136     -2.456771   \n",
       "50%       16.560760     16.352490      7.003353      0.036516     -1.872850   \n",
       "75%       17.119615     16.948155      9.299470      0.043803     -1.523042   \n",
       "max       25.657780     26.923540    231.121800      0.050000  10015.860000   \n",
       "\n",
       "       eliptica  espiral  irregular  \n",
       "count   53799.0  53799.0    53799.0  \n",
       "mean        0.0      0.0        1.0  \n",
       "std         0.0      0.0        0.0  \n",
       "min         0.0      0.0        1.0  \n",
       "25%         0.0      0.0        1.0  \n",
       "50%         0.0      0.0        1.0  \n",
       "75%         0.0      0.0        1.0  \n",
       "max         0.0      0.0        1.0  "
      ]
     },
     "execution_count": 10,
     "metadata": {},
     "output_type": "execute_result"
    }
   ],
   "source": [
    "data_irregular = data.copy()\n",
    "data_irregular = data_irregular.query(\"irregular == 1\")\n",
    "data_irregular.describe()"
   ]
  },
  {
   "cell_type": "code",
   "execution_count": 11,
   "metadata": {
    "scrolled": true
   },
   "outputs": [
    {
     "name": "stderr",
     "output_type": "stream",
     "text": [
      "<ipython-input-11-737269b16c4d>:29: UserWarning: Matplotlib is currently using module://ipykernel.pylab.backend_inline, which is a non-GUI backend, so cannot show the figure.\n",
      "  fig.show()\n"
     ]
    },
    {
     "data": {
      "image/png": "[encoded data removed]",
      "text/plain": [
       "<Figure size 720x216 with 6 Axes>"
      ]
     },
     "metadata": {
      "needs_background": "light"
     },
     "output_type": "display_data"
    }
   ],
   "source": [
    "fig, ax = plt.subplots(nrows=2, ncols=3, figsize=(10,3), sharey='row')\n",
    "\n",
    "# Espiral\n",
    "seaborn.histplot(data=data_espiral.z, ax=ax[0,0])\n",
    "seaborn.histplot(data=data_espiral.R, ax=ax[1,0])\n",
    "#seaborn.histplot(data=data_espiral.z, ax=ax[2,0], stat=\"frequency\")\n",
    "#seaborn.histplot(data=data_espiral.R, ax=ax[3,0], stat=\"frequency\")\n",
    "\n",
    "# Eliptica\n",
    "seaborn.histplot(data=data_eliptica.z, ax=ax[0,1])\n",
    "seaborn.histplot(data=data_eliptica.R, ax=ax[1,1])\n",
    "#seaborn.histplot(data=data_eliptica.z, ax=ax[2,1], stat=\"frequency\")\n",
    "#seaborn.histplot(data=data_eliptica.R, ax=ax[3,1], stat=\"frequency\")\n",
    "\n",
    "# Irregular\n",
    "seaborn.histplot(data=data_irregular.z, ax=ax[0,2])\n",
    "seaborn.histplot(data=data_irregular.R, ax=ax[1,2])\n",
    "#seaborn.histplot(data=data_irregular.z, ax=ax[2,2], stat=\"frequency\")\n",
    "#seaborn.histplot(data=data_irregular.R, ax=ax[3,2], stat=\"frequency\")\n",
    "\n",
    "ax[0,0].set_title('Espirales')\n",
    "ax[0,1].set_title('Elípticas')\n",
    "ax[0,2].set_title('Irregulares')\n",
    "\n",
    "#ax[1,0].set_title('Espirales')\n",
    "#ax[1,1].set_title('Eliptica')\n",
    "#ax[1,2].set_title('Irregulares')\n",
    "\n",
    "fig.show()"
   ]
  },
  {
   "cell_type": "markdown",
   "metadata": {},
   "source": [
    "# Clases"
   ]
  },
  {
   "cell_type": "markdown",
   "metadata": {},
   "source": [
    "Defino una nueva columna de tipo categórico para concatenar la clase o tipo morfologíco de las galaxias."
   ]
  },
  {
   "cell_type": "code",
   "execution_count": 12,
   "metadata": {},
   "outputs": [
    {
     "data": {
      "text/html": [
       "<div>\n",
       "<style scoped>\n",
       "    .dataframe tbody tr th:only-of-type {\n",
       "        vertical-align: middle;\n",
       "    }\n",
       "\n",
       "    .dataframe tbody tr th {\n",
       "        vertical-align: top;\n",
       "    }\n",
       "\n",
       "    .dataframe thead th {\n",
       "        text-align: right;\n",
       "    }\n",
       "</style>\n",
       "<table border=\"1\" class=\"dataframe\">\n",
       "  <thead>\n",
       "    <tr style=\"text-align: right;\">\n",
       "      <th></th>\n",
       "      <th>ra</th>\n",
       "      <th>dec</th>\n",
       "      <th>Mag_u</th>\n",
       "      <th>Mag_g</th>\n",
       "      <th>Mag_r</th>\n",
       "      <th>Mag_i</th>\n",
       "      <th>Mag_z</th>\n",
       "      <th>R</th>\n",
       "      <th>z</th>\n",
       "      <th>color</th>\n",
       "      <th>eliptica</th>\n",
       "      <th>espiral</th>\n",
       "      <th>irregular</th>\n",
       "      <th>clase</th>\n",
       "    </tr>\n",
       "  </thead>\n",
       "  <tbody>\n",
       "    <tr>\n",
       "      <th>0</th>\n",
       "      <td>124.681690</td>\n",
       "      <td>51.782638</td>\n",
       "      <td>18.88496</td>\n",
       "      <td>17.75081</td>\n",
       "      <td>17.43881</td>\n",
       "      <td>17.23038</td>\n",
       "      <td>17.13276</td>\n",
       "      <td>6.112216</td>\n",
       "      <td>0.042512</td>\n",
       "      <td>-1.446144</td>\n",
       "      <td>0</td>\n",
       "      <td>0</td>\n",
       "      <td>1</td>\n",
       "      <td>I</td>\n",
       "    </tr>\n",
       "    <tr>\n",
       "      <th>1</th>\n",
       "      <td>128.676351</td>\n",
       "      <td>51.973910</td>\n",
       "      <td>20.20252</td>\n",
       "      <td>18.14648</td>\n",
       "      <td>17.51353</td>\n",
       "      <td>17.13207</td>\n",
       "      <td>16.83231</td>\n",
       "      <td>6.618816</td>\n",
       "      <td>0.049901</td>\n",
       "      <td>-2.688982</td>\n",
       "      <td>0</td>\n",
       "      <td>1</td>\n",
       "      <td>0</td>\n",
       "      <td>S</td>\n",
       "    </tr>\n",
       "  </tbody>\n",
       "</table>\n",
       "</div>"
      ],
      "text/plain": [
       "           ra        dec     Mag_u     Mag_g     Mag_r     Mag_i     Mag_z  \\\n",
       "0  124.681690  51.782638  18.88496  17.75081  17.43881  17.23038  17.13276   \n",
       "1  128.676351  51.973910  20.20252  18.14648  17.51353  17.13207  16.83231   \n",
       "\n",
       "          R         z     color  eliptica  espiral  irregular clase  \n",
       "0  6.112216  0.042512 -1.446144         0        0          1     I  \n",
       "1  6.618816  0.049901 -2.688982         0        1          0     S  "
      ]
     },
     "execution_count": 12,
     "metadata": {},
     "output_type": "execute_result"
    }
   ],
   "source": [
    "clase=[]\n",
    "for i in range(0,data.shape[0]):\n",
    "    if data.eliptica[i]==1:\n",
    "        clase.append('E')\n",
    "    elif data.espiral[i]==1:\n",
    "        clase.append('S')\n",
    "    elif data.irregular[i]==1:\n",
    "        clase.append('I')\n",
    "data['clase']=clase\n",
    "data.head(2)"
   ]
  },
  {
   "cell_type": "markdown",
   "metadata": {},
   "source": [
    "# Visualización"
   ]
  },
  {
   "cell_type": "markdown",
   "metadata": {},
   "source": [
    "Encuentre una forma adecuada para exhibir el balance de las clase eliptica (E), espiral (S) e irregular (I) usando la nueva columna clase."
   ]
  },
  {
   "cell_type": "markdown",
   "metadata": {},
   "source": [
    "Use histogramas y boxplots para visualizar intervalos de confianza, mediana, media, intercuartiles y *outliers* de la posición **z** y del tamaño **R** para algun tipo morfologíco."
   ]
  },
  {
   "cell_type": "markdown",
   "metadata": {},
   "source": [
    "Mostrar si los valores de las medianas de las distribuciones de z para cada clase (E,S e I) son estadśticamente diferentes."
   ]
  },
  {
   "cell_type": "code",
   "execution_count": 154,
   "metadata": {},
   "outputs": [
    {
     "data": {
      "text/plain": [
       "<AxesSubplot:xlabel='z', ylabel='clase'>"
      ]
     },
     "execution_count": 154,
     "metadata": {},
     "output_type": "execute_result"
    },
    {
     "data": {
      "image/png": "[encoded data removed]",
      "text/plain": [
       "<Figure size 792x252 with 1 Axes>"
      ]
     },
     "metadata": {
      "needs_background": "light"
     },
     "output_type": "display_data"
    }
   ],
   "source": [
    "seaborn.boxplot(data=data, x=\"z\", y=\"clase\")"
   ]
  },
  {
   "cell_type": "code",
   "execution_count": 153,
   "metadata": {},
   "outputs": [
    {
     "data": {
      "text/plain": [
       "<AxesSubplot:xlabel='z'>"
      ]
     },
     "execution_count": 153,
     "metadata": {},
     "output_type": "execute_result"
    },
    {
     "data": {
      "image/png": "[encoded data removed]",
      "text/plain": [
       "<Figure size 792x252 with 1 Axes>"
      ]
     },
     "metadata": {
      "needs_background": "light"
     },
     "output_type": "display_data"
    }
   ],
   "source": [
    "seaborn.boxplot(data=data, x=\"z\")"
   ]
  },
  {
   "cell_type": "code",
   "execution_count": 48,
   "metadata": {},
   "outputs": [
    {
     "data": {
      "text/plain": [
       "Index(['ra', 'dec', 'Mag_u', 'Mag_g', 'Mag_r', 'Mag_i', 'Mag_z', 'R', 'z',\n",
       "       'color', 'eliptica', 'espiral', 'irregular', 'clase'],\n",
       "      dtype='object')"
      ]
     },
     "execution_count": 48,
     "metadata": {},
     "output_type": "execute_result"
    }
   ],
   "source": [
    "data.columns"
   ]
  },
  {
   "cell_type": "code",
   "execution_count": 109,
   "metadata": {
    "scrolled": true
   },
   "outputs": [
    {
     "data": {
      "text/html": [
       "<div>\n",
       "<style scoped>\n",
       "    .dataframe tbody tr th:only-of-type {\n",
       "        vertical-align: middle;\n",
       "    }\n",
       "\n",
       "    .dataframe tbody tr th {\n",
       "        vertical-align: top;\n",
       "    }\n",
       "\n",
       "    .dataframe thead th {\n",
       "        text-align: right;\n",
       "    }\n",
       "</style>\n",
       "<table border=\"1\" class=\"dataframe\">\n",
       "  <thead>\n",
       "    <tr style=\"text-align: right;\">\n",
       "      <th></th>\n",
       "      <th>Mag_u</th>\n",
       "      <th>Mag_g</th>\n",
       "      <th>Mag_r</th>\n",
       "      <th>Mag_i</th>\n",
       "      <th>Mag_z</th>\n",
       "      <th>color</th>\n",
       "    </tr>\n",
       "  </thead>\n",
       "  <tbody>\n",
       "    <tr>\n",
       "      <th>count</th>\n",
       "      <td>92102.000000</td>\n",
       "      <td>92102.000000</td>\n",
       "      <td>92102.000000</td>\n",
       "      <td>92102.000000</td>\n",
       "      <td>92102.000000</td>\n",
       "      <td>92102.000000</td>\n",
       "    </tr>\n",
       "    <tr>\n",
       "      <th>mean</th>\n",
       "      <td>18.143378</td>\n",
       "      <td>16.708392</td>\n",
       "      <td>16.312647</td>\n",
       "      <td>15.991780</td>\n",
       "      <td>15.433421</td>\n",
       "      <td>-1.830732</td>\n",
       "    </tr>\n",
       "    <tr>\n",
       "      <th>std</th>\n",
       "      <td>46.690487</td>\n",
       "      <td>46.684358</td>\n",
       "      <td>1.092588</td>\n",
       "      <td>1.151259</td>\n",
       "      <td>57.168725</td>\n",
       "      <td>46.686363</td>\n",
       "    </tr>\n",
       "    <tr>\n",
       "      <th>min</th>\n",
       "      <td>-9999.000000</td>\n",
       "      <td>-9999.000000</td>\n",
       "      <td>11.524090</td>\n",
       "      <td>11.220580</td>\n",
       "      <td>-9999.000000</td>\n",
       "      <td>-13.484570</td>\n",
       "    </tr>\n",
       "    <tr>\n",
       "      <th>25%</th>\n",
       "      <td>17.725203</td>\n",
       "      <td>16.251015</td>\n",
       "      <td>15.562648</td>\n",
       "      <td>15.197173</td>\n",
       "      <td>14.910782</td>\n",
       "      <td>-2.510555</td>\n",
       "    </tr>\n",
       "    <tr>\n",
       "      <th>50%</th>\n",
       "      <td>18.442490</td>\n",
       "      <td>17.082385</td>\n",
       "      <td>16.491180</td>\n",
       "      <td>16.171225</td>\n",
       "      <td>15.934050</td>\n",
       "      <td>-1.994779</td>\n",
       "    </tr>\n",
       "    <tr>\n",
       "      <th>75%</th>\n",
       "      <td>19.028265</td>\n",
       "      <td>17.720817</td>\n",
       "      <td>17.209298</td>\n",
       "      <td>16.928400</td>\n",
       "      <td>16.736465</td>\n",
       "      <td>-1.606971</td>\n",
       "    </tr>\n",
       "    <tr>\n",
       "      <th>max</th>\n",
       "      <td>28.787190</td>\n",
       "      <td>25.526970</td>\n",
       "      <td>27.911470</td>\n",
       "      <td>25.657780</td>\n",
       "      <td>26.923540</td>\n",
       "      <td>10015.860000</td>\n",
       "    </tr>\n",
       "  </tbody>\n",
       "</table>\n",
       "</div>"
      ],
      "text/plain": [
       "              Mag_u         Mag_g         Mag_r         Mag_i         Mag_z  \\\n",
       "count  92102.000000  92102.000000  92102.000000  92102.000000  92102.000000   \n",
       "mean      18.143378     16.708392     16.312647     15.991780     15.433421   \n",
       "std       46.690487     46.684358      1.092588      1.151259     57.168725   \n",
       "min    -9999.000000  -9999.000000     11.524090     11.220580  -9999.000000   \n",
       "25%       17.725203     16.251015     15.562648     15.197173     14.910782   \n",
       "50%       18.442490     17.082385     16.491180     16.171225     15.934050   \n",
       "75%       19.028265     17.720817     17.209298     16.928400     16.736465   \n",
       "max       28.787190     25.526970     27.911470     25.657780     26.923540   \n",
       "\n",
       "              color  \n",
       "count  92102.000000  \n",
       "mean      -1.830732  \n",
       "std       46.686363  \n",
       "min      -13.484570  \n",
       "25%       -2.510555  \n",
       "50%       -1.994779  \n",
       "75%       -1.606971  \n",
       "max    10015.860000  "
      ]
     },
     "execution_count": 109,
     "metadata": {},
     "output_type": "execute_result"
    }
   ],
   "source": [
    "data[['Mag_u','Mag_g','Mag_r','Mag_i','Mag_z','color']].describe()"
   ]
  },
  {
   "cell_type": "code",
   "execution_count": 126,
   "metadata": {},
   "outputs": [],
   "source": [
    "def remove_min(data_aux,column):\n",
    "    with_error_condition = data_aux[data_aux[column] == data_aux[column].min()]\n",
    "    without_error_condition = data_aux[data_aux[column] > data[column].min()]\n",
    "    with_error = with_error_condition.count()[column]\n",
    "    print(column + \": Hay \" + str(with_error) + \" con valor \" + str(data[column].min()))\n",
    "    print(column + \": Hay \" + str(without_error_condition.count()[column]) + \" sin valor \" + str(data[column].min()))"
   ]
  },
  {
   "cell_type": "code",
   "execution_count": 128,
   "metadata": {},
   "outputs": [
    {
     "name": "stdout",
     "output_type": "stream",
     "text": [
      "Mag_u: Hay 2 con valor -9999.0\n",
      "Mag_u: Hay 92100 sin valor -9999.0\n",
      "Mag_g: Hay 2 con valor -9999.0\n",
      "Mag_g: Hay 92100 sin valor -9999.0\n",
      "Mag_z: Hay 3 con valor -9999.0\n",
      "Mag_z: Hay 92099 sin valor -9999.0\n"
     ]
    }
   ],
   "source": [
    "remove_min(data,'Mag_u')\n",
    "remove_min(data,'Mag_g')\n",
    "remove_min(data,'Mag_z')"
   ]
  },
  {
   "cell_type": "markdown",
   "metadata": {},
   "source": [
    "El valor -9999 parece ser algún tipo de error o porque no existe o está corrupto, al filtrar este valor se puede observar que son solamente 2, el desvío estándar se ve modificado."
   ]
  },
  {
   "cell_type": "code",
   "execution_count": 150,
   "metadata": {},
   "outputs": [
    {
     "data": {
      "text/plain": [
       "0        4.505659e+09\n",
       "1        1.583365e+10\n",
       "2        4.207491e+09\n",
       "3        7.988674e+09\n",
       "4       -2.350921e+09\n",
       "             ...     \n",
       "92097   -6.065336e+08\n",
       "92098    1.239135e+09\n",
       "92099    6.395262e+09\n",
       "92100    5.182728e+09\n",
       "92101    3.999599e+09\n",
       "Name: media_mag_u, Length: 92102, dtype: float64"
      ]
     },
     "execution_count": 150,
     "metadata": {},
     "output_type": "execute_result"
    }
   ],
   "source": [
    "# (x - media) / (desvio / raiz de N)\n",
    "mag_u_std = data[data.Mag_u > data.Mag_u.min()].Mag_u.std()\n",
    "data['media_mag_u'] = (data[data.Mag_u > data.Mag_u.min()].Mag_u - data[data.Mag_u > data.Mag_u.min()].Mag_u.mean()) / (mag_u_std / np.square(len(data[data.Mag_u > data.Mag_u.min()].Mag_u)))\n",
    "data['media_mag_u']"
   ]
  },
  {
   "cell_type": "code",
   "execution_count": 152,
   "metadata": {},
   "outputs": [
    {
     "data": {
      "image/png": "[encoded data removed]",
      "text/plain": [
       "<Figure size 792x252 with 1 Axes>"
      ]
     },
     "metadata": {
      "needs_background": "light"
     },
     "output_type": "display_data"
    }
   ],
   "source": [
    "plt.rcParams[\"figure.figsize\"] = [11.00, 3.50]\n",
    "plt.rcParams[\"figure.autolayout\"] = True\n",
    "df_mag_u = data[data.Mag_u > data.Mag_u.min()]['Mag_u']\n",
    "ax = seaborn.histplot(data=data['media_mag_u'], kde=True, stat=\"frequency\")\n",
    "plt.axvline(data['media_mag_u'].mean(), color='red')\n",
    "plt.axvline(data['media_mag_u'].median(), color='green')\n",
    "#ax.lines[0].remove()\n",
    "plt.title(\"Histograma del color Mag_u sin valor mínimo\")\n",
    "plt.show()"
   ]
  },
  {
   "cell_type": "markdown",
   "metadata": {},
   "source": [
    "Al ver el desvío de +-2 podemos decir que hay una gran dispersión de datos, está sesgado hacia la derecha. En el 0 están los 50% de los valores. Para mas de 50% de los valores hay un desvío muy grande que supera el 8 (de la x)"
   ]
  },
  {
   "cell_type": "code",
   "execution_count": 146,
   "metadata": {},
   "outputs": [
    {
     "data": {
      "text/plain": [
       "Power_divergenceResult(statistic=4882.414577465374, pvalue=1.0)"
      ]
     },
     "execution_count": 146,
     "metadata": {},
     "output_type": "execute_result"
    }
   ],
   "source": [
    "sp.stats.chisquare(data[data.Mag_u > data.Mag_u.min()].Mag_u)"
   ]
  },
  {
   "cell_type": "code",
   "execution_count": 142,
   "metadata": {},
   "outputs": [
    {
     "data": {
      "image/png": "[encoded data removed]",
      "text/plain": [
       "<Figure size 792x252 with 1 Axes>"
      ]
     },
     "metadata": {
      "needs_background": "light"
     },
     "output_type": "display_data"
    }
   ],
   "source": [
    "plt.rcParams[\"figure.figsize\"] = [11.00, 3.50]\n",
    "plt.rcParams[\"figure.autolayout\"] = True\n",
    "df_mag_u = data[data.Mag_u > data.Mag_u.min()]['Mag_u']\n",
    "ax = seaborn.histplot(data=df_mag_u, kde=True, stat=\"count\")\n",
    "plt.axvline(df_mag_u.mean(), color='red')\n",
    "plt.axvline(df_mag_u.median(), color='green')\n",
    "#ax.lines[0].remove()\n",
    "plt.title(\"Histograma del color Mag_u sin valor mínimo\")\n",
    "plt.show()"
   ]
  },
  {
   "cell_type": "code",
   "execution_count": 131,
   "metadata": {},
   "outputs": [
    {
     "data": {
      "image/png": "[encoded data removed]",
      "text/plain": [
       "<Figure size 792x252 with 1 Axes>"
      ]
     },
     "metadata": {
      "needs_background": "light"
     },
     "output_type": "display_data"
    }
   ],
   "source": [
    "plt.rcParams[\"figure.figsize\"] = [11.00, 3.50]\n",
    "plt.rcParams[\"figure.autolayout\"] = True\n",
    "ax = seaborn.boxplot(data=data, y='Mag_u', x='clase')\n",
    "#ax.lines[0].remove()\n",
    "plt.title(\"Boxplot del color Mag_u con valor mínimo\")\n",
    "plt.show()"
   ]
  },
  {
   "cell_type": "code",
   "execution_count": 132,
   "metadata": {},
   "outputs": [
    {
     "data": {
      "image/png": "[encoded data removed]",
      "text/plain": [
       "<Figure size 792x252 with 1 Axes>"
      ]
     },
     "metadata": {
      "needs_background": "light"
     },
     "output_type": "display_data"
    }
   ],
   "source": [
    "plt.rcParams[\"figure.figsize\"] = [11.00, 3.50]\n",
    "plt.rcParams[\"figure.autolayout\"] = True\n",
    "ax = seaborn.boxplot(data=data[data.Mag_u > data.Mag_u.min()], y='Mag_u', x='clase')\n",
    "#ax.lines[0].remove()\n",
    "plt.title(\"Boxplot del color Mag_u sin valor mínimo\")\n",
    "plt.show()"
   ]
  },
  {
   "cell_type": "code",
   "execution_count": 17,
   "metadata": {},
   "outputs": [
    {
     "data": {
      "text/plain": [
       "<AxesSubplot:xlabel='clase', ylabel='z'>"
      ]
     },
     "execution_count": 17,
     "metadata": {},
     "output_type": "execute_result"
    },
    {
     "data": {
      "image/png": "[encoded data removed]",
      "text/plain": [
       "<Figure size 864x432 with 1 Axes>"
      ]
     },
     "metadata": {
      "needs_background": "light"
     },
     "output_type": "display_data"
    }
   ],
   "source": [
    "plt.figure(figsize=(12, 6))\n",
    "seaborn.boxenplot(data=data, x=\"clase\", y=\"z\")"
   ]
  },
  {
   "cell_type": "code",
   "execution_count": 18,
   "metadata": {},
   "outputs": [
    {
     "data": {
      "text/plain": [
       "<AxesSubplot:xlabel='clase', ylabel='R'>"
      ]
     },
     "execution_count": 18,
     "metadata": {},
     "output_type": "execute_result"
    },
    {
     "data": {
      "image/png": "[encoded data removed]",
      "text/plain": [
       "<Figure size 864x432 with 1 Axes>"
      ]
     },
     "metadata": {
      "needs_background": "light"
     },
     "output_type": "display_data"
    }
   ],
   "source": [
    "plt.figure(figsize=(12, 6))\n",
    "seaborn.boxplot(data=data, x=\"clase\", y=\"R\")"
   ]
  },
  {
   "cell_type": "code",
   "execution_count": 19,
   "metadata": {},
   "outputs": [
    {
     "data": {
      "text/plain": [
       "<AxesSubplot:xlabel='clase', ylabel='R'>"
      ]
     },
     "execution_count": 19,
     "metadata": {},
     "output_type": "execute_result"
    },
    {
     "data": {
      "image/png": "[encoded data removed]",
      "text/plain": [
       "<Figure size 864x432 with 1 Axes>"
      ]
     },
     "metadata": {
      "needs_background": "light"
     },
     "output_type": "display_data"
    }
   ],
   "source": [
    "plt.figure(figsize=(12, 6))\n",
    "seaborn.boxenplot(data=data, x=\"clase\", y=\"R\")"
   ]
  },
  {
   "cell_type": "code",
   "execution_count": 61,
   "metadata": {},
   "outputs": [
    {
     "data": {
      "text/plain": [
       "<AxesSubplot:xlabel='clase', ylabel='R'>"
      ]
     },
     "execution_count": 61,
     "metadata": {},
     "output_type": "execute_result"
    },
    {
     "data": {
      "image/png": "[encoded data removed]",
      "text/plain": [
       "<Figure size 864x432 with 1 Axes>"
      ]
     },
     "metadata": {
      "needs_background": "light"
     },
     "output_type": "display_data"
    }
   ],
   "source": [
    "plt.figure(figsize=(12, 6))\n",
    "seaborn.boxenplot(data=data.query(\"R < 40\"), x=\"clase\", y=\"R\")"
   ]
  },
  {
   "cell_type": "code",
   "execution_count": 21,
   "metadata": {},
   "outputs": [
    {
     "data": {
      "text/plain": [
       "<AxesSubplot:xlabel='clase', ylabel='R'>"
      ]
     },
     "execution_count": 21,
     "metadata": {},
     "output_type": "execute_result"
    },
    {
     "data": {
      "image/png": "[encoded data removed]",
      "text/plain": [
       "<Figure size 864x432 with 1 Axes>"
      ]
     },
     "metadata": {
      "needs_background": "light"
     },
     "output_type": "display_data"
    }
   ],
   "source": [
    "plt.figure(figsize=(12, 6))\n",
    "seaborn.boxplot(data=data.query(\"R > 50\"), x=\"clase\", y=\"R\")"
   ]
  },
  {
   "cell_type": "code",
   "execution_count": 22,
   "metadata": {},
   "outputs": [
    {
     "data": {
      "text/plain": [
       "<seaborn.axisgrid.PairGrid at 0x7f79bf5fd160>"
      ]
     },
     "execution_count": 22,
     "metadata": {},
     "output_type": "execute_result"
    },
    {
     "data": {
      "image/png": "[encoded data removed]",
      "text/plain": [
       "<Figure size 402.25x360 with 6 Axes>"
      ]
     },
     "metadata": {
      "needs_background": "light"
     },
     "output_type": "display_data"
    }
   ],
   "source": [
    "seaborn.pairplot(data=data[['z','R','clase']], hue=\"clase\")"
   ]
  },
  {
   "cell_type": "code",
   "execution_count": 23,
   "metadata": {},
   "outputs": [
    {
     "name": "stdout",
     "output_type": "stream",
     "text": [
      "La media de R es: 9.45987527944887\n",
      "La mediana de R es: 8.361149000000001\n",
      "La media de z es: 0.03609202654947775\n",
      "La mediana de z es: 0.03632125\n"
     ]
    }
   ],
   "source": [
    "r_mean = data.R.mean()\n",
    "z_mean = data.z.mean()\n",
    "r_median = data.R.median()\n",
    "z_median = data.z.median()\n",
    "print(\"La media de R es: \" + str(r_mean))\n",
    "print(\"La mediana de R es: \" + str(r_median))\n",
    "print(\"La media de z es: \" + str(z_mean))\n",
    "print(\"La mediana de z es: \" + str(z_median))"
   ]
  },
  {
   "cell_type": "code",
   "execution_count": 24,
   "metadata": {},
   "outputs": [
    {
     "name": "stdout",
     "output_type": "stream",
     "text": [
      "La mediana de z para galaxias elipticas 0.0353871\n",
      "Diferencia 0.0008557200000000043\n",
      "La mediana de z para galaxias espiral 0.03624282\n",
      "Diferencia 0.0002727000000000007\n",
      "La mediana de z para galaxias irregular 0.03651552\n"
     ]
    }
   ],
   "source": [
    "dif_median_eliptica = data_espiral.z.median() + data_irregular.z.median() - data_eliptica.z.median()\n",
    "dif_median_espiral = data_eliptica.z.median() + data_irregular.z.median() - data_espiral.z.median()\n",
    "dif_median_eliptica = data_espiral.z.median() + data_eliptica.z.median() - data_irregular.z.median()\n",
    "\n",
    "print(\"La mediana de z para galaxias elipticas \" + str(data_eliptica.z.median()))\n",
    "print(\"Diferencia \" + str(data_espiral.z.median() - data_eliptica.z.median()))\n",
    "print(\"La mediana de z para galaxias espiral \" + str(data_espiral.z.median()))\n",
    "print(\"Diferencia \" + str(data_irregular.z.median() - data_espiral.z.median()))\n",
    "print(\"La mediana de z para galaxias irregular \" + str(data_irregular.z.median()))"
   ]
  },
  {
   "cell_type": "markdown",
   "metadata": {},
   "source": [
    "La distancia de las galaxias debe ser regular a la rotación del planeta desde donde se lo observa"
   ]
  },
  {
   "cell_type": "code",
   "execution_count": 59,
   "metadata": {
    "scrolled": true
   },
   "outputs": [
    {
     "data": {
      "text/html": [
       "<div>\n",
       "<style scoped>\n",
       "    .dataframe tbody tr th:only-of-type {\n",
       "        vertical-align: middle;\n",
       "    }\n",
       "\n",
       "    .dataframe tbody tr th {\n",
       "        vertical-align: top;\n",
       "    }\n",
       "\n",
       "    .dataframe thead tr th {\n",
       "        text-align: left;\n",
       "    }\n",
       "\n",
       "    .dataframe thead tr:last-of-type th {\n",
       "        text-align: right;\n",
       "    }\n",
       "</style>\n",
       "<table border=\"1\" class=\"dataframe\">\n",
       "  <thead>\n",
       "    <tr>\n",
       "      <th></th>\n",
       "      <th colspan=\"8\" halign=\"left\">z</th>\n",
       "      <th colspan=\"8\" halign=\"left\">R</th>\n",
       "    </tr>\n",
       "    <tr>\n",
       "      <th></th>\n",
       "      <th>count</th>\n",
       "      <th>mean</th>\n",
       "      <th>std</th>\n",
       "      <th>min</th>\n",
       "      <th>25%</th>\n",
       "      <th>50%</th>\n",
       "      <th>75%</th>\n",
       "      <th>max</th>\n",
       "      <th>count</th>\n",
       "      <th>mean</th>\n",
       "      <th>std</th>\n",
       "      <th>min</th>\n",
       "      <th>25%</th>\n",
       "      <th>50%</th>\n",
       "      <th>75%</th>\n",
       "      <th>max</th>\n",
       "    </tr>\n",
       "    <tr>\n",
       "      <th>clase</th>\n",
       "      <th></th>\n",
       "      <th></th>\n",
       "      <th></th>\n",
       "      <th></th>\n",
       "      <th></th>\n",
       "      <th></th>\n",
       "      <th></th>\n",
       "      <th></th>\n",
       "      <th></th>\n",
       "      <th></th>\n",
       "      <th></th>\n",
       "      <th></th>\n",
       "      <th></th>\n",
       "      <th></th>\n",
       "      <th></th>\n",
       "      <th></th>\n",
       "    </tr>\n",
       "  </thead>\n",
       "  <tbody>\n",
       "    <tr>\n",
       "      <th>E</th>\n",
       "      <td>8257.0</td>\n",
       "      <td>0.035441</td>\n",
       "      <td>0.008377</td>\n",
       "      <td>0.020001</td>\n",
       "      <td>0.028338</td>\n",
       "      <td>0.035387</td>\n",
       "      <td>0.042901</td>\n",
       "      <td>0.049999</td>\n",
       "      <td>8257.0</td>\n",
       "      <td>11.434267</td>\n",
       "      <td>6.569001</td>\n",
       "      <td>1.423474</td>\n",
       "      <td>7.127408</td>\n",
       "      <td>9.830194</td>\n",
       "      <td>13.91113</td>\n",
       "      <td>87.4202</td>\n",
       "    </tr>\n",
       "    <tr>\n",
       "      <th>I</th>\n",
       "      <td>53799.0</td>\n",
       "      <td>0.036198</td>\n",
       "      <td>0.008473</td>\n",
       "      <td>0.020002</td>\n",
       "      <td>0.029136</td>\n",
       "      <td>0.036516</td>\n",
       "      <td>0.043803</td>\n",
       "      <td>0.050000</td>\n",
       "      <td>53799.0</td>\n",
       "      <td>7.788328</td>\n",
       "      <td>4.247871</td>\n",
       "      <td>0.842248</td>\n",
       "      <td>5.263126</td>\n",
       "      <td>7.003353</td>\n",
       "      <td>9.29947</td>\n",
       "      <td>231.1218</td>\n",
       "    </tr>\n",
       "    <tr>\n",
       "      <th>S</th>\n",
       "      <td>30046.0</td>\n",
       "      <td>0.036080</td>\n",
       "      <td>0.008375</td>\n",
       "      <td>0.020001</td>\n",
       "      <td>0.029204</td>\n",
       "      <td>0.036243</td>\n",
       "      <td>0.043443</td>\n",
       "      <td>0.049999</td>\n",
       "      <td>30046.0</td>\n",
       "      <td>11.910286</td>\n",
       "      <td>5.310629</td>\n",
       "      <td>1.290469</td>\n",
       "      <td>8.425920</td>\n",
       "      <td>10.792645</td>\n",
       "      <td>14.07468</td>\n",
       "      <td>128.8468</td>\n",
       "    </tr>\n",
       "  </tbody>\n",
       "</table>\n",
       "</div>"
      ],
      "text/plain": [
       "             z                                                              \\\n",
       "         count      mean       std       min       25%       50%       75%   \n",
       "clase                                                                        \n",
       "E       8257.0  0.035441  0.008377  0.020001  0.028338  0.035387  0.042901   \n",
       "I      53799.0  0.036198  0.008473  0.020002  0.029136  0.036516  0.043803   \n",
       "S      30046.0  0.036080  0.008375  0.020001  0.029204  0.036243  0.043443   \n",
       "\n",
       "                       R                                                      \\\n",
       "            max    count       mean       std       min       25%        50%   \n",
       "clase                                                                          \n",
       "E      0.049999   8257.0  11.434267  6.569001  1.423474  7.127408   9.830194   \n",
       "I      0.050000  53799.0   7.788328  4.247871  0.842248  5.263126   7.003353   \n",
       "S      0.049999  30046.0  11.910286  5.310629  1.290469  8.425920  10.792645   \n",
       "\n",
       "                           \n",
       "            75%       max  \n",
       "clase                      \n",
       "E      13.91113   87.4202  \n",
       "I       9.29947  231.1218  \n",
       "S      14.07468  128.8468  "
      ]
     },
     "execution_count": 59,
     "metadata": {},
     "output_type": "execute_result"
    }
   ],
   "source": [
    "data[['z','R','clase']].groupby('clase').describe()"
   ]
  },
  {
   "cell_type": "code",
   "execution_count": 26,
   "metadata": {},
   "outputs": [
    {
     "data": {
      "image/png": "[encoded data removed]",
      "text/plain": [
       "<Figure size 792x252 with 1 Axes>"
      ]
     },
     "metadata": {
      "needs_background": "light"
     },
     "output_type": "display_data"
    }
   ],
   "source": [
    "plt.rcParams[\"figure.figsize\"] = [11.00, 3.50]\n",
    "plt.rcParams[\"figure.autolayout\"] = True\n",
    "ax = seaborn.histplot(data.z, kde=True)\n",
    "plt.axvline(data.z.mean(), color='red')\n",
    "plt.axvline(data.z.median(), color='green')\n",
    "#ax.lines[0].remove()\n",
    "plt.title(\"Histograma de la distancia de las galaxias\")\n",
    "plt.show()"
   ]
  },
  {
   "cell_type": "code",
   "execution_count": 27,
   "metadata": {
    "scrolled": true
   },
   "outputs": [
    {
     "data": {
      "image/png": "[encoded data removed]",
      "text/plain": [
       "<Figure size 792x252 with 1 Axes>"
      ]
     },
     "metadata": {
      "needs_background": "light"
     },
     "output_type": "display_data"
    }
   ],
   "source": [
    "plt.rcParams[\"figure.figsize\"] = [11.00, 3.50]\n",
    "plt.rcParams[\"figure.autolayout\"] = True\n",
    "ax = seaborn.histplot(data.R, kde=True)\n",
    "plt.axvline(data.R.mean(), color='red')\n",
    "plt.axvline(data.R.median(), color='green')\n",
    "plt.title(\"Histograma del tamaño de las galaxias\")\n",
    "#ax.lines[0].remove()\n",
    "plt.show()"
   ]
  },
  {
   "cell_type": "code",
   "execution_count": 60,
   "metadata": {
    "scrolled": true
   },
   "outputs": [
    {
     "data": {
      "image/png": "[encoded data removed]",
      "text/plain": [
       "<Figure size 504x252 with 1 Axes>"
      ]
     },
     "metadata": {
      "needs_background": "light"
     },
     "output_type": "display_data"
    }
   ],
   "source": [
    "plt.rcParams[\"figure.figsize\"] = [7.00, 3.50]\n",
    "plt.rcParams[\"figure.autolayout\"] = True\n",
    "ax = seaborn.histplot(data.query(\"R < 40\").R, kde=True)\n",
    "plt.axvline(data.R.mean(), color='red')\n",
    "plt.axvline(data.R.median(), color='green')\n",
    "plt.title(\"Histograma del tamaño de las galaxias menores a 40\")\n",
    "#ax.lines[0].remove()\n",
    "plt.show()"
   ]
  },
  {
   "cell_type": "code",
   "execution_count": 29,
   "metadata": {},
   "outputs": [
    {
     "data": {
      "text/plain": [
       "0    10.49015\n",
       "1    12.28631\n",
       "dtype: float64"
      ]
     },
     "execution_count": 29,
     "metadata": {},
     "output_type": "execute_result"
    }
   ],
   "source": [
    "data.R.mode()"
   ]
  },
  {
   "cell_type": "code",
   "execution_count": 30,
   "metadata": {
    "scrolled": true
   },
   "outputs": [
    {
     "data": {
      "text/plain": [
       "0     0.022726\n",
       "1     0.023508\n",
       "2     0.024251\n",
       "3     0.024721\n",
       "4     0.031160\n",
       "5     0.031389\n",
       "6     0.032256\n",
       "7     0.040228\n",
       "8     0.040495\n",
       "9     0.041771\n",
       "10    0.041967\n",
       "11    0.042737\n",
       "12    0.045363\n",
       "13    0.046149\n",
       "14    0.046720\n",
       "dtype: float64"
      ]
     },
     "execution_count": 30,
     "metadata": {},
     "output_type": "execute_result"
    }
   ],
   "source": [
    "data.z.mode()"
   ]
  },
  {
   "cell_type": "code",
   "execution_count": 31,
   "metadata": {},
   "outputs": [
    {
     "data": {
      "text/plain": [
       "7.115332945870149e-05"
      ]
     },
     "execution_count": 31,
     "metadata": {},
     "output_type": "execute_result"
    }
   ],
   "source": [
    "data.z.std()**2 ## Varianza"
   ]
  },
  {
   "cell_type": "code",
   "execution_count": 32,
   "metadata": {},
   "outputs": [
    {
     "name": "stdout",
     "output_type": "stream",
     "text": [
      "Coeficiente de variación\n",
      "Distancia z: 0.23371360128894872\n",
      "Tamaño R: 0.5548359698768583\n"
     ]
    }
   ],
   "source": [
    "# Coeficiente de variación es la desviación estándar dividida la media muestral. Para comparar entre v.a.\n",
    "print(\"Coeficiente de variación\")\n",
    "print(\"Distancia z:\", sp.stats.variation(data.z))\n",
    "print(\"Tamaño R:\", sp.stats.variation(data.R))"
   ]
  },
  {
   "cell_type": "code",
   "execution_count": 33,
   "metadata": {
    "scrolled": true
   },
   "outputs": [
    {
     "data": {
      "text/plain": [
       "z   -0.113291\n",
       "R    3.905399\n",
       "dtype: float64"
      ]
     },
     "execution_count": 33,
     "metadata": {},
     "output_type": "execute_result"
    }
   ],
   "source": [
    "# coeficiente de asimetría\n",
    "# asimetría = 0 => Distribución simétrica\n",
    "# asimetría > 0 => Distribución asimétrica a la derecha\n",
    "# asimetría < 0 => Distribución asimétrica a la izquierda\n",
    "data[['z','R']].skew()"
   ]
  },
  {
   "cell_type": "code",
   "execution_count": 34,
   "metadata": {},
   "outputs": [],
   "source": [
    "# Coeficiente de asimetría con quantiles\n",
    "# asimetría = 0 => Distribución simétrica\n",
    "# asimetría > 0 => Distribución asimétrica a la derecha\n",
    "# asimetría < 0 => Distribución asimétrica a la izquierda\n",
    "def quartile_skew(x):\n",
    "  q = x.quantile([.25, .50, .75])\n",
    "  return ((q[0.75] - q[0.5]) - (q[0.5] - q[0.25])) / (q[0.75] - q[0.25])"
   ]
  },
  {
   "cell_type": "code",
   "execution_count": 35,
   "metadata": {
    "scrolled": true
   },
   "outputs": [
    {
     "name": "stdout",
     "output_type": "stream",
     "text": [
      "0.004086748300742492\n",
      "0.14170924170414373\n"
     ]
    }
   ],
   "source": [
    "print(quartile_skew(data.z))\n",
    "print(quartile_skew(data.R))"
   ]
  },
  {
   "cell_type": "code",
   "execution_count": 36,
   "metadata": {},
   "outputs": [
    {
     "data": {
      "text/plain": [
       "z    -1.170660\n",
       "R    63.526375\n",
       "dtype: float64"
      ]
     },
     "execution_count": 36,
     "metadata": {},
     "output_type": "execute_result"
    }
   ],
   "source": [
    "# Distribución usando kurtosis\n",
    "# Si kurtosis < 3 la distribución es Platicúrtica -^-\n",
    "# Si kurtosis = 3 la distribución es Mesocúrtica ---\n",
    "# Si kurtosis > 3 la distribución es Leptocúrtica -|-\n",
    "data[['z','R']].kurt()"
   ]
  },
  {
   "cell_type": "markdown",
   "metadata": {},
   "source": [
    "Una curtosis grande implica una mayor concentración de valores de la variable tanto muy cerca de la media de la distribución (pico) como muy lejos de ella (colas), al tiempo que existe una relativamente menor frecuencia de valores intermedios.\n",
    "\n",
    "Esto explica una forma de la distribución de frecuencias/probabilidad con colas más gruesas, con un centro más apuntado y una menor proporción de valores intermedios entre el pico y colas.\n",
    "\n",
    "**Una mayor curtosis no implica una mayor varianza, ni viceversa.**"
   ]
  },
  {
   "cell_type": "code",
   "execution_count": 62,
   "metadata": {},
   "outputs": [],
   "source": [
    "def calc_percentile(percentile,data,columna):\n",
    "    percentile_calculado = data.z.quantile(percentile / 100)\n",
    "    n_below = len(data[data.z < percentile_calculado])\n",
    "    n_above = len(data[data.z > percentile_calculado])\n",
    "    print('Percentil {} de la columna {}: {}'.format(percentile, columna, percentile_calculado))\n",
    "    print('% de datos menor que percentil {}: {}'.format(k, n_below / len(data)))\n",
    "    print('% de datos mayor que percentil {}: {}'.format(k, n_above / len(data)))"
   ]
  },
  {
   "cell_type": "code",
   "execution_count": 63,
   "metadata": {},
   "outputs": [
    {
     "name": "stdout",
     "output_type": "stream",
     "text": [
      "Percentil 90 de la columna z: 0.047277679\n",
      "% de datos menor que percentil 90: 0.8999913139779809\n",
      "% de datos mayor que percentil 90: 0.10000868602201907\n"
     ]
    }
   ],
   "source": [
    "calc_percentile(90,data,'z')"
   ]
  },
  {
   "cell_type": "code",
   "execution_count": 38,
   "metadata": {},
   "outputs": [
    {
     "data": {
      "text/plain": [
       "<AxesSubplot:xlabel='z'>"
      ]
     },
     "execution_count": 38,
     "metadata": {},
     "output_type": "execute_result"
    },
    {
     "data": {
      "image/png": "[encoded data removed]",
      "text/plain": [
       "<Figure size 864x288 with 1 Axes>"
      ]
     },
     "metadata": {
      "needs_background": "light"
     },
     "output_type": "display_data"
    }
   ],
   "source": [
    "plt.figure(figsize=(12, 4))\n",
    "max_limit = data.z.quantile(.90)\n",
    "seaborn.boxenplot(x=data[data['z'] < max_limit]['z'])"
   ]
  },
  {
   "cell_type": "code",
   "execution_count": 39,
   "metadata": {},
   "outputs": [],
   "source": [
    "def clean_outliers_q3(dataset, column_name):\n",
    "    \"\"\"Returns dataset removing the outlier rows from column @column_name.\"\"\"\n",
    "    interesting_col = dataset[column_name]\n",
    "    # Here we can remove the outliers from both ends, or even add more restrictions.\n",
    "    mask_outlier = (interesting_col <= (2.5 * interesting_col.quantile(.75)))\n",
    "    return dataset[mask_outlier]\n",
    "\n",
    "def clean_outliers_sd(dataset, column_name):\n",
    "    \"\"\"Returns dataset removing the outlier rows from column @column_name.\"\"\"\n",
    "    interesting_col = dataset[column_name]\n",
    "    # Here we can remove the outliers from both ends, or even add more restrictions.\n",
    "    mask_outlier = (\n",
    "        np.abs(interesting_col - interesting_col.mean()) <=\n",
    "        (2.5 * interesting_col.std()))\n",
    "    return dataset[mask_outlier]"
   ]
  },
  {
   "cell_type": "code",
   "execution_count": 40,
   "metadata": {},
   "outputs": [
    {
     "data": {
      "image/png": "[encoded data removed]",
      "text/plain": [
       "<Figure size 792x252 with 1 Axes>"
      ]
     },
     "metadata": {
      "needs_background": "light"
     },
     "output_type": "display_data"
    }
   ],
   "source": [
    "plt.rcParams[\"figure.figsize\"] = [11.00, 3.50]\n",
    "plt.rcParams[\"figure.autolayout\"] = True\n",
    "data_clean_q3 = clean_outliers_q3(data,'R')['R']\n",
    "ax = seaborn.histplot(data_clean_q3, kde=True)\n",
    "plt.axvline(data_clean_q3.mean(), color='red')\n",
    "plt.axvline(data_clean_q3.median(), color='green')\n",
    "plt.title(\"Histograma del tamaño de las galaxias con clean outliers q3\")\n",
    "#ax.lines[0].remove()\n",
    "plt.show()"
   ]
  },
  {
   "cell_type": "code",
   "execution_count": 41,
   "metadata": {
    "scrolled": true
   },
   "outputs": [
    {
     "data": {
      "image/png": "[encoded data removed]",
      "text/plain": [
       "<Figure size 792x252 with 1 Axes>"
      ]
     },
     "metadata": {
      "needs_background": "light"
     },
     "output_type": "display_data"
    }
   ],
   "source": [
    "plt.rcParams[\"figure.figsize\"] = [11.00, 3.50]\n",
    "plt.rcParams[\"figure.autolayout\"] = True\n",
    "data_clean_sd = clean_outliers_sd(data,'R')['R']\n",
    "ax = seaborn.histplot(data_clean_sd, kde=True)\n",
    "plt.axvline(data_clean_sd.mean(), color='red')\n",
    "plt.axvline(data_clean_sd.median(), color='green')\n",
    "plt.title(\"Histograma del tamaño de las galaxias\")\n",
    "#ax.lines[0].remove()\n",
    "plt.show()"
   ]
  },
  {
   "cell_type": "code",
   "execution_count": 42,
   "metadata": {},
   "outputs": [],
   "source": [
    "def remove_outlier(df_in, col_name, iqr_factor):\n",
    "    \"\"\"\n",
    "  IQR outliers removal (https://machinelearningmastery.com/how-to-use-statistics-to-identify-outliers-in-data/)\n",
    "  accept a dataframe, remove outliers, return cleaned data in a new dataframe\n",
    "  see http://www.itl.nist.gov/div898/handbook/prc/section1/prc16.htm\n",
    "  \"\"\"\n",
    "    q1 = df_in[col_name].quantile(0.25)\n",
    "    q3 = df_in[col_name].quantile(0.75)\n",
    "    iqr = q3 - q1  # interquartile range\n",
    "    fence_low = q1 - iqr_factor * iqr\n",
    "    fence_high = q3 + iqr_factor * iqr\n",
    "    df_inliers = df_in.loc[\n",
    "        (df_in[col_name] > fence_low) & (df_in[col_name] < fence_high)\n",
    "    ]\n",
    "    df_outliers = df_in.loc[\n",
    "        (df_in[col_name] < fence_low) | (df_in[col_name] > fence_high)\n",
    "    ]\n",
    "    return df_inliers, df_outliers"
   ]
  },
  {
   "cell_type": "code",
   "execution_count": 43,
   "metadata": {},
   "outputs": [
    {
     "data": {
      "text/plain": [
       "((90522, 14), (1580, 14))"
      ]
     },
     "execution_count": 43,
     "metadata": {},
     "output_type": "execute_result"
    }
   ],
   "source": [
    "iqr_factor = 2.5\n",
    "df_main_inliers, df_main_outliers = remove_outlier(data, \"R\", iqr_factor)\n",
    "df_main_inliers.shape, df_main_outliers.shape"
   ]
  },
  {
   "cell_type": "code",
   "execution_count": 44,
   "metadata": {},
   "outputs": [
    {
     "data": {
      "image/png": "[encoded data removed]",
      "text/plain": [
       "<Figure size 792x252 with 1 Axes>"
      ]
     },
     "metadata": {
      "needs_background": "light"
     },
     "output_type": "display_data"
    }
   ],
   "source": [
    "plt.rcParams[\"figure.figsize\"] = [11.00, 3.50]\n",
    "plt.rcParams[\"figure.autolayout\"] = True\n",
    "ax = seaborn.histplot(df_main_inliers.R, kde=True)\n",
    "plt.axvline(df_main_inliers.R.mean(), color='red')\n",
    "plt.axvline(df_main_inliers.R.median(), color='green')\n",
    "plt.title(\"Histograma del tamaño de las galaxias\")\n",
    "#ax.lines[0].remove()\n",
    "plt.show()"
   ]
  },
  {
   "cell_type": "code",
   "execution_count": 45,
   "metadata": {},
   "outputs": [
    {
     "name": "stderr",
     "output_type": "stream",
     "text": [
      "<ipython-input-45-fc3fc3a445ac>:9: UserWarning: Matplotlib is currently using module://ipykernel.pylab.backend_inline, which is a non-GUI backend, so cannot show the figure.\n",
      "  fig.show()\n"
     ]
    },
    {
     "data": {
      "image/png": "[encoded data removed]",
      "text/plain": [
       "<Figure size 720x216 with 3 Axes>"
      ]
     },
     "metadata": {
      "needs_background": "light"
     },
     "output_type": "display_data"
    }
   ],
   "source": [
    "data_clean_sd = clean_outliers_sd(data,'R')['R']\n",
    "fig, ax = plt.subplots(ncols=3, figsize=(10,3), sharey='row')\n",
    "\n",
    "\n",
    "seaborn.histplot(data_clean_sd.dropna(), ax=ax[0], stat='frequency')\n",
    "seaborn.histplot(data_clean_sd.dropna(), ax=ax[1], bins=20, stat='frequency')\n",
    "seaborn.histplot(data_clean_sd.dropna(), ax=ax[2], bins=5, stat='frequency')\n",
    "\n",
    "fig.show()"
   ]
  },
  {
   "cell_type": "markdown",
   "metadata": {},
   "source": [
    "# Valores característicos "
   ]
  },
  {
   "cell_type": "markdown",
   "metadata": {},
   "source": [
    "Mostrar los valores explícitos característicos de la distribución **z** de las galaxias elípticas, espirales, irregulares."
   ]
  },
  {
   "cell_type": "code",
   "execution_count": 46,
   "metadata": {},
   "outputs": [
    {
     "data": {
      "text/plain": [
       "1.0"
      ]
     },
     "execution_count": 46,
     "metadata": {},
     "output_type": "execute_result"
    }
   ],
   "source": [
    "p_above_avg = len(data['z'] >= data['z'].mean()) / len(data)\n",
    "p_above_avg"
   ]
  },
  {
   "cell_type": "code",
   "execution_count": 47,
   "metadata": {},
   "outputs": [
    {
     "data": {
      "text/html": [
       "<div>\n",
       "<style scoped>\n",
       "    .dataframe tbody tr th:only-of-type {\n",
       "        vertical-align: middle;\n",
       "    }\n",
       "\n",
       "    .dataframe tbody tr th {\n",
       "        vertical-align: top;\n",
       "    }\n",
       "\n",
       "    .dataframe thead tr th {\n",
       "        text-align: left;\n",
       "    }\n",
       "\n",
       "    .dataframe thead tr:last-of-type th {\n",
       "        text-align: right;\n",
       "    }\n",
       "</style>\n",
       "<table border=\"1\" class=\"dataframe\">\n",
       "  <thead>\n",
       "    <tr>\n",
       "      <th></th>\n",
       "      <th colspan=\"8\" halign=\"left\">ra</th>\n",
       "      <th colspan=\"2\" halign=\"left\">dec</th>\n",
       "      <th>...</th>\n",
       "      <th colspan=\"2\" halign=\"left\">espiral</th>\n",
       "      <th colspan=\"8\" halign=\"left\">irregular</th>\n",
       "    </tr>\n",
       "    <tr>\n",
       "      <th></th>\n",
       "      <th>count</th>\n",
       "      <th>mean</th>\n",
       "      <th>std</th>\n",
       "      <th>min</th>\n",
       "      <th>25%</th>\n",
       "      <th>50%</th>\n",
       "      <th>75%</th>\n",
       "      <th>max</th>\n",
       "      <th>count</th>\n",
       "      <th>mean</th>\n",
       "      <th>...</th>\n",
       "      <th>75%</th>\n",
       "      <th>max</th>\n",
       "      <th>count</th>\n",
       "      <th>mean</th>\n",
       "      <th>std</th>\n",
       "      <th>min</th>\n",
       "      <th>25%</th>\n",
       "      <th>50%</th>\n",
       "      <th>75%</th>\n",
       "      <th>max</th>\n",
       "    </tr>\n",
       "    <tr>\n",
       "      <th>clase</th>\n",
       "      <th></th>\n",
       "      <th></th>\n",
       "      <th></th>\n",
       "      <th></th>\n",
       "      <th></th>\n",
       "      <th></th>\n",
       "      <th></th>\n",
       "      <th></th>\n",
       "      <th></th>\n",
       "      <th></th>\n",
       "      <th></th>\n",
       "      <th></th>\n",
       "      <th></th>\n",
       "      <th></th>\n",
       "      <th></th>\n",
       "      <th></th>\n",
       "      <th></th>\n",
       "      <th></th>\n",
       "      <th></th>\n",
       "      <th></th>\n",
       "      <th></th>\n",
       "    </tr>\n",
       "  </thead>\n",
       "  <tbody>\n",
       "    <tr>\n",
       "      <th>E</th>\n",
       "      <td>8257.0</td>\n",
       "      <td>182.056163</td>\n",
       "      <td>61.817796</td>\n",
       "      <td>0.166083</td>\n",
       "      <td>151.083448</td>\n",
       "      <td>185.290733</td>\n",
       "      <td>224.246090</td>\n",
       "      <td>359.873402</td>\n",
       "      <td>8257.0</td>\n",
       "      <td>24.479357</td>\n",
       "      <td>...</td>\n",
       "      <td>0.0</td>\n",
       "      <td>0.0</td>\n",
       "      <td>8257.0</td>\n",
       "      <td>0.0</td>\n",
       "      <td>0.0</td>\n",
       "      <td>0.0</td>\n",
       "      <td>0.0</td>\n",
       "      <td>0.0</td>\n",
       "      <td>0.0</td>\n",
       "      <td>0.0</td>\n",
       "    </tr>\n",
       "    <tr>\n",
       "      <th>I</th>\n",
       "      <td>53799.0</td>\n",
       "      <td>181.363089</td>\n",
       "      <td>60.920518</td>\n",
       "      <td>0.008745</td>\n",
       "      <td>150.548485</td>\n",
       "      <td>183.516062</td>\n",
       "      <td>222.932832</td>\n",
       "      <td>359.965567</td>\n",
       "      <td>53799.0</td>\n",
       "      <td>24.870538</td>\n",
       "      <td>...</td>\n",
       "      <td>0.0</td>\n",
       "      <td>0.0</td>\n",
       "      <td>53799.0</td>\n",
       "      <td>1.0</td>\n",
       "      <td>0.0</td>\n",
       "      <td>1.0</td>\n",
       "      <td>1.0</td>\n",
       "      <td>1.0</td>\n",
       "      <td>1.0</td>\n",
       "      <td>1.0</td>\n",
       "    </tr>\n",
       "    <tr>\n",
       "      <th>S</th>\n",
       "      <td>30046.0</td>\n",
       "      <td>180.324280</td>\n",
       "      <td>61.452183</td>\n",
       "      <td>0.019187</td>\n",
       "      <td>149.360449</td>\n",
       "      <td>182.206998</td>\n",
       "      <td>221.864343</td>\n",
       "      <td>359.921854</td>\n",
       "      <td>30046.0</td>\n",
       "      <td>24.528041</td>\n",
       "      <td>...</td>\n",
       "      <td>1.0</td>\n",
       "      <td>1.0</td>\n",
       "      <td>30046.0</td>\n",
       "      <td>0.0</td>\n",
       "      <td>0.0</td>\n",
       "      <td>0.0</td>\n",
       "      <td>0.0</td>\n",
       "      <td>0.0</td>\n",
       "      <td>0.0</td>\n",
       "      <td>0.0</td>\n",
       "    </tr>\n",
       "  </tbody>\n",
       "</table>\n",
       "<p>3 rows × 104 columns</p>\n",
       "</div>"
      ],
      "text/plain": [
       "            ra                                                           \\\n",
       "         count        mean        std       min         25%         50%   \n",
       "clase                                                                     \n",
       "E       8257.0  182.056163  61.817796  0.166083  151.083448  185.290733   \n",
       "I      53799.0  181.363089  60.920518  0.008745  150.548485  183.516062   \n",
       "S      30046.0  180.324280  61.452183  0.019187  149.360449  182.206998   \n",
       "\n",
       "                                   dec             ... espiral      irregular  \\\n",
       "              75%         max    count       mean  ...     75%  max     count   \n",
       "clase                                              ...                          \n",
       "E      224.246090  359.873402   8257.0  24.479357  ...     0.0  0.0    8257.0   \n",
       "I      222.932832  359.965567  53799.0  24.870538  ...     0.0  0.0   53799.0   \n",
       "S      221.864343  359.921854  30046.0  24.528041  ...     1.0  1.0   30046.0   \n",
       "\n",
       "                                          \n",
       "      mean  std  min  25%  50%  75%  max  \n",
       "clase                                     \n",
       "E      0.0  0.0  0.0  0.0  0.0  0.0  0.0  \n",
       "I      1.0  0.0  1.0  1.0  1.0  1.0  1.0  \n",
       "S      0.0  0.0  0.0  0.0  0.0  0.0  0.0  \n",
       "\n",
       "[3 rows x 104 columns]"
      ]
     },
     "execution_count": 47,
     "metadata": {},
     "output_type": "execute_result"
    }
   ],
   "source": [
    "data.groupby('clase').describe()"
   ]
  },
  {
   "cell_type": "markdown",
   "metadata": {},
   "source": [
    "# Distribución Normal"
   ]
  },
  {
   "cell_type": "markdown",
   "metadata": {},
   "source": [
    "- Grafique la distribución Normal variando sus estadísticos. Realice una breve descripción de los cambios que nota en estos."
   ]
  },
  {
   "cell_type": "markdown",
   "metadata": {},
   "source": [
    "Algunos valores físicos de las galaxias no pueden ser determinados. Muchas veces la alternativa al usual *NaN* es llenar la celda del valor faltante con cero o con números de valor muy grande o muy chico discordantes a los valores usuales que toma la cantidad física. \n",
    "\n",
    "Se puede optar por ignorar dicho número o remplazarlo por cero, el valor medio o eliminarlo en el caso que el dataset sea de una gran dimensión."
   ]
  },
  {
   "cell_type": "markdown",
   "metadata": {},
   "source": [
    "El caso anteriormente se observa con la variable *color* donde dos de las galaxias no tienen su color determinado. \n",
    "\n",
    "- Dele solución \n",
    "- Ajuste la distribución de la variable **color** con el tamaño del bin=0.1 a una Normal usando *sns.distplot* \n",
    "- Explique que observa"
   ]
  },
  {
   "cell_type": "markdown",
   "metadata": {},
   "source": [
    "# Probabilidad"
   ]
  },
  {
   "cell_type": "markdown",
   "metadata": {},
   "source": [
    "- Calcule la Probabilidad marginal de cada tipo morfologico y grafiquela."
   ]
  },
  {
   "cell_type": "markdown",
   "metadata": {},
   "source": [
    "- Calcule la probabilida conjunta las galaxias de clase = E con el color  mayor a -2.1"
   ]
  },
  {
   "cell_type": "markdown",
   "metadata": {},
   "source": [
    "- Analice la correlación entre dos de las variables a través de chi-cuadrado. Muestre esta correlación a través de mapas de calor."
   ]
  },
  {
   "cell_type": "markdown",
   "metadata": {},
   "source": [
    "# Conclusiones:"
   ]
  }
 ],
 "metadata": {
  "kernelspec": {
   "display_name": "Python 3",
   "language": "python",
   "name": "python3"
  },
  "language_info": {
   "codemirror_mode": {
    "name": "ipython",
    "version": 3
   },
   "file_extension": ".py",
   "mimetype": "text/x-python",
   "name": "python",
   "nbconvert_exporter": "python",
   "pygments_lexer": "ipython3",
   "version": "3.9.5"
  }
 },
 "nbformat": 4,
 "nbformat_minor": 4
}
